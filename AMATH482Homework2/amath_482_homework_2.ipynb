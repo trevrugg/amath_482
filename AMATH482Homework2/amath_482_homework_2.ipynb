{
 "cells": [
  {
   "cell_type": "code",
   "execution_count": 153,
   "metadata": {},
   "outputs": [],
   "source": [
    "import numpy as np\n",
    "from numpy.linalg import norm\n",
    "import os\n",
    "from sklearn.decomposition import PCA\n",
    "import matplotlib.pyplot as plt\n",
    "from mpl_toolkits.mplot3d import Axes3D\n",
    "from sklearn.preprocessing import StandardScaler\n",
    "from sklearn.metrics import accuracy_score\n",
    "\n",
    "import plotly.express as px\n",
    "import plotly.io as pio\n",
    "import pandas as pd\n",
    "\n"
   ]
  },
  {
   "cell_type": "code",
   "execution_count": 28,
   "metadata": {},
   "outputs": [],
   "source": [
    "# Importing necessary data\n",
    "\n",
    "jumping_1_train_path = \"/Users/trevorruggeri/Documents/AMATH482/hw2data/train/jumping_1.npy\"\n",
    "jumping_2_train_path = \"/Users/trevorruggeri/Documents/AMATH482/hw2data/train/jumping_2.npy\"\n",
    "jumping_3_train_path = \"/Users/trevorruggeri/Documents/AMATH482/hw2data/train/jumping_3.npy\"\n",
    "jumping_4_train_path = \"/Users/trevorruggeri/Documents/AMATH482/hw2data/train/jumping_4.npy\"\n",
    "jumping_5_train_path = \"/Users/trevorruggeri/Documents/AMATH482/hw2data/train/jumping_5.npy\"\n",
    "\n",
    "running_1_train_path = \"/Users/trevorruggeri/Documents/AMATH482/hw2data/train/running_1.npy\"\n",
    "running_2_train_path = \"/Users/trevorruggeri/Documents/AMATH482/hw2data/train/running_2.npy\"\n",
    "running_3_train_path = \"/Users/trevorruggeri/Documents/AMATH482/hw2data/train/running_3.npy\"\n",
    "running_4_train_path = \"/Users/trevorruggeri/Documents/AMATH482/hw2data/train/running_4.npy\"\n",
    "running_5_train_path = \"/Users/trevorruggeri/Documents/AMATH482/hw2data/train/running_5.npy\"\n",
    "\n",
    "walking_1_train_path = \"/Users/trevorruggeri/Documents/AMATH482/hw2data/train/walking_1.npy\"\n",
    "walking_2_train_path = \"/Users/trevorruggeri/Documents/AMATH482/hw2data/train/walking_2.npy\"\n",
    "walking_3_train_path = \"/Users/trevorruggeri/Documents/AMATH482/hw2data/train/walking_3.npy\"\n",
    "walking_4_train_path = \"/Users/trevorruggeri/Documents/AMATH482/hw2data/train/walking_4.npy\"\n",
    "walking_5_train_path = \"/Users/trevorruggeri/Documents/AMATH482/hw2data/train/walking_5.npy\"\n",
    "\n",
    "jumping_1_train = np.load(jumping_1_train_path)\n",
    "jumping_2_train = np.load(jumping_2_train_path)\n",
    "jumping_3_train = np.load(jumping_3_train_path)\n",
    "jumping_4_train = np.load(jumping_4_train_path)\n",
    "jumping_5_train = np.load(jumping_5_train_path)\n",
    "\n",
    "running_1_train = np.load(running_1_train_path)\n",
    "running_2_train = np.load(running_2_train_path)\n",
    "running_3_train = np.load(running_3_train_path)\n",
    "running_4_train = np.load(running_4_train_path)\n",
    "running_5_train = np.load(running_5_train_path)\n",
    "\n",
    "walking_1_train = np.load(walking_1_train_path)\n",
    "walking_2_train = np.load(walking_2_train_path)\n",
    "walking_3_train = np.load(walking_3_train_path)\n",
    "walking_4_train = np.load(walking_4_train_path)\n",
    "walking_5_train = np.load(walking_5_train_path)\n"
   ]
  },
  {
   "cell_type": "code",
   "execution_count": 49,
   "metadata": {},
   "outputs": [
    {
     "name": "stdout",
     "output_type": "stream",
     "text": [
      "(1500, 114)\n"
     ]
    }
   ],
   "source": [
    "arrays = [jumping_1_train, jumping_2_train, jumping_3_train, jumping_4_train, jumping_5_train, \n",
    "          running_1_train, running_2_train, running_3_train, running_4_train, running_5_train,\n",
    "          walking_1_train, walking_2_train, walking_3_train, walking_4_train, walking_5_train]\n",
    "\n",
    "x_train = np.hstack(arrays)\n",
    "\n",
    "# Change shape to 1500 x 114\n",
    "x_train = x_train.T\n",
    "mean_train = np.mean(x_train, axis = 0)\n",
    "\n",
    "# Center x_train\n",
    "x_train = x_train - mean_train\n",
    "\n",
    "print(x_train.shape)"
   ]
  },
  {
   "cell_type": "code",
   "execution_count": 58,
   "metadata": {},
   "outputs": [
    {
     "name": "stdout",
     "output_type": "stream",
     "text": [
      "Number of modes: 1, Frobenius norm: 0.6880121582479749\n",
      "Number of modes: 2, Frobenius norm: 0.8524018928475736\n",
      "Number of modes: 3, Frobenius norm: 0.9107513037069751\n",
      "Number of modes: 4, Frobenius norm: 0.9387250708058195\n",
      "Number of modes: 5, Frobenius norm: 0.9554013904039478\n"
     ]
    }
   ],
   "source": [
    "# Testing number of modes\n",
    "\n",
    "frob_norm_arr = np.zeros(5)\n",
    "\n",
    "for num_modes in range(1, 6):\n",
    "    pca = PCA(n_components = num_modes)\n",
    "    x_train_reduced = pca.fit_transform(x_train)\n",
    "\n",
    "    x_train_reconstructed = pca.inverse_transform(x_train_reduced)\n",
    "    frobenius_norm = norm(x_train_reconstructed)/norm(x_train)\n",
    "\n",
    "    print(f\"Number of modes: {num_modes}, Frobenius norm: {frobenius_norm}\")\n"
   ]
  },
  {
   "cell_type": "code",
   "execution_count": 157,
   "metadata": {},
   "outputs": [
    {
     "data": {
      "application/vnd.plotly.v1+json": {
       "config": {
        "plotlyServerURL": "https://plot.ly"
       },
       "data": [
        {
         "hovertemplate": "k-values=%{x}<br>norm=%{y}<extra></extra>",
         "legendgroup": "",
         "marker": {
          "color": "#636efa",
          "symbol": "circle"
         },
         "mode": "markers",
         "name": "",
         "orientation": "v",
         "showlegend": false,
         "type": "scatter",
         "x": [
          1,
          2,
          3,
          4,
          5,
          6,
          7,
          8,
          9,
          10,
          11,
          12,
          13,
          14,
          15,
          16,
          17,
          18,
          19,
          20,
          21,
          22,
          23,
          24,
          25,
          26,
          27,
          28,
          29,
          30,
          31,
          32,
          33,
          34,
          35,
          36,
          37,
          38,
          39,
          40,
          41,
          42,
          43,
          44,
          45,
          46,
          47,
          48,
          49,
          50,
          51,
          52,
          53,
          54,
          55,
          56,
          57,
          58,
          59,
          60,
          61,
          62,
          63,
          64,
          65,
          66,
          67,
          68,
          69,
          70,
          71,
          72,
          73,
          74,
          75,
          76,
          77,
          78,
          79,
          80,
          81,
          82,
          83,
          84,
          85,
          86,
          87,
          88,
          89,
          90,
          91,
          92,
          93,
          94,
          95,
          96,
          97,
          98,
          99,
          100,
          101,
          102,
          103,
          104,
          105,
          106,
          107,
          108,
          109,
          110,
          111,
          112,
          113,
          114
         ],
         "xaxis": "x",
         "y": [
          0.6880121582479748,
          0.8524018928475727,
          0.9107513037069739,
          0.9387250708058171,
          0.9554013904039507,
          0.9670379357806295,
          0.9767304191889037,
          0.9826876141833315,
          0.9869738156371076,
          0.9902410294394449,
          0.9925836046724283,
          0.9945035276107329,
          0.9958980483064314,
          0.9968893803045965,
          0.997569205845225,
          0.9980909547039646,
          0.9985719884065242,
          0.9988547496516905,
          0.9990537938038151,
          0.9992328723679239,
          0.9993441687032839,
          0.9994477940596328,
          0.9995311641614054,
          0.9996019103500523,
          0.9996603855184593,
          0.9997129602380367,
          0.9997568310834508,
          0.9997949734212076,
          0.9998223428966035,
          0.9998494582070242,
          0.9998711011075905,
          0.999889677399007,
          0.9999062294980592,
          0.9999220731065441,
          0.9999348571821994,
          0.9999443525458911,
          0.999953479650732,
          0.9999612484616877,
          0.999966944337656,
          0.9999710513542429,
          0.9999750641111286,
          0.999978432599635,
          0.9999817248171946,
          0.999984679927538,
          0.9999872342603947,
          0.9999893488201154,
          0.9999910852275126,
          0.9999926124495769,
          0.9999939757859297,
          0.999995255979752,
          0.9999963796726968,
          0.999997224199232,
          0.9999977218414574,
          0.999998178429527,
          0.9999985709718873,
          0.9999989048188488,
          0.9999991371323965,
          0.9999993115426558,
          0.999999457175074,
          0.9999995838110783,
          0.9999996807223062,
          0.9999997672642815,
          0.9999998326080458,
          0.9999998840954588,
          0.9999999271722915,
          0.9999999538620483,
          0.9999999748072655,
          0.9999999823962963,
          0.9999999896415823,
          0.9999999931484456,
          0.9999999945361596,
          0.9999999955930237,
          0.9999999965123795,
          0.9999999971038018,
          0.9999999976493984,
          0.9999999981078348,
          0.9999999984127017,
          0.9999999986801059,
          0.999999998898147,
          0.9999999991008102,
          0.9999999992560216,
          0.9999999993974291,
          0.9999999994984073,
          0.9999999995906991,
          0.9999999996684122,
          0.9999999997378594,
          0.9999999997959026,
          0.9999999998435432,
          0.9999999998767192,
          0.9999999999044131,
          0.9999999999289153,
          0.9999999999476319,
          0.9999999999620186,
          0.9999999999745541,
          0.9999999999820758,
          0.9999999999880812,
          0.9999999999940413,
          0.9999999999967476,
          0.9999999999989037,
          0.9999999999993399,
          0.9999999999996265,
          0.999999999999792,
          0.9999999999998873,
          0.9999999999999853,
          1.000000000000001,
          1.000000000000001,
          1.000000000000001,
          1.000000000000001,
          1.000000000000001,
          1.000000000000001,
          1.000000000000001,
          1.000000000000001,
          1.000000000000001,
          1.000000000000001
         ],
         "yaxis": "y"
        }
       ],
       "layout": {
        "legend": {
         "tracegroupgap": 0
        },
        "template": {
         "data": {
          "bar": [
           {
            "error_x": {
             "color": "#2a3f5f"
            },
            "error_y": {
             "color": "#2a3f5f"
            },
            "marker": {
             "line": {
              "color": "#E5ECF6",
              "width": 0.5
             },
             "pattern": {
              "fillmode": "overlay",
              "size": 10,
              "solidity": 0.2
             }
            },
            "type": "bar"
           }
          ],
          "barpolar": [
           {
            "marker": {
             "line": {
              "color": "#E5ECF6",
              "width": 0.5
             },
             "pattern": {
              "fillmode": "overlay",
              "size": 10,
              "solidity": 0.2
             }
            },
            "type": "barpolar"
           }
          ],
          "carpet": [
           {
            "aaxis": {
             "endlinecolor": "#2a3f5f",
             "gridcolor": "white",
             "linecolor": "white",
             "minorgridcolor": "white",
             "startlinecolor": "#2a3f5f"
            },
            "baxis": {
             "endlinecolor": "#2a3f5f",
             "gridcolor": "white",
             "linecolor": "white",
             "minorgridcolor": "white",
             "startlinecolor": "#2a3f5f"
            },
            "type": "carpet"
           }
          ],
          "choropleth": [
           {
            "colorbar": {
             "outlinewidth": 0,
             "ticks": ""
            },
            "type": "choropleth"
           }
          ],
          "contour": [
           {
            "colorbar": {
             "outlinewidth": 0,
             "ticks": ""
            },
            "colorscale": [
             [
              0,
              "#0d0887"
             ],
             [
              0.1111111111111111,
              "#46039f"
             ],
             [
              0.2222222222222222,
              "#7201a8"
             ],
             [
              0.3333333333333333,
              "#9c179e"
             ],
             [
              0.4444444444444444,
              "#bd3786"
             ],
             [
              0.5555555555555556,
              "#d8576b"
             ],
             [
              0.6666666666666666,
              "#ed7953"
             ],
             [
              0.7777777777777778,
              "#fb9f3a"
             ],
             [
              0.8888888888888888,
              "#fdca26"
             ],
             [
              1,
              "#f0f921"
             ]
            ],
            "type": "contour"
           }
          ],
          "contourcarpet": [
           {
            "colorbar": {
             "outlinewidth": 0,
             "ticks": ""
            },
            "type": "contourcarpet"
           }
          ],
          "heatmap": [
           {
            "colorbar": {
             "outlinewidth": 0,
             "ticks": ""
            },
            "colorscale": [
             [
              0,
              "#0d0887"
             ],
             [
              0.1111111111111111,
              "#46039f"
             ],
             [
              0.2222222222222222,
              "#7201a8"
             ],
             [
              0.3333333333333333,
              "#9c179e"
             ],
             [
              0.4444444444444444,
              "#bd3786"
             ],
             [
              0.5555555555555556,
              "#d8576b"
             ],
             [
              0.6666666666666666,
              "#ed7953"
             ],
             [
              0.7777777777777778,
              "#fb9f3a"
             ],
             [
              0.8888888888888888,
              "#fdca26"
             ],
             [
              1,
              "#f0f921"
             ]
            ],
            "type": "heatmap"
           }
          ],
          "heatmapgl": [
           {
            "colorbar": {
             "outlinewidth": 0,
             "ticks": ""
            },
            "colorscale": [
             [
              0,
              "#0d0887"
             ],
             [
              0.1111111111111111,
              "#46039f"
             ],
             [
              0.2222222222222222,
              "#7201a8"
             ],
             [
              0.3333333333333333,
              "#9c179e"
             ],
             [
              0.4444444444444444,
              "#bd3786"
             ],
             [
              0.5555555555555556,
              "#d8576b"
             ],
             [
              0.6666666666666666,
              "#ed7953"
             ],
             [
              0.7777777777777778,
              "#fb9f3a"
             ],
             [
              0.8888888888888888,
              "#fdca26"
             ],
             [
              1,
              "#f0f921"
             ]
            ],
            "type": "heatmapgl"
           }
          ],
          "histogram": [
           {
            "marker": {
             "pattern": {
              "fillmode": "overlay",
              "size": 10,
              "solidity": 0.2
             }
            },
            "type": "histogram"
           }
          ],
          "histogram2d": [
           {
            "colorbar": {
             "outlinewidth": 0,
             "ticks": ""
            },
            "colorscale": [
             [
              0,
              "#0d0887"
             ],
             [
              0.1111111111111111,
              "#46039f"
             ],
             [
              0.2222222222222222,
              "#7201a8"
             ],
             [
              0.3333333333333333,
              "#9c179e"
             ],
             [
              0.4444444444444444,
              "#bd3786"
             ],
             [
              0.5555555555555556,
              "#d8576b"
             ],
             [
              0.6666666666666666,
              "#ed7953"
             ],
             [
              0.7777777777777778,
              "#fb9f3a"
             ],
             [
              0.8888888888888888,
              "#fdca26"
             ],
             [
              1,
              "#f0f921"
             ]
            ],
            "type": "histogram2d"
           }
          ],
          "histogram2dcontour": [
           {
            "colorbar": {
             "outlinewidth": 0,
             "ticks": ""
            },
            "colorscale": [
             [
              0,
              "#0d0887"
             ],
             [
              0.1111111111111111,
              "#46039f"
             ],
             [
              0.2222222222222222,
              "#7201a8"
             ],
             [
              0.3333333333333333,
              "#9c179e"
             ],
             [
              0.4444444444444444,
              "#bd3786"
             ],
             [
              0.5555555555555556,
              "#d8576b"
             ],
             [
              0.6666666666666666,
              "#ed7953"
             ],
             [
              0.7777777777777778,
              "#fb9f3a"
             ],
             [
              0.8888888888888888,
              "#fdca26"
             ],
             [
              1,
              "#f0f921"
             ]
            ],
            "type": "histogram2dcontour"
           }
          ],
          "mesh3d": [
           {
            "colorbar": {
             "outlinewidth": 0,
             "ticks": ""
            },
            "type": "mesh3d"
           }
          ],
          "parcoords": [
           {
            "line": {
             "colorbar": {
              "outlinewidth": 0,
              "ticks": ""
             }
            },
            "type": "parcoords"
           }
          ],
          "pie": [
           {
            "automargin": true,
            "type": "pie"
           }
          ],
          "scatter": [
           {
            "fillpattern": {
             "fillmode": "overlay",
             "size": 10,
             "solidity": 0.2
            },
            "type": "scatter"
           }
          ],
          "scatter3d": [
           {
            "line": {
             "colorbar": {
              "outlinewidth": 0,
              "ticks": ""
             }
            },
            "marker": {
             "colorbar": {
              "outlinewidth": 0,
              "ticks": ""
             }
            },
            "type": "scatter3d"
           }
          ],
          "scattercarpet": [
           {
            "marker": {
             "colorbar": {
              "outlinewidth": 0,
              "ticks": ""
             }
            },
            "type": "scattercarpet"
           }
          ],
          "scattergeo": [
           {
            "marker": {
             "colorbar": {
              "outlinewidth": 0,
              "ticks": ""
             }
            },
            "type": "scattergeo"
           }
          ],
          "scattergl": [
           {
            "marker": {
             "colorbar": {
              "outlinewidth": 0,
              "ticks": ""
             }
            },
            "type": "scattergl"
           }
          ],
          "scattermapbox": [
           {
            "marker": {
             "colorbar": {
              "outlinewidth": 0,
              "ticks": ""
             }
            },
            "type": "scattermapbox"
           }
          ],
          "scatterpolar": [
           {
            "marker": {
             "colorbar": {
              "outlinewidth": 0,
              "ticks": ""
             }
            },
            "type": "scatterpolar"
           }
          ],
          "scatterpolargl": [
           {
            "marker": {
             "colorbar": {
              "outlinewidth": 0,
              "ticks": ""
             }
            },
            "type": "scatterpolargl"
           }
          ],
          "scatterternary": [
           {
            "marker": {
             "colorbar": {
              "outlinewidth": 0,
              "ticks": ""
             }
            },
            "type": "scatterternary"
           }
          ],
          "surface": [
           {
            "colorbar": {
             "outlinewidth": 0,
             "ticks": ""
            },
            "colorscale": [
             [
              0,
              "#0d0887"
             ],
             [
              0.1111111111111111,
              "#46039f"
             ],
             [
              0.2222222222222222,
              "#7201a8"
             ],
             [
              0.3333333333333333,
              "#9c179e"
             ],
             [
              0.4444444444444444,
              "#bd3786"
             ],
             [
              0.5555555555555556,
              "#d8576b"
             ],
             [
              0.6666666666666666,
              "#ed7953"
             ],
             [
              0.7777777777777778,
              "#fb9f3a"
             ],
             [
              0.8888888888888888,
              "#fdca26"
             ],
             [
              1,
              "#f0f921"
             ]
            ],
            "type": "surface"
           }
          ],
          "table": [
           {
            "cells": {
             "fill": {
              "color": "#EBF0F8"
             },
             "line": {
              "color": "white"
             }
            },
            "header": {
             "fill": {
              "color": "#C8D4E3"
             },
             "line": {
              "color": "white"
             }
            },
            "type": "table"
           }
          ]
         },
         "layout": {
          "annotationdefaults": {
           "arrowcolor": "#2a3f5f",
           "arrowhead": 0,
           "arrowwidth": 1
          },
          "autotypenumbers": "strict",
          "coloraxis": {
           "colorbar": {
            "outlinewidth": 0,
            "ticks": ""
           }
          },
          "colorscale": {
           "diverging": [
            [
             0,
             "#8e0152"
            ],
            [
             0.1,
             "#c51b7d"
            ],
            [
             0.2,
             "#de77ae"
            ],
            [
             0.3,
             "#f1b6da"
            ],
            [
             0.4,
             "#fde0ef"
            ],
            [
             0.5,
             "#f7f7f7"
            ],
            [
             0.6,
             "#e6f5d0"
            ],
            [
             0.7,
             "#b8e186"
            ],
            [
             0.8,
             "#7fbc41"
            ],
            [
             0.9,
             "#4d9221"
            ],
            [
             1,
             "#276419"
            ]
           ],
           "sequential": [
            [
             0,
             "#0d0887"
            ],
            [
             0.1111111111111111,
             "#46039f"
            ],
            [
             0.2222222222222222,
             "#7201a8"
            ],
            [
             0.3333333333333333,
             "#9c179e"
            ],
            [
             0.4444444444444444,
             "#bd3786"
            ],
            [
             0.5555555555555556,
             "#d8576b"
            ],
            [
             0.6666666666666666,
             "#ed7953"
            ],
            [
             0.7777777777777778,
             "#fb9f3a"
            ],
            [
             0.8888888888888888,
             "#fdca26"
            ],
            [
             1,
             "#f0f921"
            ]
           ],
           "sequentialminus": [
            [
             0,
             "#0d0887"
            ],
            [
             0.1111111111111111,
             "#46039f"
            ],
            [
             0.2222222222222222,
             "#7201a8"
            ],
            [
             0.3333333333333333,
             "#9c179e"
            ],
            [
             0.4444444444444444,
             "#bd3786"
            ],
            [
             0.5555555555555556,
             "#d8576b"
            ],
            [
             0.6666666666666666,
             "#ed7953"
            ],
            [
             0.7777777777777778,
             "#fb9f3a"
            ],
            [
             0.8888888888888888,
             "#fdca26"
            ],
            [
             1,
             "#f0f921"
            ]
           ]
          },
          "colorway": [
           "#636efa",
           "#EF553B",
           "#00cc96",
           "#ab63fa",
           "#FFA15A",
           "#19d3f3",
           "#FF6692",
           "#B6E880",
           "#FF97FF",
           "#FECB52"
          ],
          "font": {
           "color": "#2a3f5f"
          },
          "geo": {
           "bgcolor": "white",
           "lakecolor": "white",
           "landcolor": "#E5ECF6",
           "showlakes": true,
           "showland": true,
           "subunitcolor": "white"
          },
          "hoverlabel": {
           "align": "left"
          },
          "hovermode": "closest",
          "mapbox": {
           "style": "light"
          },
          "paper_bgcolor": "white",
          "plot_bgcolor": "#E5ECF6",
          "polar": {
           "angularaxis": {
            "gridcolor": "white",
            "linecolor": "white",
            "ticks": ""
           },
           "bgcolor": "#E5ECF6",
           "radialaxis": {
            "gridcolor": "white",
            "linecolor": "white",
            "ticks": ""
           }
          },
          "scene": {
           "xaxis": {
            "backgroundcolor": "#E5ECF6",
            "gridcolor": "white",
            "gridwidth": 2,
            "linecolor": "white",
            "showbackground": true,
            "ticks": "",
            "zerolinecolor": "white"
           },
           "yaxis": {
            "backgroundcolor": "#E5ECF6",
            "gridcolor": "white",
            "gridwidth": 2,
            "linecolor": "white",
            "showbackground": true,
            "ticks": "",
            "zerolinecolor": "white"
           },
           "zaxis": {
            "backgroundcolor": "#E5ECF6",
            "gridcolor": "white",
            "gridwidth": 2,
            "linecolor": "white",
            "showbackground": true,
            "ticks": "",
            "zerolinecolor": "white"
           }
          },
          "shapedefaults": {
           "line": {
            "color": "#2a3f5f"
           }
          },
          "ternary": {
           "aaxis": {
            "gridcolor": "white",
            "linecolor": "white",
            "ticks": ""
           },
           "baxis": {
            "gridcolor": "white",
            "linecolor": "white",
            "ticks": ""
           },
           "bgcolor": "#E5ECF6",
           "caxis": {
            "gridcolor": "white",
            "linecolor": "white",
            "ticks": ""
           }
          },
          "title": {
           "x": 0.05
          },
          "xaxis": {
           "automargin": true,
           "gridcolor": "white",
           "linecolor": "white",
           "ticks": "",
           "title": {
            "standoff": 15
           },
           "zerolinecolor": "white",
           "zerolinewidth": 2
          },
          "yaxis": {
           "automargin": true,
           "gridcolor": "white",
           "linecolor": "white",
           "ticks": "",
           "title": {
            "standoff": 15
           },
           "zerolinecolor": "white",
           "zerolinewidth": 2
          }
         }
        },
        "title": {
         "text": "Frobenius norm for different numbers of modes"
        },
        "xaxis": {
         "anchor": "y",
         "domain": [
          0,
          1
         ],
         "title": {
          "text": "k-values"
         }
        },
        "yaxis": {
         "anchor": "x",
         "domain": [
          0,
          1
         ],
         "title": {
          "text": "norm"
         }
        }
       }
      }
     },
     "metadata": {},
     "output_type": "display_data"
    }
   ],
   "source": [
    "# Plotting cumulative energy\n",
    "k_values = np.arange(1,115)\n",
    "norms = np.zeros(114)\n",
    "\n",
    "for k in k_values:\n",
    "    pca = PCA(n_components = k)\n",
    "    x_train_reduced = pca.fit_transform(x_train)\n",
    "\n",
    "    x_train_reconstructed = pca.inverse_transform(x_train_reduced)\n",
    "    frobenius_norm = norm(x_train_reconstructed)/norm(x_train)\n",
    "\n",
    "    norms[k-1] = frobenius_norm\n",
    "\n",
    "df = pd.DataFrame({\n",
    "    \"k-values\": k_values,\n",
    "    \"norm\": norms\n",
    "})\n",
    "\n",
    "fig = px.scatter(df, x = \"k-values\", y = \"norm\", title = \"Frobenius norm for different numbers of modes\")\n",
    "\n",
    "pio.write_image(fig, \"frob_norms.pdf\")\n",
    "\n",
    "fig.show()"
   ]
  },
  {
   "cell_type": "code",
   "execution_count": 73,
   "metadata": {},
   "outputs": [],
   "source": [
    "# Perform PCA\n",
    "pca = PCA(n_components=2)\n",
    "coefficients = pca.fit_transform(x_train)\n",
    "\n",
    "# Extract PC1, PC2, PC3\n",
    "PC1, PC2 = coefficients[:, 0], coefficients[:, 1]"
   ]
  },
  {
   "cell_type": "code",
   "execution_count": 151,
   "metadata": {},
   "outputs": [],
   "source": [
    "categories = np.zeros(500)\n",
    "categories = np.append(categories, np.ones(500))\n",
    "categories = np.append(categories, 2 * np.ones(500))"
   ]
  },
  {
   "cell_type": "code",
   "execution_count": 158,
   "metadata": {},
   "outputs": [
    {
     "data": {
      "application/vnd.plotly.v1+json": {
       "config": {
        "plotlyServerURL": "https://plot.ly"
       },
       "data": [
        {
         "hovertemplate": "category=jumping<br>PC1=%{x}<br>PC2=%{y}<extra></extra>",
         "legendgroup": "jumping",
         "marker": {
          "color": "#636efa",
          "symbol": "circle"
         },
         "mode": "markers",
         "name": "jumping",
         "showlegend": true,
         "type": "scattergl",
         "x": [
          -7.305253413470753,
          -10.40477702304035,
          -6.3629696762173795,
          -5.733531125935025,
          -5.154044639977853,
          -5.602530301367722,
          -5.318832260486794,
          -5.405049776317274,
          -3.720758976751993,
          -2.850412858794182,
          -1.630680566724764,
          -1.5657092609317458,
          -1.2350858420950885,
          -2.397390295050954,
          -2.802745920968566,
          -1.6620892873165116,
          0.21321068671362287,
          0.05771123897585671,
          -0.5601924756195594,
          -0.5428551519284528,
          -0.48736726170313754,
          -0.7508404771844778,
          1.0797523596645477,
          3.0327786246266233,
          4.905044344203301,
          5.05646606863482,
          4.949576221811761,
          4.360117073694772,
          4.734042082103125,
          5.936315210743838,
          6.212012467275495,
          4.155270085182469,
          4.157821772308519,
          5.124677876333754,
          4.741195329808704,
          5.59872884115707,
          7.745624455249314,
          9.092401181562371,
          10.210897489812488,
          11.347756694097422,
          10.157142892930455,
          9.136030789226968,
          10.066591629093264,
          8.264046276478895,
          8.395308873126428,
          8.001278663592592,
          8.377386804214773,
          6.895932209750198,
          5.28877265730183,
          5.82152778444077,
          6.758782599002313,
          6.919391039816437,
          5.022396158384555,
          1.832682388786719,
          3.110614957095358,
          2.205348624177033,
          3.485970646859644,
          2.7957524780687666,
          3.2423551437810145,
          0.8755293181328797,
          1.6056440754555203,
          1.036835841593134,
          3.2318290403917094,
          1.5522679429445991,
          1.2088823869859002,
          0.529121682609667,
          2.259297120253332,
          0.8915589673292006,
          -1.912327697198556,
          -2.012168794458521,
          0.22606982103448026,
          1.7711830947488987,
          0.7039806262171462,
          -2.073495811022471,
          -4.128016657207333,
          -5.831149621546146,
          -5.051314696370231,
          -4.917018394564472,
          -4.374977786834737,
          -6.0168511585465225,
          -4.350957095038664,
          -2.3367517585289463,
          -1.3010776914483864,
          -0.6773050238642282,
          3.4596472087147103,
          7.1019126963155585,
          6.259176814841355,
          2.36638785034899,
          -0.44441777993417525,
          -0.8649028272576139,
          -1.1902605725012776,
          -0.4285045136680516,
          -1.2167433438280368,
          -0.264346573356772,
          0.6650138841488409,
          1.5530149374842501,
          3.1564301803947896,
          3.835516465941388,
          5.269649000478422,
          8.213958023830804,
          -36.084922651978474,
          -36.535661913746935,
          -37.23182346219511,
          -37.21726824938568,
          -35.034928745485715,
          -33.19981584063329,
          -33.66744727071325,
          -34.531802945463916,
          -32.96728369760104,
          -30.780171329818177,
          -31.80364329130608,
          -32.96953939313878,
          -32.14625631842306,
          -31.84890358529351,
          -32.00790170346591,
          -28.98028161583814,
          -28.016229276817214,
          -30.528985505539048,
          -33.860620818153805,
          -36.288901648737124,
          -32.54954836941887,
          -29.007731979929353,
          -27.14160024651184,
          -27.49911614027144,
          -25.801664030001806,
          -18.226422973645224,
          -13.321526827372988,
          -15.662650738518318,
          -25.839171265456724,
          -28.744337490486956,
          -22.12789771207393,
          -25.587583029442094,
          -17.127440675197796,
          -17.54577761027491,
          -27.7415781812428,
          -24.387211183554104,
          -28.652615487758915,
          -20.409701910783955,
          -18.17061790906476,
          -16.044734886434554,
          -17.269627291844728,
          -26.007288104362015,
          -21.642681611640132,
          -26.004280240015405,
          -17.915537586884287,
          -18.108034440660713,
          -25.431029743799403,
          -20.098518148414033,
          -26.663035540833842,
          -23.00254221410906,
          -29.28684579793145,
          -29.995242119501025,
          -30.398772889703622,
          -30.944222078093095,
          -30.310638499185213,
          -29.66480758951471,
          -30.03576383751931,
          -30.55721960563039,
          -29.169684960059488,
          -27.46050734118991,
          -26.34037106293002,
          -26.06727478481938,
          -25.585667633370285,
          -22.475544472401754,
          -19.10701183713273,
          -20.63119325285167,
          -23.190507400667606,
          -23.64599692657227,
          -22.499632299160048,
          -22.518746811241915,
          -22.875383749346398,
          -24.237110803719624,
          -25.275577047293076,
          -25.277439148259617,
          -27.673027424124854,
          -31.455819049405697,
          -35.6778517032468,
          -39.50874722885883,
          -39.803405697750236,
          -41.66884651820128,
          -46.558196356752816,
          -47.06104833381185,
          -46.970076112298806,
          -51.30329447692523,
          -50.36184861102584,
          -43.728453264787376,
          -44.68867883111743,
          -49.25961925675857,
          -47.58032958406841,
          -44.98449410463147,
          -44.17259930181141,
          -44.19085378256168,
          -45.080365320000446,
          -44.77527266878867,
          -45.126858839270675,
          -47.29582848412705,
          -50.5755645363482,
          -51.462658008222846,
          -59.190351856340186,
          -62.933905972493065,
          22.13946727666585,
          23.317380684553086,
          21.104946262283093,
          21.06928919138576,
          22.340676145854285,
          21.59464252302337,
          22.268027252459746,
          21.439759405951428,
          19.949689081762294,
          18.940335172143755,
          20.288831766670015,
          20.675328796154165,
          20.791557659695457,
          21.134281631898883,
          23.21129057554579,
          21.464064417325353,
          22.06115973093553,
          23.461363224031704,
          24.35091623081852,
          25.78569504002262,
          25.236438030421333,
          24.325305144502774,
          23.74832177008579,
          24.03098887977316,
          23.444519923439028,
          22.187042370720924,
          24.22755044755859,
          25.78342087836422,
          25.747665377800388,
          25.5936951962327,
          26.101828166369128,
          27.43673659705033,
          26.51111090886833,
          25.91892340295623,
          24.10910566818943,
          23.545559746910506,
          25.658974433695835,
          27.498314230168187,
          29.717087377885644,
          30.290734118846526,
          29.70631957531586,
          29.739345427476373,
          29.360738305208216,
          30.0643478307057,
          30.183577315047305,
          28.61507885883386,
          26.33592549006438,
          25.402522950985475,
          25.943074165735773,
          28.22834046750234,
          28.46642419996565,
          28.17409943511276,
          28.937455544629632,
          31.30580688149788,
          31.831062977046827,
          30.802501954893387,
          31.38053188270764,
          32.339833699511594,
          32.02392818879878,
          30.922771061236844,
          30.667929318932448,
          29.846451761212688,
          30.090870422087846,
          31.646599382132592,
          33.910688999667116,
          34.84888413734347,
          35.45094042726177,
          36.269139369076804,
          34.94642402399095,
          37.248020996461264,
          36.83238041787165,
          34.6836139387938,
          33.753605615341904,
          34.58991325392183,
          33.21099444468442,
          33.81947305164909,
          33.57477445598379,
          31.94506349110091,
          31.9584236938625,
          32.1672839183301,
          31.590016914801378,
          30.513621017481626,
          29.393080405481737,
          27.682146035060413,
          24.614414656292954,
          20.91255110023933,
          18.071906525091997,
          12.884837301565621,
          8.53070061710935,
          5.97158660033509,
          4.622021547204812,
          2.3811386084741817,
          -0.6274486108287016,
          -2.355634923517616,
          -1.6214584563545247,
          -3.9654583329419557,
          -6.683861132691217,
          -7.183876033033108,
          -6.324391755140104,
          -8.435108145639973,
          7.330976961169805,
          5.654147828095057,
          5.837372305306909,
          6.701171409477021,
          6.299115041679599,
          5.327695224806225,
          5.759447099023907,
          4.540657195958179,
          2.8291608371829566,
          2.481675197065981,
          4.916867948628236,
          4.744645166947249,
          3.254186083311721,
          1.385813574859714,
          1.7207916262465992,
          3.3594352944647983,
          4.0060604250775995,
          1.9060628152312151,
          -2.8634560150866,
          -7.958634131819372,
          -10.502989682665676,
          -6.0776758115863245,
          0.4287687708372824,
          1.020224294549477,
          -1.4248358412767836,
          -1.4304452767167068,
          -1.2531770555851216,
          -0.8470205323833688,
          -0.716938118143168,
          0.3920847260450974,
          5.683810046930485,
          8.75560321484298,
          7.997357970993975,
          6.6846357222606905,
          5.584593041179152,
          6.454897658394321,
          6.433082861442929,
          7.20342591806063,
          6.858800816906661,
          4.5082179289362205,
          3.9913699068429076,
          4.654819648171692,
          3.5317845813001987,
          3.185832567964571,
          2.5257379570209264,
          2.711879046429783,
          4.595420045454753,
          5.800883565478404,
          6.232811317160311,
          -6.323400540876204,
          -9.290473432719391,
          -10.724622731597638,
          -14.028165133980297,
          -18.239349906043135,
          -22.880484237112697,
          -25.417604434303797,
          -29.87220898867008,
          -33.123717503106384,
          -34.42030609052255,
          -38.64725057491961,
          -42.71187183557948,
          -47.083214167778145,
          -49.993035792163376,
          -52.20865443963622,
          -57.36305613713984,
          -63.21535048478231,
          -64.67849382112593,
          -66.983980983139,
          -72.22001742363689,
          -78.4353489417415,
          -81.27221091109178,
          -83.55263017638097,
          -85.03919461626514,
          -88.69236315482158,
          -92.59617449579682,
          -93.99311363889076,
          -94.03037186043348,
          -94.79887510777822,
          -96.7465454678972,
          -99.0162745115723,
          -99.29670451843495,
          -100.05867163235641,
          -101.08341612574941,
          -103.95520185756622,
          -107.70870519774476,
          -108.06613462823104,
          -103.10117367198147,
          -102.49914011390085,
          -102.63589184978547,
          -99.26099214127504,
          -95.24821063452288,
          -93.84892907466656,
          -93.7430973766921,
          -93.29228022106645,
          -95.62279580555031,
          -93.34245923589168,
          -90.90453017803823,
          -88.64296492574299,
          -95.50261028450355,
          -110.36968149806317,
          -26.93610128067652,
          -23.7737500743459,
          -22.58330394845559,
          -24.15637898600277,
          -24.607132228966147,
          -25.02166573649912,
          -25.37036032629317,
          -27.572338142119207,
          -31.61690554988401,
          -36.63928848729048,
          -40.86262889268506,
          -43.87765477575785,
          -44.80908884635824,
          -47.65889343278555,
          -53.78082689864194,
          -61.63506446675714,
          -66.66653271444684,
          -68.81025076381783,
          -70.47832725635844,
          -71.40572064822808,
          -76.24157123205245,
          -80.23822600526162,
          -80.57307888455816,
          -82.05685295809091,
          -85.6166631364599,
          -89.63005153638716,
          -91.73494708543967,
          -95.34352205075307,
          -98.72859040875271,
          -96.91143243870754,
          -94.58902486509034,
          -94.32075893397263,
          -96.55561932258685,
          -100.48481211499485,
          -102.40373232306158,
          -103.49473174550766,
          -104.50657926631904,
          -105.1204642415564,
          -104.18025813282823,
          -102.8565169142787,
          -100.99317895879982,
          -99.82779071453886,
          -99.44829551947619,
          -97.96692958381891,
          -95.78122884174279,
          -93.76818145881481,
          -93.45674251884488,
          -93.61524022727747,
          -92.77249593099252,
          -93.12827369599083,
          -94.16823499826828,
          -92.61143721504716,
          -93.0186484897363,
          -94.532494863372,
          -93.77309643085395,
          -91.76454476776271,
          -89.7194502674592,
          -85.63375362030558,
          -78.30514961179142,
          -81.38221593725012,
          -82.00578563043508,
          -81.44452661845018,
          -81.27160306624522,
          -77.42118100907605,
          -71.46653713084746,
          -70.50358086339787,
          -71.39592189559806,
          -72.54784971391116,
          -72.41576158172596,
          -72.0736140751088,
          -73.78720876380275,
          -76.89833568233587,
          -76.23284070276797,
          -72.82410775645481,
          -71.36331309616557,
          -71.22084095594431,
          -69.92793254927884,
          -69.93981467045525,
          -69.8082042357359,
          -68.80821052224232,
          -67.23681218346356,
          -66.50299796060153,
          -66.58621519095483,
          -69.88552154018552,
          -72.72436412641575,
          -74.55220440624429,
          -77.77977098306837,
          -81.22821828175375,
          -82.86513624776181,
          -84.25460750359218,
          -86.85216570043461,
          -89.50129119029128,
          -91.97629661365426,
          -95.20792968591627,
          -95.62229711159114,
          -93.75812457465874,
          -96.27477525702594,
          -102.34587575995093,
          -103.5325533706961,
          -102.80685208357733
         ],
         "xaxis": "x",
         "y": [
          419.974724821464,
          426.39514981356325,
          421.87258603606324,
          421.4599449108889,
          421.0935274058999,
          421.0239984844188,
          420.7697862396771,
          421.0463513413771,
          419.3222559611657,
          417.87626122115984,
          417.198588700052,
          416.9873482841188,
          416.1354815341353,
          416.6289892508946,
          416.9967473546289,
          416.33735228240243,
          414.4191587621949,
          414.7557735253605,
          415.5204486126618,
          414.9396807624306,
          414.7212439442129,
          415.59259516382735,
          414.32034436651264,
          412.9426217761041,
          411.60912379593145,
          411.12608966548845,
          410.93780722390983,
          410.9076187211883,
          410.2976154195545,
          409.452525464427,
          408.8255367517638,
          410.3427731050135,
          410.43197016452393,
          410.1307958511783,
          410.60266099522585,
          409.58304589442804,
          407.41426542551847,
          405.0467201199917,
          403.91383053154135,
          403.618348536864,
          404.9702278204216,
          405.12459215718616,
          404.79112974073945,
          406.05281502333145,
          405.5680468407694,
          404.67271598830615,
          404.27334045637485,
          405.7970715916781,
          406.4012882457201,
          406.0165185383118,
          405.13907662398253,
          404.62584496148014,
          405.9688017159123,
          408.4216680522189,
          407.64933777282175,
          408.029557285077,
          408.25167201712094,
          407.946935290751,
          407.592788799555,
          408.63171941386105,
          409.18011356926274,
          409.86140562174444,
          408.73053010995704,
          410.05131465710804,
          411.09936339852936,
          410.2398297530131,
          410.36842606197723,
          412.3241610087879,
          414.56961758388223,
          415.4716307059382,
          414.7967251886474,
          414.03370516237635,
          414.7440364601545,
          416.4147447256811,
          418.1238538129402,
          421.0536838458962,
          422.9788604180638,
          425.94250231129683,
          428.3306194183601,
          432.6156385849918,
          434.2864349610449,
          435.19642105497104,
          437.1610116287215,
          439.81501058229196,
          441.6404455503993,
          443.22947049468553,
          448.4956539566083,
          457.17341939153357,
          463.6481746517561,
          466.52228981403056,
          470.0410928316623,
          474.8557474633571,
          473.88333293493275,
          475.4443109748172,
          480.65699385885006,
          483.5030005527705,
          484.04502698541165,
          485.9039651701251,
          488.1504834715953,
          487.94798188166004,
          474.1829711529988,
          476.5143677069107,
          478.76528729893556,
          480.46529494652776,
          481.0537479468312,
          480.53743766537224,
          482.78257017512857,
          484.5427232373011,
          483.87001592742115,
          482.78694673890334,
          482.25144015402594,
          483.15112196186226,
          483.753129417538,
          485.65560931390485,
          486.25139537642076,
          485.18205130848855,
          487.07302903120996,
          488.6821494699039,
          491.6011771191773,
          494.3580914362248,
          490.9433316080752,
          487.0129088514456,
          484.7177701472174,
          485.09165456056064,
          485.0680214358165,
          480.6566997500036,
          478.04684904738133,
          475.18705582372314,
          477.4464973226391,
          478.63627382837865,
          477.58796068134683,
          477.1237237563992,
          475.40896291162517,
          475.53848171668363,
          479.7078943122289,
          478.5158193961592,
          478.4645919776258,
          476.3701342773858,
          476.81826257413303,
          475.2806242593754,
          473.60683218748153,
          474.181582198781,
          474.07589181987015,
          474.3004332465491,
          473.0181425730772,
          471.85462618284606,
          472.8513855014353,
          471.6926455683902,
          473.7691766154866,
          473.32360129177954,
          476.1905293876605,
          476.72325414626164,
          476.90432050422845,
          477.2313742144959,
          476.86054423018885,
          476.42889176601744,
          476.77484168149863,
          477.1423481544078,
          475.5549452781166,
          474.77761129877007,
          475.61476803943856,
          476.9712178675942,
          476.96174008765144,
          475.09269796193706,
          472.96403209208205,
          473.96617859451425,
          476.1253439439003,
          476.72679033266417,
          476.575680369961,
          477.71708874489593,
          478.700436738085,
          479.8408774423526,
          482.6493388342473,
          485.4601418513325,
          489.7339220732994,
          495.2758911023683,
          501.63697742042444,
          506.8223644564301,
          508.8593794538963,
          513.5895157660045,
          519.8759266112509,
          522.3953701213353,
          524.821253361606,
          529.4524756736281,
          529.2883301890063,
          524.7412141998908,
          527.676565658944,
          534.1415676312292,
          531.3404639613203,
          525.2784231859362,
          519.7376217885554,
          513.3295381851151,
          506.4313040121834,
          497.43674975107723,
          488.8931972119402,
          484.0191113636485,
          481.13213672407124,
          479.01525201531985,
          476.9721114257189,
          475.4219626010057,
          433.7118500053372,
          431.7901674463609,
          431.70728697864485,
          429.8685154828879,
          427.3192870661787,
          426.66254886477896,
          426.0066443869651,
          425.22919926305957,
          424.6246183034794,
          424.8030028967336,
          422.9423850439937,
          422.0553936124626,
          421.3666958345872,
          420.0422468153594,
          418.2053240400389,
          418.2608563911404,
          417.42109912677387,
          415.3037786999342,
          414.9594286572303,
          414.135749217371,
          414.64040617958284,
          415.2854479792554,
          415.299147322164,
          414.17288868407536,
          414.41348942111756,
          414.83756313849545,
          413.9403302569945,
          413.75728698764516,
          413.9598469459961,
          414.66705153534633,
          414.7013676328705,
          414.56434082033246,
          415.72994661702194,
          417.0205418993359,
          419.63904564670935,
          421.4505938407365,
          422.2370608531344,
          423.1750399803093,
          422.7657162429951,
          423.14017860084294,
          424.2996516378907,
          425.60774572214694,
          427.3782056421129,
          427.1861656795133,
          427.99296271761636,
          430.4028134211123,
          433.634325548921,
          434.91168367752556,
          434.49048230291044,
          433.2423912949573,
          433.7352105456926,
          435.7200789381041,
          436.27112375659505,
          434.78929250548197,
          435.2447322600988,
          436.69126972496554,
          436.5599194411998,
          435.41325442364234,
          436.20944055485154,
          436.7785814605769,
          437.1676986788243,
          437.71907548798316,
          437.90761223586054,
          437.0160501217836,
          436.0694389378894,
          435.1393931319722,
          434.7630685414705,
          434.5680040566436,
          435.56393536860537,
          434.61402198671203,
          435.3867978785543,
          437.0617181444834,
          438.8431771426042,
          438.54903238002726,
          440.07681322413225,
          440.46798255215873,
          441.7196031280462,
          443.6253130058447,
          442.9177185281702,
          441.3077401079338,
          440.72652246327254,
          440.9266238465193,
          441.2032384278163,
          444.0563284407649,
          449.2527506238665,
          451.8967061631619,
          452.272304640479,
          455.2752867706159,
          457.559194671285,
          456.78360551429614,
          454.56600250051935,
          452.63399600942563,
          450.7045193727488,
          448.3025489446609,
          444.9539817406821,
          444.27206724421154,
          444.18188377177347,
          442.78359077052056,
          442.6549638907491,
          446.049821040479,
          426.89538743881553,
          429.5122470117299,
          430.329375435752,
          430.75859160556695,
          431.63056169973987,
          431.8522344583983,
          431.2470598696664,
          433.11512582607946,
          436.49612890496076,
          438.4181627510089,
          437.78632759213116,
          439.7720171568826,
          443.53116366851987,
          446.13146315314094,
          446.3555126235578,
          446.33221016441183,
          447.1237453625576,
          450.57886786046737,
          458.5062111752875,
          468.05476462255865,
          473.8912503171569,
          473.4828224881061,
          471.12409373200956,
          471.9741802086078,
          477.3683132542939,
          484.4776546015256,
          489.351319743798,
          490.38984326293416,
          492.1829513371302,
          493.49751763647265,
          492.00920397092494,
          493.4048605868441,
          497.5567059077519,
          501.2192756332087,
          504.87074199109526,
          507.9305297872812,
          511.7437117883325,
          514.2752773453377,
          518.435961687581,
          524.9211125364532,
          530.0548962411597,
          533.3027878608196,
          537.1003656089428,
          540.3240526579732,
          545.2219829123899,
          550.8988352988471,
          553.2790808243498,
          556.6067546233354,
          564.4016187748825,
          587.3946707692473,
          595.7243521628819,
          602.9167898915459,
          609.6887567115601,
          616.6952887035662,
          624.8372739890223,
          630.5823419940253,
          638.3172286364845,
          646.8816056538611,
          653.6309861296799,
          661.5965159875619,
          670.7251504182271,
          679.4369339152948,
          687.7476010019142,
          697.1557500008944,
          706.3516368702661,
          716.4411140904512,
          725.3290069779057,
          734.4852874864372,
          747.1464622268901,
          762.3039489999783,
          776.8591946452455,
          789.8869538688231,
          802.7693267634573,
          817.5742081930402,
          833.3601075753148,
          847.3916772042721,
          860.1575002713745,
          873.6484581399691,
          886.8566559678404,
          901.1848382041791,
          913.8526935326573,
          925.3116881288438,
          938.1571891946095,
          956.5926423022206,
          975.1115381243488,
          986.9066754819747,
          993.3139297444518,
          1001.1884847034461,
          1011.0084369412776,
          1017.7615085994287,
          1022.6242194390031,
          1027.6613789238947,
          1031.9640442743225,
          1035.4598377357615,
          1039.9181472914652,
          1040.8049587170747,
          1043.048216214465,
          1043.8394105525042,
          1052.8098967852059,
          1083.4809502608375,
          525.4758085745066,
          521.0048375074543,
          517.3083312768447,
          514.1543495206078,
          512.0082707491524,
          512.0447050524423,
          512.6984113669939,
          513.307074318923,
          514.6185686094234,
          515.8660910879229,
          515.7494953840667,
          514.7347791009792,
          512.7497628084891,
          512.1990370057159,
          512.4803690827929,
          514.7241333445245,
          517.9918794731507,
          518.1111069998062,
          516.6671053060453,
          515.88240983131,
          516.5511098705176,
          517.1242968503033,
          517.2458776098357,
          517.4479116421466,
          516.6560248604624,
          515.1973730883113,
          514.1097508020707,
          513.8209702393693,
          512.981119136182,
          510.8052800405178,
          508.93988501494255,
          507.99984411117634,
          505.960916448464,
          503.89472463706204,
          502.5464715172846,
          501.5858936697441,
          499.71875336380424,
          497.54942162281463,
          494.4789870095496,
          492.44999908313923,
          491.07139899955473,
          489.280203713285,
          488.00925172263027,
          487.0145078040335,
          484.2877628461022,
          482.9559471797238,
          483.60542617557013,
          482.2272178840354,
          479.406543396578,
          478.31578538243025,
          477.7896486429015,
          476.0606301424408,
          473.9786798950503,
          472.66495093233345,
          472.2379125336116,
          471.03279793518163,
          469.3619902118912,
          468.61496958785756,
          467.00364411672126,
          466.57708485027865,
          467.1305979405827,
          466.9421774286934,
          466.37119937022857,
          466.968381075178,
          467.71088321671607,
          468.2942179411093,
          466.7649385364495,
          466.3004547130997,
          468.6731862935847,
          471.3422426787625,
          472.46812038463383,
          472.54523770783754,
          473.798830056451,
          475.8873669816561,
          477.4037135908632,
          478.2408727274303,
          478.5060150974786,
          480.1940364716295,
          482.6669389141444,
          485.3600039645298,
          487.55012257346004,
          489.5374938991023,
          491.8462477052395,
          494.5533578209455,
          496.03848536775087,
          496.45723004500564,
          495.7946760149074,
          495.72038872709095,
          497.30052204384384,
          498.78192751830073,
          499.9139917367958,
          500.45526468682607,
          500.3671250285034,
          501.26917976051175,
          501.05782599804496,
          499.8709669990525,
          500.25039878674323,
          499.7243185725383,
          496.1174752934295,
          492.02579868753105
         ],
         "yaxis": "y"
        },
        {
         "hovertemplate": "category=running<br>PC1=%{x}<br>PC2=%{y}<extra></extra>",
         "legendgroup": "running",
         "marker": {
          "color": "#EF553B",
          "symbol": "circle"
         },
         "mode": "markers",
         "name": "running",
         "showlegend": true,
         "type": "scattergl",
         "x": [
          -61.998800377375574,
          20.009193349647585,
          102.06797112208308,
          183.91365042536327,
          268.5802469617834,
          354.3156557823187,
          433.7713100225787,
          516.0681020485506,
          592.3548789027396,
          666.5130902347747,
          735.9589989637242,
          806.7581618674691,
          871.3419007882997,
          930.4478557858116,
          995.457031944196,
          1059.7016920824963,
          1114.4422420783005,
          1168.5372457283133,
          1219.8658978771389,
          1271.1987326648193,
          1323.9568516271609,
          1371.232777015332,
          1414.995516531841,
          1451.0587583590077,
          1477.5773819932379,
          1493.7552621815357,
          1504.2733298106784,
          1502.772595309937,
          1493.2314091627306,
          1475.5289294475242,
          1455.2146123130033,
          1428.415562777833,
          1392.0067652840407,
          1352.038571036116,
          1299.6455892451095,
          1238.6339097378714,
          1168.0546642856539,
          1088.7612594065688,
          995.8733011330553,
          899.0833292719109,
          802.6875654471542,
          717.719197269908,
          628.5566976582555,
          543.050170329574,
          444.6868874108425,
          338.81075584193604,
          241.73383107194294,
          152.78379753912068,
          55.17932963036226,
          -39.72302392725455,
          -137.86323395561797,
          -219.8757802282932,
          -307.1497039170106,
          -396.2010498834588,
          -482.13206879682673,
          -561.839028658269,
          -637.0659537012414,
          -708.225849538985,
          -779.0065621403515,
          -854.6958880909933,
          -929.2563146497918,
          -998.0462152944431,
          -1058.0999442926225,
          -1108.6093352125542,
          -1155.263504379044,
          -1202.2416187936517,
          -1244.4830968961994,
          -1287.9883217071158,
          -1317.7989581699694,
          -1324.4271592802475,
          -1320.1795914243935,
          -1321.850653101759,
          -1310.1538213912077,
          -1286.3273415630756,
          -1259.973172167304,
          -1231.274020226916,
          -1196.79505190832,
          -1155.449023485201,
          -1094.4129017364614,
          -1032.6755644741088,
          -969.1703313862512,
          -904.1886904648171,
          -825.6748245762424,
          -725.6306889432759,
          -613.5224193673243,
          -512.2360746591571,
          -442.35765258601276,
          -365.4978422976646,
          -286.4406107245367,
          -211.14997866011043,
          -126.49718890014631,
          -26.51723288602128,
          69.52190924217291,
          148.344555681145,
          235.79253056481357,
          330.2293155843732,
          424.767582401066,
          498.89686419077674,
          578.5464584335131,
          667.4200564648268,
          442.3436384322622,
          365.87123168428167,
          294.1109769938939,
          207.150607975899,
          131.84988822439965,
          51.02689095511002,
          -32.277169291000035,
          -117.34893658273936,
          -196.73362882820635,
          -279.7724398706982,
          -362.65026294968214,
          -441.7761081060573,
          -515.4298943181291,
          -583.1350918723311,
          -646.8915225165655,
          -708.7816102580791,
          -769.5349100422409,
          -829.0285889184462,
          -880.2061163127256,
          -935.4386764352663,
          -993.3740062076317,
          -1041.198932145509,
          -1113.937876923708,
          -1166.4608356624974,
          -1197.1650193288242,
          -1221.1219764513235,
          -1242.2517838464942,
          -1281.8633684878525,
          -1327.122576546833,
          -1322.7127085321365,
          -1332.7904933210912,
          -1332.2995978068416,
          -1330.311174898936,
          -1326.7607775485835,
          -1299.2521734053907,
          -1251.7462286857126,
          -1221.0072359848796,
          -1185.7396511524757,
          -1151.6095758866702,
          -1112.7524960764083,
          -1059.5612233712968,
          -992.3794746680884,
          -914.773637079996,
          -827.4413417884288,
          -747.9981016824664,
          -673.2511121704507,
          -605.8200097938861,
          -544.0299634349061,
          -485.6769559573928,
          -427.29854465428974,
          -363.3045976837002,
          -290.90666454373354,
          -203.70644371007032,
          -103.53833154873146,
          -9.36783964974068,
          65.50046927203859,
          134.34725045517345,
          203.77014018984426,
          278.9171735584704,
          353.044653310849,
          422.73919379575983,
          490.9912512302744,
          557.9005382792812,
          627.0378365641604,
          688.5418720754732,
          746.8621939969898,
          806.613918649992,
          864.0740517544194,
          920.1492723665349,
          970.9290641881477,
          1011.1478144179032,
          1041.3844022179055,
          1072.2244902259015,
          1110.7800950056126,
          1148.1469065092574,
          1175.5508373315022,
          1197.8951414633127,
          1211.0091269935067,
          1217.7902714668317,
          1215.8069558931018,
          1208.6938360212537,
          1196.627339337585,
          1176.2687603425252,
          1148.7288223874305,
          1117.1198327732259,
          1076.9523022628875,
          1040.9431880153245,
          999.0467864703946,
          939.390806653174,
          879.9751937768748,
          818.8097840293298,
          741.4264380381143,
          648.5295236110791,
          549.8969740386843,
          454.17991804271276,
          371.2586083847847,
          298.6340219335053,
          229.05331558626327,
          157.84413779817476,
          84.352771129644,
          -1130.9527925122013,
          -1056.0829286790797,
          -962.9677353205021,
          -857.9000777588599,
          -755.9778713452846,
          -657.1915902901166,
          -567.7285868645008,
          -486.1869311091363,
          -401.3238313875609,
          -307.6564008985663,
          -213.01589960652362,
          -112.79446949674934,
          -4.946442740590998,
          85.29455925057871,
          180.3721801337504,
          265.3658794301465,
          348.73867819118726,
          430.9839293216095,
          513.5783289908452,
          544.0936336127812,
          673.8148125570546,
          751.7364935740916,
          828.6671991823554,
          897.6765838329537,
          974.2945702301685,
          1050.5997046223913,
          1116.270535665263,
          1179.0319129146515,
          1244.0331600184907,
          1269.8048622864667,
          1329.334790460539,
          1379.7312996053652,
          1423.4718297709423,
          1460.1345565933273,
          1483.276267476242,
          1493.644427958138,
          1495.9202966540497,
          1482.2863245557407,
          1463.0486192934495,
          1439.9845804443853,
          1409.2269449689848,
          1367.038455676833,
          1321.3028194956657,
          1273.4145393704107,
          1218.1302616828132,
          1153.9299546465759,
          1081.8347168181829,
          996.7643976805907,
          914.3999479345148,
          818.9954902284962,
          713.6441062377236,
          597.288156402007,
          495.8116917656235,
          398.35463339675533,
          307.5396536967729,
          229.52776980451554,
          144.4177159031784,
          50.49906491019411,
          -49.88062299099071,
          -142.37860153371375,
          -230.7420149187002,
          -316.3118784768435,
          -401.305438937603,
          -490.3330746649526,
          -577.3571182213825,
          -654.9433598249046,
          -732.471338252642,
          -816.8228580895147,
          -891.5546079437008,
          -964.9266293367781,
          -1031.333235140832,
          -1087.4075156137894,
          -1142.7285481570011,
          -1200.5866978456515,
          -1258.913756597937,
          -1301.8900002899352,
          -1334.2165097067195,
          -1356.0942724578304,
          -1373.8523017085254,
          -1385.0507496044308,
          -1384.0097148796788,
          -1370.1652737841805,
          -1349.5486895590884,
          -1322.8415655787633,
          -1277.6828532641373,
          -1245.233753002211,
          -1199.7755011820661,
          -1150.4243483492655,
          -1089.1532710753152,
          -1023.2117511666572,
          -955.4083671597041,
          -870.2657419725546,
          -768.6904348175029,
          -647.7307282856948,
          -541.8086219701172,
          -458.5012125355593,
          -371.6136054471375,
          -252.27530070805133,
          -155.68392847430647,
          -71.76050115317386,
          754.0353581252206,
          824.93556318358,
          897.1581359855752,
          967.60110041335,
          1041.1514130102616,
          1102.726567958658,
          1168.3778304775547,
          1226.1675483119,
          1276.2412478664282,
          1316.311560827336,
          1359.5463357302383,
          1390.9143843958886,
          1422.2076872081777,
          1440.8467128627642,
          1437.9284986545022,
          1423.82383522706,
          1404.4144001191933,
          1367.895052263069,
          1338.499606489864,
          1297.6772961517113,
          1243.3038992827187,
          1177.3351754936023,
          1107.4597522707888,
          1032.7324352590686,
          946.9415370698988,
          853.939920312691,
          752.35158565409,
          647.2443695512496,
          551.0734136268749,
          461.4498229397865,
          363.8199823043796,
          292.1134759261068,
          204.78665105573006,
          118.86914609120473,
          27.152996349859432,
          -63.93684224983016,
          -149.5660266734265,
          -234.33213440048002,
          -319.00507319075564,
          -398.00646098228407,
          -473.8935295483928,
          -546.4139425166511,
          -630.3476607958457,
          -710.4593069426478,
          -788.0742637005708,
          -859.1052861252635,
          -922.7432313458986,
          -984.8846826811534,
          -1045.2596731381066,
          -1106.2581322479814,
          -1166.3148410493868,
          -1222.5710673117055,
          -1263.064317729019,
          -1301.4603081898986,
          -1330.0243777815392,
          -1346.313217225328,
          -1351.7742315000721,
          -1350.140845421775,
          -1332.6361299401635,
          -1315.342320841891,
          -1274.0171128584154,
          -1222.1478182428696,
          -1168.5232239324519,
          -1109.724745875901,
          -1046.3445326967133,
          -976.1155715513655,
          -907.0715392979133,
          -834.7952441495082,
          -742.5429639987026,
          -633.6617472885334,
          -511.84000804454024,
          -413.04897780477984,
          -323.83845596471036,
          -238.20409518801358,
          -148.17069644313625,
          -66.28489991959637,
          23.630133832436503,
          123.51768191909578,
          219.03712220605348,
          307.60485448031704,
          397.1027058045923,
          486.5595258503081,
          580.742589254515,
          669.2476624665724,
          741.9074918344855,
          823.5248667213122,
          900.1514676393751,
          974.2191143687019,
          1052.9575748260947,
          1137.6251940557088,
          1217.7360023536853,
          1281.8518234684718,
          1338.7384235851036,
          1381.9929946780562,
          1429.3955851425544,
          1480.297448513238,
          1516.781706452933,
          1552.3682149147087,
          1574.126050894574,
          1567.7064811169676,
          -554.0722412497777,
          -461.12497045877564,
          -371.11963300978636,
          -275.4065275195364,
          -176.47535859262652,
          -73.59288202893403,
          18.791867756157373,
          108.58503594943546,
          202.94352999883537,
          292.9115594250636,
          387.88263289801256,
          484.92439032628414,
          583.3881477590284,
          657.9685484942954,
          744.5421693162817,
          815.1261969945938,
          894.8461371663066,
          976.130301698929,
          1051.066991760159,
          1129.9839821594824,
          1204.4073208218874,
          1274.8098809917667,
          1343.5723494016527,
          1408.2009486772595,
          1458.316821121839,
          1507.3853315967594,
          1553.289682521538,
          1590.746853652103,
          1614.5738679119574,
          1626.5649907664567,
          1627.5788841935553,
          1623.5807577915896,
          1604.9529392407462,
          1573.7901771121901,
          1534.798269308437,
          1491.8297992060154,
          1439.375628101312,
          1366.379292404403,
          1293.7176930829373,
          1217.0202816692986,
          1131.9871722732462,
          1036.6712427697978,
          933.8824706994722,
          821.8393921995366,
          713.3542423924249,
          604.8020212825036,
          500.6540791816297,
          399.55623094095296,
          303.75386037556547,
          213.3611859596329,
          117.99974039209133,
          0.6416757448175449,
          -93.71468034110454,
          -190.65926755072886,
          -281.70956205241595,
          -359.84713135047383,
          -449.6014866014468,
          -538.0728782163249,
          -623.4998912442153,
          -707.1346697365801,
          -787.9305496813574,
          -864.3526455875981,
          -939.9065035942491,
          -1017.4039906048652,
          -1089.6635928297953,
          -1159.9843846822,
          -1225.2569153234604,
          -1289.4160181893883,
          -1350.8017381063946,
          -1408.8505648036862,
          -1457.521595401588,
          -1495.4943866719245,
          -1526.0957230808988,
          -1549.7481600962706,
          -1561.0996861839808,
          -1559.3268185384065,
          -1551.389474672937,
          -1533.4512096262479,
          -1500.9846966049815,
          -1453.9730120624306,
          -1400.4170955492866,
          -1337.7535842245557,
          -1279.9404239576238,
          -1213.408935242105,
          -1144.2963632406286,
          -1065.3184840033277,
          -978.9684549911572,
          -867.6401030464222,
          -740.6902858215835,
          -642.8358926771563,
          -543.3681514437783,
          -445.5154023771594,
          -340.72366901586935,
          -239.5769878470515,
          -136.9040543876894,
          -29.88285890613301,
          72.91226599818687,
          170.30385482394976,
          285.71650489609436,
          385.3188427668948
         ],
         "xaxis": "x",
         "y": [
          -726.1463602375492,
          -725.0694329480853,
          -723.4626400708038,
          -723.1178478193174,
          -720.3469051345365,
          -718.4675680545063,
          -711.2541530848174,
          -703.9945886750281,
          -705.8869447638774,
          -701.2343497276074,
          -695.4744006882192,
          -688.259401516652,
          -677.5612340845014,
          -664.6900353960908,
          -659.1674525620667,
          -652.4262241102776,
          -640.1204564332855,
          -624.8509998112432,
          -608.8075918104294,
          -599.7320692402371,
          -599.0169516811337,
          -600.1544185078437,
          -604.8453669248001,
          -611.1340744525576,
          -625.406139660644,
          -641.5339952412959,
          -656.4075994835564,
          -664.2772860689234,
          -672.552573946155,
          -676.4191616442688,
          -681.6045479892632,
          -681.790107117375,
          -691.3354630065237,
          -704.7913648270585,
          -727.7152223297903,
          -739.8038270629431,
          -733.5494839439567,
          -730.0688688661052,
          -705.9784792433616,
          -690.2707375553781,
          -671.8359975788277,
          -662.0693466414941,
          -661.0496186528826,
          -659.6954403323683,
          -659.460934293854,
          -661.0215852203517,
          -664.201864901121,
          -667.7071353223251,
          -669.59395971599,
          -678.8686802193166,
          -684.8440116161191,
          -690.4538244148325,
          -700.9612178073834,
          -710.5337084519404,
          -712.3493464132484,
          -712.5992832039763,
          -723.4354436679348,
          -726.3789993621286,
          -728.122282721752,
          -733.5582693920388,
          -737.7701960940566,
          -719.5760356829734,
          -720.5013819846944,
          -718.525360138562,
          -707.9278862685269,
          -696.3390195746272,
          -699.7761516823282,
          -716.6904181822752,
          -705.8172879404881,
          -690.2563792458147,
          -688.9501376692766,
          -701.8720762427101,
          -716.5678648640932,
          -733.2888314667492,
          -745.9628196943844,
          -758.0182803286516,
          -773.8884684379375,
          -796.5463225240502,
          -805.7807355080643,
          -808.435500652784,
          -814.180396299049,
          -812.5430284237021,
          -812.8755009718444,
          -825.2951048671313,
          -829.7014260523212,
          -827.9843583801407,
          -823.6263586050281,
          -810.1234055076497,
          -796.192157466077,
          -783.100778354365,
          -773.1435842862537,
          -769.5068958133512,
          -768.5652811505191,
          -764.396809584749,
          -763.5671080630059,
          -763.2545539076689,
          -752.545005773412,
          -747.4591642335042,
          -743.6792907307253,
          -737.2448479430185,
          -689.5865025575583,
          -684.1960101787978,
          -681.1271529908169,
          -676.4911408346775,
          -678.5787093923989,
          -677.4130618481454,
          -672.7156940184897,
          -663.3927330107908,
          -657.8066692347398,
          -653.1712350349226,
          -646.0988287624522,
          -634.823598711782,
          -624.9307532800643,
          -618.8768391571198,
          -618.0656415766103,
          -618.8614058711659,
          -616.4182254611434,
          -610.8544403279678,
          -608.9382254383643,
          -610.1104790784107,
          -610.9064204017861,
          -608.8539865975112,
          -593.7562600115147,
          -575.4427281898381,
          -582.2571853474972,
          -586.7999816168007,
          -574.8926308863083,
          -576.6977581162588,
          -585.5088402593489,
          -597.3885487051157,
          -610.0511761415025,
          -623.6772471167725,
          -641.5267060834026,
          -663.2922529346536,
          -689.3311743203628,
          -711.4222007269071,
          -735.7102121367507,
          -761.1475160783057,
          -782.0662917708602,
          -804.0415468920826,
          -829.0636469957182,
          -849.5890916298089,
          -870.1592094106244,
          -893.7819676181588,
          -911.5502574844252,
          -914.8261285775164,
          -912.604741255895,
          -905.3292700941706,
          -896.5131012981458,
          -885.8292042887688,
          -876.7047989737055,
          -870.242529061021,
          -870.819636067212,
          -877.3092101938355,
          -878.8865880712402,
          -869.0814790359586,
          -853.3987654724444,
          -839.6805600651643,
          -832.0569462298683,
          -820.8993536053306,
          -800.5637238374885,
          -779.4618663602909,
          -758.7987664650285,
          -741.4712869954558,
          -719.4187959416047,
          -695.641461092157,
          -673.6148156717318,
          -650.253972151505,
          -630.6799348860426,
          -611.0775660464782,
          -588.2908409516216,
          -562.3858768811114,
          -546.8729751551001,
          -546.8625360170959,
          -552.5574382860964,
          -557.0192622569083,
          -567.2725969287113,
          -581.880410020753,
          -597.1001063193628,
          -606.5641495698455,
          -620.6738894085179,
          -640.5834886097325,
          -658.8663537654404,
          -677.4044498186403,
          -696.6758577184809,
          -710.2168194678152,
          -728.9605682143682,
          -742.1869010727046,
          -747.4103591945714,
          -754.4240978927564,
          -756.1684303430536,
          -750.6526750756527,
          -735.8670383460211,
          -713.1677471427134,
          -693.1351739684903,
          -683.8973950072075,
          -681.9047584821654,
          -680.784544061027,
          -679.7128501849875,
          -676.5049327062875,
          -802.2320375183999,
          -803.43934673937,
          -810.4321568716639,
          -817.0339561886248,
          -820.5732730818472,
          -817.3516218029326,
          -810.6371530267652,
          -804.954123001182,
          -806.3560315512663,
          -811.837339105602,
          -817.3718088778821,
          -826.5845121616511,
          -830.9656353488529,
          -833.1734375108018,
          -837.3585927259755,
          -841.0634896757531,
          -841.4851974692988,
          -836.2253061722432,
          -826.5633596058541,
          -809.6832193062153,
          -805.2490149802217,
          -792.6329014452751,
          -776.7469440110551,
          -761.10942670165,
          -748.0434803763544,
          -738.5214783403861,
          -722.2677968296897,
          -700.0829917756871,
          -704.791937053632,
          -669.3786267260305,
          -663.797544409964,
          -673.6265871724406,
          -683.8969742873195,
          -698.2164145773364,
          -707.6793909750616,
          -709.6239312843558,
          -714.8332930689111,
          -719.4696452942134,
          -718.1738802694665,
          -718.292853773132,
          -718.1639522275611,
          -727.8247649310554,
          -743.8264486575773,
          -760.8142984659371,
          -776.3923447322584,
          -789.9035775550128,
          -798.556527702521,
          -790.4167828316944,
          -788.4659727237823,
          -775.3266227953668,
          -760.706660758485,
          -746.0632435124788,
          -741.5261480470783,
          -733.2742126937267,
          -734.4469157473511,
          -746.7149535511231,
          -751.0215179258519,
          -758.790743614679,
          -764.0583643653611,
          -764.3839381671406,
          -766.5035807508325,
          -771.323424911936,
          -767.3870361693058,
          -759.533662881671,
          -757.1843710994889,
          -754.9944835093283,
          -754.0364848511157,
          -752.8865012297013,
          -756.9005665287216,
          -753.2776606487072,
          -749.5152709320452,
          -748.7827319913674,
          -746.6051916546982,
          -741.5108430304197,
          -741.608920072777,
          -745.6809505864172,
          -746.2309630120233,
          -746.3542717296375,
          -751.9142487355413,
          -759.8728195259689,
          -768.9367057354772,
          -788.8819464034212,
          -807.4494273702787,
          -821.9602330862634,
          -838.3681643800373,
          -858.2856196890882,
          -869.9086549226207,
          -876.8344776850809,
          -880.9291678696943,
          -881.9418308639324,
          -882.9750736051989,
          -887.5368964267935,
          -895.6649266020353,
          -903.3164489131581,
          -905.8788519284191,
          -897.775051891318,
          -893.7059022185001,
          -899.6966297748471,
          -893.1032539507769,
          -880.185125357012,
          -821.245469736111,
          -811.0255043050522,
          -803.4820707922272,
          -795.8557846459395,
          -788.6684923188612,
          -771.3288065654348,
          -760.5520232452022,
          -753.2677319357197,
          -752.6950963556172,
          -758.3568230526824,
          -772.4337010730328,
          -779.7066063149852,
          -797.7804284247175,
          -811.6961270573407,
          -820.7727522218282,
          -831.500049128103,
          -831.681580332404,
          -830.6193671539362,
          -837.4831117294846,
          -853.0176070912956,
          -859.7176320766587,
          -877.3574879411553,
          -889.3703416573313,
          -892.8526098157301,
          -888.7399403911436,
          -878.9054213715739,
          -863.3936841015939,
          -842.9906041434659,
          -832.0239324413693,
          -822.7574379203827,
          -827.0635149478475,
          -837.4188216580338,
          -851.8541281833573,
          -872.0392083365296,
          -882.5033612024957,
          -887.6672018118668,
          -892.7058700489039,
          -896.184670550309,
          -898.180671131324,
          -901.829473047854,
          -904.9123174515449,
          -902.2947018175439,
          -900.7094630645328,
          -902.4448813614301,
          -910.918159887265,
          -914.769918299171,
          -914.7780767125629,
          -910.9991766569847,
          -907.018800372018,
          -907.5069111487512,
          -902.9709169032279,
          -894.7867831591757,
          -879.5648141914883,
          -867.3687162081259,
          -860.6638535113307,
          -864.303473119483,
          -871.2796020687849,
          -878.604858214421,
          -891.4310441055376,
          -908.1287036566109,
          -930.3351528979315,
          -956.6812696826636,
          -974.9610572923009,
          -988.8059236607409,
          -994.8718556370029,
          -995.5885967138037,
          -993.2665688127847,
          -994.7480498333379,
          -1002.4171208281456,
          -1014.850317548736,
          -1025.2921724673722,
          -1024.6507889556435,
          -1021.616428502773,
          -1016.8172169760087,
          -1010.1255407725312,
          -1003.4737639855837,
          -1005.2148755265545,
          -1003.8802840478725,
          -1004.0631520969342,
          -1007.4667571599574,
          -1007.5888329661872,
          -1003.2048743090135,
          -996.7201622988231,
          -985.0837805995776,
          -964.6211683387761,
          -962.3722847948795,
          -948.9398327068183,
          -934.3307728400474,
          -922.1421662677616,
          -911.4337175547917,
          -900.1984886048434,
          -877.1087431305425,
          -855.2879499692224,
          -833.7063795137774,
          -824.6131258378111,
          -823.0040275288557,
          -826.9908302816798,
          -842.6872364135189,
          -855.4057056889391,
          -850.3957177898918,
          -733.319557997305,
          -729.1821128335414,
          -722.0101605700331,
          -718.1829210871373,
          -713.9268067917016,
          -716.0444406296207,
          -723.200612097211,
          -733.8119973079125,
          -744.3217573101807,
          -753.2099521850015,
          -766.5596763915681,
          -768.0125589189557,
          -755.0320050544449,
          -758.2688900858211,
          -750.9301622531667,
          -742.3751395322934,
          -732.8361023830358,
          -735.4377422161906,
          -723.5016404635176,
          -717.2878700436222,
          -710.8655295921857,
          -719.182144970758,
          -709.0660112772443,
          -699.5737311455498,
          -682.877554715808,
          -659.4603659957052,
          -657.3210596671744,
          -659.5142481819219,
          -660.8896807602216,
          -659.3018867130837,
          -665.2786671407197,
          -666.557367449628,
          -666.4110869867059,
          -667.0360945119827,
          -664.0278004888463,
          -668.7120876954687,
          -669.9740610890028,
          -681.7263824491163,
          -692.2826953483532,
          -696.2636947106528,
          -699.4808285882252,
          -687.4008630309647,
          -667.2211625507753,
          -655.581872600296,
          -625.9583693777525,
          -612.3880811842873,
          -604.644079597245,
          -591.2902487801432,
          -592.9094748981784,
          -599.4805834256287,
          -607.1164913813013,
          -597.912865853439,
          -616.0877391541756,
          -626.1275155173652,
          -629.8656455892052,
          -625.131898841937,
          -629.4018632612165,
          -635.988347070107,
          -642.8557025122931,
          -652.0321201466791,
          -659.1953310845508,
          -669.9812308981561,
          -677.0725265551309,
          -675.1241474941268,
          -677.6983026822744,
          -678.1021312928194,
          -667.5413813669433,
          -652.7784239002806,
          -639.2825394938354,
          -624.9088788212254,
          -614.7404343466056,
          -607.4873113556434,
          -595.6707676479737,
          -585.6609754023816,
          -587.40680344792,
          -597.295113181454,
          -607.6878746761932,
          -621.6208944075963,
          -637.9370402922777,
          -658.3805399539599,
          -674.6316151004936,
          -683.2230363621387,
          -700.62012620512,
          -707.2207502215383,
          -709.4941875017922,
          -712.7903707303653,
          -711.7032778899373,
          -714.4713149236059,
          -717.8385128119002,
          -705.5828110216922,
          -690.703185999698,
          -669.4032073441591,
          -654.906417755637,
          -647.0467602360067,
          -641.5212931509094,
          -639.9789814864637,
          -639.0509842748605,
          -641.562787345627,
          -658.7810217225482,
          -673.289372304444
         ],
         "yaxis": "y"
        },
        {
         "hovertemplate": "category=walking<br>PC1=%{x}<br>PC2=%{y}<extra></extra>",
         "legendgroup": "walking",
         "marker": {
          "color": "#00cc96",
          "symbol": "circle"
         },
         "mode": "markers",
         "name": "walking",
         "showlegend": true,
         "type": "scattergl",
         "x": [
          1147.3279583947597,
          1157.7235510894393,
          1166.8375019471275,
          1172.4329825474183,
          1177.1131882560528,
          1183.9299963094513,
          1185.0969815621083,
          1182.2570564787115,
          1184.0719769039933,
          1187.8635018328523,
          1193.1338960196579,
          1186.734858564283,
          1179.4301399686383,
          1158.9935347849178,
          1134.9415641670744,
          1116.872986960822,
          1100.8116576562709,
          1086.8036991230647,
          1073.5427908974223,
          1053.5351658563497,
          1026.258089819812,
          997.5222945810095,
          968.40329663844,
          934.2386999785099,
          889.7586516907124,
          844.4299106526895,
          807.3972041463579,
          768.1993530078983,
          720.467795338709,
          672.7754774228129,
          631.2127427191527,
          589.1204731119115,
          541.2156078398792,
          485.6299689438443,
          432.9051279987726,
          390.0358290170581,
          341.36053980168964,
          286.3112632366759,
          238.0462560514461,
          188.5341935851995,
          127.71206245200797,
          64.98291157089302,
          12.267830224907723,
          -39.316060489822505,
          -96.77663358617511,
          -151.66156413757236,
          -202.01756272920835,
          -259.5310597397905,
          -324.67885054258824,
          -384.3116030421559,
          -437.2502674978778,
          -500.181597838854,
          -568.3936350163816,
          -619.7470183921981,
          -669.865909683337,
          -727.7411339875814,
          -781.5554688967703,
          -833.195144881885,
          -877.5520377446195,
          -915.4208679390767,
          -956.498139289506,
          -996.4357598773357,
          -1025.588515414145,
          -1059.1389099135718,
          -1097.0333547744874,
          -1122.3434036567253,
          -1144.2926500844337,
          -1169.3449756215512,
          -1186.4654349413634,
          -1185.2168667893623,
          -1179.4724088980483,
          -1183.8850134082772,
          -1185.8521992720512,
          -1177.726666014383,
          -1173.6655045376697,
          -1179.1376182153167,
          -1177.7940694529668,
          -1168.6105443955746,
          -1140.122558491405,
          -1104.5886337583263,
          -1079.3220086371962,
          -1055.1595870405843,
          -1042.4819201865241,
          -1026.8714897448695,
          -991.8353770994613,
          -955.2455526513462,
          -934.9707514297986,
          -917.4087957060838,
          -888.8776075328498,
          -854.8560967604225,
          -817.4195435628504,
          -778.7156789640923,
          -732.299951971019,
          -680.7206542096618,
          -634.7267332813428,
          -591.3891194046356,
          -547.8099723426645,
          -501.35622141543433,
          -453.04845323960984,
          -403.8664270061401,
          87.9461438111567,
          50.7914436781383,
          14.16088250339457,
          -42.67531624080897,
          -68.20721822980424,
          -130.0571822506515,
          -157.21997976992313,
          -194.39114489691386,
          -237.5840067815864,
          -286.85785063675166,
          -327.85962350720104,
          -376.53515254891016,
          -419.3172621924055,
          -459.99526251625275,
          -503.36848663608856,
          -550.9314086190658,
          -590.6804984698376,
          -629.9483770852426,
          -671.5807207065333,
          -705.6441875080944,
          -743.2300128411455,
          -774.5911722320582,
          -804.1836840508042,
          -843.6709400468076,
          -875.6462559584214,
          -899.6924246538919,
          -914.6400245233025,
          -937.6526746081429,
          -950.3214608061633,
          -967.5431353195646,
          -985.4546633377581,
          -990.910446688147,
          -999.0977750521719,
          -1010.3615550876857,
          -1009.8058726499856,
          -1004.8912516425604,
          -1007.5309687186348,
          -1011.0484828368837,
          -1014.8806804842673,
          -1021.7088530005714,
          -1030.9511093395704,
          -1015.2878779198205,
          -1010.6090232407186,
          -990.5615319638753,
          -966.450962525835,
          -938.0002394987486,
          -916.997178187886,
          -881.0433635196727,
          -861.1391037939542,
          -832.2089589513469,
          -815.2526888312982,
          -778.537377634463,
          -752.3236321332824,
          -723.5077816994752,
          -685.5221707832176,
          -663.2413450008762,
          -644.6468300667599,
          -614.7100173778053,
          -586.8560945722197,
          -563.9780999191869,
          -540.41102793466,
          -502.6392791021457,
          -464.6974007039021,
          -428.29376626507855,
          -384.4198070744875,
          -349.5461688690451,
          -304.8699814559076,
          -276.352957913584,
          -245.37143595382545,
          -202.05099159715573,
          -165.7703373899247,
          -134.52056804814615,
          -99.18165635716714,
          -63.18919266683149,
          -28.942671956182792,
          3.0038152848726845,
          37.018339565511084,
          77.66300143610307,
          119.21344552425278,
          155.2322913598459,
          187.76059041445185,
          225.62783471872413,
          265.90387933324683,
          311.73518693057576,
          348.74000744182393,
          378.10616492177815,
          415.9081587442505,
          457.3744284018237,
          489.2555501418791,
          527.2798314831144,
          566.0480296738917,
          600.4854547480155,
          630.6629553410792,
          663.1613656254066,
          696.3973237308993,
          729.1309423900237,
          763.0203625872052,
          794.2594971786493,
          832.0380160265391,
          866.9662521771675,
          -439.2768378126619,
          -473.1353685802714,
          -511.97395667021885,
          -535.5784258042728,
          -578.7030707295158,
          -612.3919797997361,
          -646.6305029746095,
          -675.3127164820813,
          -704.3978746163751,
          -731.32696040606,
          -765.2559262203253,
          -790.3366724182101,
          -813.8829991923349,
          -833.5852280180129,
          -853.4552678281357,
          -859.1822241878722,
          -869.178965432901,
          -883.9888860271485,
          -902.6172273589483,
          -905.3465235782048,
          -908.9201249127656,
          -915.0085319167275,
          -918.2018740965901,
          -909.2448305966655,
          -907.6362808886992,
          -899.5393540187245,
          -896.5276679545541,
          -891.6387601943347,
          -886.9625359820506,
          -875.921692084218,
          -868.2356527377377,
          -854.1502818021662,
          -845.0404182240394,
          -830.219722909517,
          -807.4320877868441,
          -792.0375247364881,
          -780.4912056652677,
          -763.5284391741429,
          -751.0703956259331,
          -736.2468136697163,
          -710.9622199475225,
          -677.8705239385298,
          -652.8943708873219,
          -636.7007237781409,
          -620.8897747202461,
          -596.4453445121301,
          -563.9607344822371,
          -526.8784276483825,
          -496.62888631692016,
          -459.3889609705176,
          -410.94995441581494,
          -360.1259591385599,
          -318.1321216656192,
          -277.4875824671665,
          -230.3483113757286,
          -193.2573031268781,
          -137.35413875149098,
          -112.2196250422099,
          -70.98638602190725,
          -33.572633511671846,
          2.59633457330855,
          31.513072666657166,
          65.66084620750597,
          101.90285269162962,
          140.02367040916022,
          175.06682001911128,
          209.5911707741871,
          256.8173744437287,
          288.6938008153416,
          319.73208278333755,
          357.74217471365864,
          384.3285123774079,
          424.49376309668423,
          466.2020511627159,
          499.2990523484458,
          534.5988748946336,
          566.8287025999219,
          602.8659724150373,
          635.1153549067703,
          663.0376436129114,
          692.2873638813492,
          724.0226872384426,
          757.0319994839572,
          787.3814590155874,
          813.802333689257,
          846.9502357289722,
          869.6819064428331,
          902.8493998165513,
          932.575975695431,
          956.555981550442,
          968.8414961384183,
          997.5652172319711,
          1012.7506901778947,
          1027.855413899416,
          1027.31483364334,
          1036.040195213279,
          1043.2109189950575,
          1048.6203631384255,
          1058.6766595311365,
          1060.571923746999,
          -1582.4501707127558,
          -1569.7906347367127,
          -1559.774893083731,
          -1543.8469258974303,
          -1517.1563748433198,
          -1483.1423496628615,
          -1445.3331768494047,
          -1411.1367403217935,
          -1374.8679451159787,
          -1328.569855770924,
          -1278.183346048598,
          -1225.6821782199431,
          -1159.82405674947,
          -1084.920020668781,
          -1012.9055991446969,
          -942.9025854575408,
          -887.4763505178148,
          -833.4101423271932,
          -783.9257261305356,
          -737.3540007229175,
          -683.9961664348467,
          -625.1952146217585,
          -585.4292586544706,
          -498.19853680064114,
          -430.3909544031906,
          -361.8111608865797,
          -314.3804568334082,
          -270.3810011795615,
          -214.21368772515638,
          -142.4464274842441,
          -63.32308416668101,
          25.619427812827748,
          112.49779986678539,
          185.42283641032202,
          253.1720266056793,
          321.47016898367735,
          390.28529122931866,
          462.5807967723721,
          535.4684455406001,
          612.7514660115801,
          678.6006067416738,
          741.155447308399,
          808.2370654397068,
          870.9416039363233,
          930.9955100971605,
          997.8012717317087,
          1062.0669875582958,
          1123.3135951359316,
          1179.7964532008223,
          1228.9690915351773,
          1277.6803282458743,
          1325.4759725964666,
          1367.8792919499595,
          1407.0979549059882,
          1436.8058968813598,
          1461.7779848239218,
          1486.947720766901,
          1507.5319702037564,
          1524.1007323653398,
          1541.5232844638144,
          1557.250373731911,
          1567.59391714945,
          1566.5875058202141,
          1562.07176398442,
          1555.906457502993,
          1544.274863910077,
          1526.733017990411,
          1516.0609642986883,
          1506.8578851936236,
          1490.9169779679296,
          1471.8883876667237,
          1444.4218281198334,
          1404.8510862643727,
          1361.9236892078916,
          1319.8882120043145,
          1272.9660081296022,
          1222.3630923276241,
          1172.9374974415239,
          1120.732380724418,
          1064.3580350709503,
          1014.247149545314,
          973.2783843045103,
          928.1080903065816,
          868.1370056966006,
          805.3856714337933,
          747.6155215497718,
          692.8889744136434,
          628.3694399807607,
          558.0292056681135,
          490.580744633101,
          420.5514959617127,
          350.75339873329017,
          282.6470010197637,
          208.40295316601632,
          136.65091381064906,
          69.34807332728788,
          2.394696714464025,
          -68.68658384730493,
          -146.59480266865486,
          -223.99856832987302,
          -1210.1818129664264,
          -1243.7554920755783,
          -1277.4355650123805,
          -1308.941436257979,
          -1337.6262631587788,
          -1366.3404820941723,
          -1392.3315419663236,
          -1421.061714239738,
          -1446.9961749150634,
          -1467.5108496644896,
          -1485.8683310909425,
          -1495.2141809629272,
          -1495.913306178639,
          -1497.3948584841878,
          -1506.022204159234,
          -1504.8156407471806,
          -1495.2788783851263,
          -1485.1692481726927,
          -1473.5229593879012,
          -1443.3346772180982,
          -1417.5577802845276,
          -1396.4705899484343,
          -1372.1017968525543,
          -1341.8639240515097,
          -1304.0726716208676,
          -1257.8420633016453,
          -1206.263564318507,
          -1157.1834568453746,
          -1098.2775584107428,
          -1028.0533966283463,
          -970.7391953357314,
          -925.7667163968163,
          -883.697957963754,
          -826.895837946156,
          -769.0735403502586,
          -743.2750231629643,
          -698.8494293830623,
          -643.1932519505733,
          -570.3202181182814,
          -507.3986776406231,
          -441.5161332356346,
          -398.26312732421195,
          -343.86288964578864,
          -288.80062189586926,
          -204.59828698633487,
          -128.5192287573182,
          -58.55111566528741,
          -0.0351525026775333,
          56.5374563717925,
          132.15244994059393,
          205.704757653707,
          271.53286852005044,
          346.1187732131232,
          405.43730814239115,
          464.6186573284093,
          528.6834009443107,
          598.2123528818867,
          662.467422366008,
          723.3316291360758,
          792.0191699744222,
          858.9476713661726,
          919.0425479786292,
          978.7195109389809,
          1056.906214767685,
          1114.0729943328045,
          1158.0388703181031,
          1202.62571067497,
          1253.704240501254,
          1300.0136781506508,
          1337.8331724829707,
          1373.3195684718864,
          1405.6754816139037,
          1433.208438951474,
          1454.1684986940609,
          1468.799080315311,
          1479.6243406129058,
          1489.1033300209149,
          1498.3549270759554,
          1511.8668564893956,
          1525.3473125060882,
          1519.7986978146353,
          1505.1880445274624,
          1492.6981531150552,
          1483.5522405213562,
          1472.8535647689628,
          1459.3265541808125,
          1442.9338739293783,
          1417.1700195847757,
          1381.0132318562676,
          1340.1096275834436,
          1304.8093239978657,
          1263.1089365932435,
          1218.3194720133226,
          1165.626810825105,
          1110.6672266298963,
          1058.717566253402,
          1009.0833859932445,
          965.6484904692213,
          922.2056434145184,
          872.8699081365888
         ],
         "xaxis": "x",
         "y": [
          205.67606277663,
          197.23489654207162,
          190.2276467342396,
          184.34740157655668,
          171.99446742203804,
          156.13084842898786,
          145.89034889068847,
          135.41857348127957,
          124.1334748725922,
          116.60643294842717,
          105.64591660221129,
          95.66543620580032,
          88.9726638919306,
          94.95420957715307,
          103.33263280575308,
          102.59794218724606,
          98.18334858255544,
          93.10817114989486,
          85.15594109604541,
          81.00909372480352,
          81.81373345672145,
          82.2111147057772,
          81.40028650407385,
          84.19787315577172,
          94.10043300396042,
          101.08379030712369,
          101.87885551840634,
          104.4283644966461,
          109.01883455349781,
          111.90346907821882,
          111.26934555895808,
          111.76233463819848,
          118.05960402109125,
          126.47698134723487,
          128.4134006853422,
          123.57156378970846,
          125.43937662973185,
          133.87376689433785,
          136.4926878894324,
          137.120705141079,
          143.5008224828575,
          152.84414992662985,
          154.74695845238543,
          151.2964854745964,
          153.0949264925716,
          154.0929446001009,
          149.06842232340964,
          151.3335025302064,
          161.7932731686274,
          165.54557021919112,
          164.1103951967723,
          174.89460832926613,
          191.0185536183127,
          192.0325140723256,
          190.64445053377972,
          194.5891828466834,
          198.5013275531276,
          199.48356503455238,
          192.14061685185234,
          183.59604064064595,
          182.7058245779442,
          179.74479794804097,
          167.2870644420243,
          162.29930247313825,
          164.23077120348788,
          157.6044268319706,
          154.36118290741956,
          158.40174994795535,
          155.04787962565678,
          137.9528227773556,
          118.85202618731135,
          109.29425049558448,
          101.95280989651026,
          89.55097449673725,
          83.67728673833564,
          82.90714092417285,
          75.91538523158421,
          65.97420215266041,
          39.739192807071966,
          6.6864565625131,
          -12.357224844939603,
          -26.24890314709473,
          -29.26434399041964,
          -31.912575393963177,
          -47.316929790960025,
          -61.302909512222065,
          -54.73881243016504,
          -44.29047667931816,
          -46.635186395735076,
          -53.22513894750624,
          -54.49231364646752,
          -49.85223583194196,
          -52.52220573246157,
          -56.81336070064379,
          -51.90133954226426,
          -40.25906900945269,
          -24.88548223286856,
          -14.937631855153876,
          -4.231032808741285,
          10.349895574472042,
          500.5736358673985,
          503.1274482274254,
          494.4658429714424,
          502.8523947592578,
          488.4570003868337,
          522.399276336844,
          510.1804668449866,
          500.54708015754113,
          501.99355030823585,
          504.47995536131856,
          501.0542025106219,
          506.43561342307197,
          507.43326736383057,
          511.7973824178839,
          515.182270421718,
          519.6197106721258,
          523.636858392746,
          523.3361587826519,
          520.1884811790923,
          523.0639130049047,
          523.0868421769187,
          524.0995131778659,
          515.8093294007491,
          509.9082828018939,
          497.71994239839796,
          501.5353480456428,
          500.91232703214285,
          490.0921751720515,
          494.7942443747649,
          491.5527174284831,
          486.8634480032583,
          488.9223096886761,
          488.9711033082673,
          482.7959532605373,
          482.9244782879037,
          477.1717867297965,
          476.49834064294214,
          467.0161303688515,
          464.69064886842625,
          470.1268674028337,
          457.5176732267298,
          456.5143954600212,
          442.3307854468161,
          443.9770168255024,
          430.98600316697025,
          424.9847246654302,
          416.56218194375634,
          421.1338394753134,
          402.9191684280228,
          408.2362718564243,
          406.0496749638042,
          393.04817995903943,
          376.2999576611937,
          377.24763763314985,
          362.6565258621607,
          347.3187042985031,
          367.2135898215136,
          349.25610330936127,
          344.0184132712821,
          368.2366469550893,
          365.4345081714709,
          341.7539571785365,
          357.8554143292802,
          356.8798781171465,
          354.7565984456513,
          362.3728346561706,
          362.4948800866831,
          374.38612800934817,
          396.24391923078565,
          390.20449522858365,
          397.9726762135099,
          419.7472557762228,
          443.93091411576575,
          458.1215218367376,
          473.1329456694632,
          488.3768527258759,
          499.10592835252385,
          507.3569691665192,
          519.1682372508844,
          527.4672853498821,
          540.421677371281,
          549.9132158401155,
          556.4278429790115,
          554.8581451049263,
          568.3674487116436,
          575.5442494250516,
          586.8218030933295,
          594.1870191889847,
          594.3823613901275,
          604.0705062506916,
          612.0878415768659,
          615.7056003316393,
          625.5797146298464,
          639.6008342078118,
          650.5197675497525,
          660.4148166910624,
          661.5594254398792,
          668.4067049958682,
          667.5742429717973,
          663.4856630695604,
          209.07161224985194,
          215.3424865299346,
          221.08058666699247,
          225.50532932575598,
          233.88271990048918,
          242.29049620014158,
          249.95941166361797,
          259.07905028086947,
          262.99494051167454,
          267.85244334369855,
          270.65745328942864,
          272.11799992820596,
          274.29569888929547,
          275.04712221341543,
          276.123455568017,
          271.11565135166387,
          269.1745617052012,
          269.3989010605531,
          270.316529483194,
          262.99234597471246,
          262.16587280301326,
          252.70263059667454,
          242.87998623631165,
          235.729809099794,
          224.69305842159284,
          214.36229443031758,
          206.06293909690348,
          194.54642152398313,
          186.08079722176072,
          177.09853224169004,
          171.98493316313338,
          155.8705650378435,
          148.99042737477748,
          138.08630410324474,
          125.35816555320015,
          110.2995365242178,
          100.44384819242403,
          89.66608075568871,
          84.03274366759426,
          76.41948400624145,
          63.26229833488213,
          42.89500257867403,
          28.198934917161804,
          25.33225177390577,
          20.311149058013036,
          13.916099992256317,
          -2.6588013674926922,
          -22.864151616739726,
          -27.589632006172543,
          -36.58517795212554,
          -55.90093219798533,
          -72.67792719780378,
          -79.04986650697248,
          -82.23115280838009,
          -86.02212274863652,
          -82.66021193222306,
          -76.09745754658974,
          -73.48469243530967,
          -92.93892823050543,
          -78.67011493810931,
          -70.71174669228328,
          -56.29912194678292,
          -65.01701965995188,
          -61.44795605231012,
          -50.508116873065845,
          -38.222932537417904,
          -27.76765394403831,
          -35.30994964350109,
          -20.159774261863657,
          -5.499961810459392,
          3.976422588565342,
          32.90353362717188,
          35.46464903421402,
          38.78445063028431,
          52.38766032310657,
          65.44504268227291,
          80.76381649799022,
          84.49676373926106,
          100.0153709093757,
          117.51917982219557,
          128.52947701290287,
          142.62510936496082,
          163.00174112812695,
          183.35601978833407,
          201.907937220418,
          202.00476065916763,
          219.09197650441442,
          227.11086208221008,
          233.82721320005308,
          240.49756979274366,
          247.48877674978357,
          245.65559815040967,
          249.31816642850362,
          243.41671097093263,
          249.27018067532285,
          241.77082620381472,
          238.29259755810497,
          231.03076047781505,
          220.64626893181727,
          210.16383823263166,
          57.593370460312606,
          39.91478516300584,
          28.936825440775262,
          12.092840985705276,
          -7.563087508733109,
          -30.627986882513955,
          -47.88327389097367,
          -56.77071900039759,
          -70.45868244550068,
          -86.48354527687844,
          -97.07324000130123,
          -105.0654816700915,
          -112.28314949651278,
          -113.33990047840838,
          -112.0533309363811,
          -102.71567112322582,
          -84.10034670004617,
          -59.01547358065777,
          -28.698938531007656,
          2.6763994116965253,
          29.266488112954498,
          59.018681251313026,
          70.93256133655822,
          105.3234639496083,
          128.5992847051471,
          154.44557427107907,
          167.2958304026459,
          179.65943748367036,
          206.5351508377965,
          239.50173487578954,
          274.6968946742921,
          307.52195042240663,
          325.4232958874153,
          340.28781395120393,
          353.6022220672335,
          365.3509453181854,
          376.93054559204796,
          393.3222265699133,
          410.3982085158729,
          431.0458301610948,
          446.31222181586685,
          466.105471911167,
          477.3818586075608,
          489.7452740098118,
          505.1132351353259,
          512.1869949234537,
          515.82527287567,
          512.7765224735358,
          504.7729401931333,
          504.393521416199,
          502.0668589903618,
          491.4632134066814,
          477.8112491618951,
          464.1117033405418,
          451.365547148241,
          435.17943720801236,
          418.13586489259285,
          400.4121048678768,
          379.96271915543826,
          357.71226891887784,
          338.5548985713515,
          337.54847268312426,
          341.1764118151784,
          349.44544460189525,
          349.8035551268686,
          353.86014842770487,
          358.57905976034215,
          350.1728364477904,
          342.3887691433591,
          342.79485556645886,
          337.37718528279044,
          336.6471939425365,
          349.31234984028913,
          361.9248652568349,
          372.4745201895252,
          386.8966853294538,
          400.64232699408814,
          408.6266399746108,
          418.59490878503317,
          429.0486668614332,
          427.99948989483545,
          419.6401546485302,
          415.2806304162647,
          419.22139757239114,
          425.9417512875972,
          426.9477375892803,
          422.88238208868154,
          423.86777869515385,
          428.4778783192722,
          431.0011976627184,
          435.05359062407666,
          434.82527316257284,
          432.82579664690115,
          437.2527986182303,
          439.28278143677113,
          440.11927670600835,
          438.2555178464409,
          432.1333812690162,
          431.6933036589568,
          431.87634421261004,
          409.15553125514634,
          393.67477961139434,
          378.8515473003063,
          367.5369819752685,
          357.11310092534325,
          344.1294075816594,
          328.29140859803414,
          319.5565159157302,
          318.5034842860573,
          309.2551925361764,
          287.3679905616421,
          270.82628685204065,
          253.78515851769393,
          231.03993500207565,
          209.9785414844777,
          197.70786015015318,
          175.04820162771546,
          147.7260450375924,
          124.50174442911586,
          102.40122020410926,
          77.64387678137857,
          63.486696504345446,
          48.79866891619218,
          28.41716521611862,
          9.393240832306388,
          -10.683742381373103,
          -28.88984669149254,
          -45.05469100555468,
          -59.05802034599067,
          -76.74915487940376,
          -84.00206418690685,
          -59.85125933659602,
          -35.858697814283424,
          -22.85403206358906,
          -6.38907460113668,
          12.898094841759136,
          45.398186526494,
          66.17675505830621,
          101.83314970970142,
          118.6932097962764,
          135.9942618309339,
          147.25069646820953,
          174.6958991176605,
          203.1223897585762,
          233.6869995152182,
          252.81611818195287,
          271.789276463272,
          292.21061769720063,
          311.61394683521934,
          333.6088568260193,
          345.75437605772777,
          361.6325780722552,
          366.2582298906383,
          383.0322738582586,
          405.7388432849964,
          421.2879942745717,
          435.5605650228835,
          451.9945811269313,
          466.45183275507037,
          475.0280092480892,
          484.8639895934158,
          496.6226060456278,
          497.63789811892974,
          502.10609491972303,
          501.9817032542761,
          506.0473460597945,
          504.2539988971412,
          491.76961346022017,
          475.7318842604442,
          462.2108528118587,
          448.09921444211335,
          429.21993520515167,
          408.3177932745382,
          388.1041817574841,
          370.4629092440537,
          353.94061406206674,
          341.875911177998,
          336.8100836998353,
          327.8217559853102,
          310.36519451668914,
          299.54373908833645,
          298.9412541840429,
          295.32384326232705,
          288.5223276946054,
          284.5330793781937,
          277.79246402725363,
          270.6282829134013,
          276.24062538052146,
          289.6331237881846,
          299.2061908697329,
          291.8137221437649,
          294.924190986852,
          301.1413774053947,
          308.7534102965478,
          317.35097733709256,
          321.51103658982413,
          324.9418315991996,
          325.7488048405039,
          324.0553755345213,
          322.64232891495425
         ],
         "yaxis": "y"
        }
       ],
       "layout": {
        "legend": {
         "title": {
          "text": "category"
         },
         "tracegroupgap": 0
        },
        "template": {
         "data": {
          "bar": [
           {
            "error_x": {
             "color": "#2a3f5f"
            },
            "error_y": {
             "color": "#2a3f5f"
            },
            "marker": {
             "line": {
              "color": "#E5ECF6",
              "width": 0.5
             },
             "pattern": {
              "fillmode": "overlay",
              "size": 10,
              "solidity": 0.2
             }
            },
            "type": "bar"
           }
          ],
          "barpolar": [
           {
            "marker": {
             "line": {
              "color": "#E5ECF6",
              "width": 0.5
             },
             "pattern": {
              "fillmode": "overlay",
              "size": 10,
              "solidity": 0.2
             }
            },
            "type": "barpolar"
           }
          ],
          "carpet": [
           {
            "aaxis": {
             "endlinecolor": "#2a3f5f",
             "gridcolor": "white",
             "linecolor": "white",
             "minorgridcolor": "white",
             "startlinecolor": "#2a3f5f"
            },
            "baxis": {
             "endlinecolor": "#2a3f5f",
             "gridcolor": "white",
             "linecolor": "white",
             "minorgridcolor": "white",
             "startlinecolor": "#2a3f5f"
            },
            "type": "carpet"
           }
          ],
          "choropleth": [
           {
            "colorbar": {
             "outlinewidth": 0,
             "ticks": ""
            },
            "type": "choropleth"
           }
          ],
          "contour": [
           {
            "colorbar": {
             "outlinewidth": 0,
             "ticks": ""
            },
            "colorscale": [
             [
              0,
              "#0d0887"
             ],
             [
              0.1111111111111111,
              "#46039f"
             ],
             [
              0.2222222222222222,
              "#7201a8"
             ],
             [
              0.3333333333333333,
              "#9c179e"
             ],
             [
              0.4444444444444444,
              "#bd3786"
             ],
             [
              0.5555555555555556,
              "#d8576b"
             ],
             [
              0.6666666666666666,
              "#ed7953"
             ],
             [
              0.7777777777777778,
              "#fb9f3a"
             ],
             [
              0.8888888888888888,
              "#fdca26"
             ],
             [
              1,
              "#f0f921"
             ]
            ],
            "type": "contour"
           }
          ],
          "contourcarpet": [
           {
            "colorbar": {
             "outlinewidth": 0,
             "ticks": ""
            },
            "type": "contourcarpet"
           }
          ],
          "heatmap": [
           {
            "colorbar": {
             "outlinewidth": 0,
             "ticks": ""
            },
            "colorscale": [
             [
              0,
              "#0d0887"
             ],
             [
              0.1111111111111111,
              "#46039f"
             ],
             [
              0.2222222222222222,
              "#7201a8"
             ],
             [
              0.3333333333333333,
              "#9c179e"
             ],
             [
              0.4444444444444444,
              "#bd3786"
             ],
             [
              0.5555555555555556,
              "#d8576b"
             ],
             [
              0.6666666666666666,
              "#ed7953"
             ],
             [
              0.7777777777777778,
              "#fb9f3a"
             ],
             [
              0.8888888888888888,
              "#fdca26"
             ],
             [
              1,
              "#f0f921"
             ]
            ],
            "type": "heatmap"
           }
          ],
          "heatmapgl": [
           {
            "colorbar": {
             "outlinewidth": 0,
             "ticks": ""
            },
            "colorscale": [
             [
              0,
              "#0d0887"
             ],
             [
              0.1111111111111111,
              "#46039f"
             ],
             [
              0.2222222222222222,
              "#7201a8"
             ],
             [
              0.3333333333333333,
              "#9c179e"
             ],
             [
              0.4444444444444444,
              "#bd3786"
             ],
             [
              0.5555555555555556,
              "#d8576b"
             ],
             [
              0.6666666666666666,
              "#ed7953"
             ],
             [
              0.7777777777777778,
              "#fb9f3a"
             ],
             [
              0.8888888888888888,
              "#fdca26"
             ],
             [
              1,
              "#f0f921"
             ]
            ],
            "type": "heatmapgl"
           }
          ],
          "histogram": [
           {
            "marker": {
             "pattern": {
              "fillmode": "overlay",
              "size": 10,
              "solidity": 0.2
             }
            },
            "type": "histogram"
           }
          ],
          "histogram2d": [
           {
            "colorbar": {
             "outlinewidth": 0,
             "ticks": ""
            },
            "colorscale": [
             [
              0,
              "#0d0887"
             ],
             [
              0.1111111111111111,
              "#46039f"
             ],
             [
              0.2222222222222222,
              "#7201a8"
             ],
             [
              0.3333333333333333,
              "#9c179e"
             ],
             [
              0.4444444444444444,
              "#bd3786"
             ],
             [
              0.5555555555555556,
              "#d8576b"
             ],
             [
              0.6666666666666666,
              "#ed7953"
             ],
             [
              0.7777777777777778,
              "#fb9f3a"
             ],
             [
              0.8888888888888888,
              "#fdca26"
             ],
             [
              1,
              "#f0f921"
             ]
            ],
            "type": "histogram2d"
           }
          ],
          "histogram2dcontour": [
           {
            "colorbar": {
             "outlinewidth": 0,
             "ticks": ""
            },
            "colorscale": [
             [
              0,
              "#0d0887"
             ],
             [
              0.1111111111111111,
              "#46039f"
             ],
             [
              0.2222222222222222,
              "#7201a8"
             ],
             [
              0.3333333333333333,
              "#9c179e"
             ],
             [
              0.4444444444444444,
              "#bd3786"
             ],
             [
              0.5555555555555556,
              "#d8576b"
             ],
             [
              0.6666666666666666,
              "#ed7953"
             ],
             [
              0.7777777777777778,
              "#fb9f3a"
             ],
             [
              0.8888888888888888,
              "#fdca26"
             ],
             [
              1,
              "#f0f921"
             ]
            ],
            "type": "histogram2dcontour"
           }
          ],
          "mesh3d": [
           {
            "colorbar": {
             "outlinewidth": 0,
             "ticks": ""
            },
            "type": "mesh3d"
           }
          ],
          "parcoords": [
           {
            "line": {
             "colorbar": {
              "outlinewidth": 0,
              "ticks": ""
             }
            },
            "type": "parcoords"
           }
          ],
          "pie": [
           {
            "automargin": true,
            "type": "pie"
           }
          ],
          "scatter": [
           {
            "fillpattern": {
             "fillmode": "overlay",
             "size": 10,
             "solidity": 0.2
            },
            "type": "scatter"
           }
          ],
          "scatter3d": [
           {
            "line": {
             "colorbar": {
              "outlinewidth": 0,
              "ticks": ""
             }
            },
            "marker": {
             "colorbar": {
              "outlinewidth": 0,
              "ticks": ""
             }
            },
            "type": "scatter3d"
           }
          ],
          "scattercarpet": [
           {
            "marker": {
             "colorbar": {
              "outlinewidth": 0,
              "ticks": ""
             }
            },
            "type": "scattercarpet"
           }
          ],
          "scattergeo": [
           {
            "marker": {
             "colorbar": {
              "outlinewidth": 0,
              "ticks": ""
             }
            },
            "type": "scattergeo"
           }
          ],
          "scattergl": [
           {
            "marker": {
             "colorbar": {
              "outlinewidth": 0,
              "ticks": ""
             }
            },
            "type": "scattergl"
           }
          ],
          "scattermapbox": [
           {
            "marker": {
             "colorbar": {
              "outlinewidth": 0,
              "ticks": ""
             }
            },
            "type": "scattermapbox"
           }
          ],
          "scatterpolar": [
           {
            "marker": {
             "colorbar": {
              "outlinewidth": 0,
              "ticks": ""
             }
            },
            "type": "scatterpolar"
           }
          ],
          "scatterpolargl": [
           {
            "marker": {
             "colorbar": {
              "outlinewidth": 0,
              "ticks": ""
             }
            },
            "type": "scatterpolargl"
           }
          ],
          "scatterternary": [
           {
            "marker": {
             "colorbar": {
              "outlinewidth": 0,
              "ticks": ""
             }
            },
            "type": "scatterternary"
           }
          ],
          "surface": [
           {
            "colorbar": {
             "outlinewidth": 0,
             "ticks": ""
            },
            "colorscale": [
             [
              0,
              "#0d0887"
             ],
             [
              0.1111111111111111,
              "#46039f"
             ],
             [
              0.2222222222222222,
              "#7201a8"
             ],
             [
              0.3333333333333333,
              "#9c179e"
             ],
             [
              0.4444444444444444,
              "#bd3786"
             ],
             [
              0.5555555555555556,
              "#d8576b"
             ],
             [
              0.6666666666666666,
              "#ed7953"
             ],
             [
              0.7777777777777778,
              "#fb9f3a"
             ],
             [
              0.8888888888888888,
              "#fdca26"
             ],
             [
              1,
              "#f0f921"
             ]
            ],
            "type": "surface"
           }
          ],
          "table": [
           {
            "cells": {
             "fill": {
              "color": "#EBF0F8"
             },
             "line": {
              "color": "white"
             }
            },
            "header": {
             "fill": {
              "color": "#C8D4E3"
             },
             "line": {
              "color": "white"
             }
            },
            "type": "table"
           }
          ]
         },
         "layout": {
          "annotationdefaults": {
           "arrowcolor": "#2a3f5f",
           "arrowhead": 0,
           "arrowwidth": 1
          },
          "autotypenumbers": "strict",
          "coloraxis": {
           "colorbar": {
            "outlinewidth": 0,
            "ticks": ""
           }
          },
          "colorscale": {
           "diverging": [
            [
             0,
             "#8e0152"
            ],
            [
             0.1,
             "#c51b7d"
            ],
            [
             0.2,
             "#de77ae"
            ],
            [
             0.3,
             "#f1b6da"
            ],
            [
             0.4,
             "#fde0ef"
            ],
            [
             0.5,
             "#f7f7f7"
            ],
            [
             0.6,
             "#e6f5d0"
            ],
            [
             0.7,
             "#b8e186"
            ],
            [
             0.8,
             "#7fbc41"
            ],
            [
             0.9,
             "#4d9221"
            ],
            [
             1,
             "#276419"
            ]
           ],
           "sequential": [
            [
             0,
             "#0d0887"
            ],
            [
             0.1111111111111111,
             "#46039f"
            ],
            [
             0.2222222222222222,
             "#7201a8"
            ],
            [
             0.3333333333333333,
             "#9c179e"
            ],
            [
             0.4444444444444444,
             "#bd3786"
            ],
            [
             0.5555555555555556,
             "#d8576b"
            ],
            [
             0.6666666666666666,
             "#ed7953"
            ],
            [
             0.7777777777777778,
             "#fb9f3a"
            ],
            [
             0.8888888888888888,
             "#fdca26"
            ],
            [
             1,
             "#f0f921"
            ]
           ],
           "sequentialminus": [
            [
             0,
             "#0d0887"
            ],
            [
             0.1111111111111111,
             "#46039f"
            ],
            [
             0.2222222222222222,
             "#7201a8"
            ],
            [
             0.3333333333333333,
             "#9c179e"
            ],
            [
             0.4444444444444444,
             "#bd3786"
            ],
            [
             0.5555555555555556,
             "#d8576b"
            ],
            [
             0.6666666666666666,
             "#ed7953"
            ],
            [
             0.7777777777777778,
             "#fb9f3a"
            ],
            [
             0.8888888888888888,
             "#fdca26"
            ],
            [
             1,
             "#f0f921"
            ]
           ]
          },
          "colorway": [
           "#636efa",
           "#EF553B",
           "#00cc96",
           "#ab63fa",
           "#FFA15A",
           "#19d3f3",
           "#FF6692",
           "#B6E880",
           "#FF97FF",
           "#FECB52"
          ],
          "font": {
           "color": "#2a3f5f"
          },
          "geo": {
           "bgcolor": "white",
           "lakecolor": "white",
           "landcolor": "#E5ECF6",
           "showlakes": true,
           "showland": true,
           "subunitcolor": "white"
          },
          "hoverlabel": {
           "align": "left"
          },
          "hovermode": "closest",
          "mapbox": {
           "style": "light"
          },
          "paper_bgcolor": "white",
          "plot_bgcolor": "#E5ECF6",
          "polar": {
           "angularaxis": {
            "gridcolor": "white",
            "linecolor": "white",
            "ticks": ""
           },
           "bgcolor": "#E5ECF6",
           "radialaxis": {
            "gridcolor": "white",
            "linecolor": "white",
            "ticks": ""
           }
          },
          "scene": {
           "xaxis": {
            "backgroundcolor": "#E5ECF6",
            "gridcolor": "white",
            "gridwidth": 2,
            "linecolor": "white",
            "showbackground": true,
            "ticks": "",
            "zerolinecolor": "white"
           },
           "yaxis": {
            "backgroundcolor": "#E5ECF6",
            "gridcolor": "white",
            "gridwidth": 2,
            "linecolor": "white",
            "showbackground": true,
            "ticks": "",
            "zerolinecolor": "white"
           },
           "zaxis": {
            "backgroundcolor": "#E5ECF6",
            "gridcolor": "white",
            "gridwidth": 2,
            "linecolor": "white",
            "showbackground": true,
            "ticks": "",
            "zerolinecolor": "white"
           }
          },
          "shapedefaults": {
           "line": {
            "color": "#2a3f5f"
           }
          },
          "ternary": {
           "aaxis": {
            "gridcolor": "white",
            "linecolor": "white",
            "ticks": ""
           },
           "baxis": {
            "gridcolor": "white",
            "linecolor": "white",
            "ticks": ""
           },
           "bgcolor": "#E5ECF6",
           "caxis": {
            "gridcolor": "white",
            "linecolor": "white",
            "ticks": ""
           }
          },
          "title": {
           "x": 0.05
          },
          "xaxis": {
           "automargin": true,
           "gridcolor": "white",
           "linecolor": "white",
           "ticks": "",
           "title": {
            "standoff": 15
           },
           "zerolinecolor": "white",
           "zerolinewidth": 2
          },
          "yaxis": {
           "automargin": true,
           "gridcolor": "white",
           "linecolor": "white",
           "ticks": "",
           "title": {
            "standoff": 15
           },
           "zerolinecolor": "white",
           "zerolinewidth": 2
          }
         }
        },
        "title": {
         "text": "2D PCA Projection"
        },
        "xaxis": {
         "anchor": "y",
         "domain": [
          0,
          1
         ],
         "title": {
          "text": "PC1"
         }
        },
        "yaxis": {
         "anchor": "x",
         "domain": [
          0,
          1
         ],
         "title": {
          "text": "PC2"
         }
        }
       }
      }
     },
     "metadata": {},
     "output_type": "display_data"
    }
   ],
   "source": [
    "categories = np.zeros(500)\n",
    "categories = np.append(categories, np.ones(500))\n",
    "categories = np.append(categories, 2 * np.ones(500))\n",
    "\n",
    "df = pd.DataFrame({\n",
    "    \"PC1\": PC1,\n",
    "    \"PC2\": PC2,\n",
    "    \"category\": categories\n",
    "})\n",
    "\n",
    "label = {0.0: \"jumping\", 1.0: \"running\", 2.0: \"walking\"}\n",
    "df[\"category\"] = df[\"category\"].map(label)\n",
    "\n",
    "fig = px.scatter(df, x = \"PC1\", y = \"PC2\", color = \"category\", title = \"2D PCA Projection\")\n",
    "\n",
    "pio.write_image(fig, \"PCA_2d.pdf\")\n",
    "\n",
    "fig.show()"
   ]
  },
  {
   "cell_type": "code",
   "execution_count": 85,
   "metadata": {},
   "outputs": [],
   "source": [
    "# Perform PCA\n",
    "pca = PCA(n_components=3)\n",
    "coefficients = pca.fit_transform(x_train)\n",
    "\n",
    "# Extract PC1, PC2, PC3\n",
    "PC1, PC2, PC3 = coefficients[:, 0], coefficients[:, 1], coefficients[:, 2]"
   ]
  },
  {
   "cell_type": "code",
   "execution_count": 159,
   "metadata": {},
   "outputs": [
    {
     "data": {
      "application/vnd.plotly.v1+json": {
       "config": {
        "plotlyServerURL": "https://plot.ly"
       },
       "data": [
        {
         "hovertemplate": "category=jumping<br>PC1=%{x}<br>PC2=%{y}<br>PC3=%{z}<extra></extra>",
         "legendgroup": "jumping",
         "marker": {
          "color": "#636efa",
          "opacity": 0.8,
          "size": 3,
          "symbol": "circle"
         },
         "mode": "markers",
         "name": "jumping",
         "scene": "scene",
         "showlegend": true,
         "type": "scatter3d",
         "x": [
          -7.305253413470753,
          -10.40477702304035,
          -6.3629696762173795,
          -5.733531125935025,
          -5.154044639977853,
          -5.602530301367722,
          -5.318832260486794,
          -5.405049776317274,
          -3.720758976751993,
          -2.850412858794182,
          -1.630680566724764,
          -1.5657092609317458,
          -1.2350858420950885,
          -2.397390295050954,
          -2.802745920968566,
          -1.6620892873165116,
          0.21321068671362287,
          0.05771123897585671,
          -0.5601924756195594,
          -0.5428551519284528,
          -0.48736726170313754,
          -0.7508404771844778,
          1.0797523596645477,
          3.0327786246266233,
          4.905044344203301,
          5.05646606863482,
          4.949576221811761,
          4.360117073694772,
          4.734042082103125,
          5.936315210743838,
          6.212012467275495,
          4.155270085182469,
          4.157821772308519,
          5.124677876333754,
          4.741195329808704,
          5.59872884115707,
          7.745624455249314,
          9.092401181562371,
          10.210897489812488,
          11.347756694097422,
          10.157142892930455,
          9.136030789226968,
          10.066591629093264,
          8.264046276478895,
          8.395308873126428,
          8.001278663592592,
          8.377386804214773,
          6.895932209750198,
          5.28877265730183,
          5.82152778444077,
          6.758782599002313,
          6.919391039816437,
          5.022396158384555,
          1.832682388786719,
          3.110614957095358,
          2.205348624177033,
          3.485970646859644,
          2.7957524780687666,
          3.2423551437810145,
          0.8755293181328797,
          1.6056440754555203,
          1.036835841593134,
          3.2318290403917094,
          1.5522679429445991,
          1.2088823869859002,
          0.529121682609667,
          2.259297120253332,
          0.8915589673292006,
          -1.912327697198556,
          -2.012168794458521,
          0.22606982103448026,
          1.7711830947488987,
          0.7039806262171462,
          -2.073495811022471,
          -4.128016657207333,
          -5.831149621546146,
          -5.051314696370231,
          -4.917018394564472,
          -4.374977786834737,
          -6.0168511585465225,
          -4.350957095038664,
          -2.3367517585289463,
          -1.3010776914483864,
          -0.6773050238642282,
          3.4596472087147103,
          7.1019126963155585,
          6.259176814841355,
          2.36638785034899,
          -0.44441777993417525,
          -0.8649028272576139,
          -1.1902605725012776,
          -0.4285045136680516,
          -1.2167433438280368,
          -0.264346573356772,
          0.6650138841488409,
          1.5530149374842501,
          3.1564301803947896,
          3.835516465941388,
          5.269649000478422,
          8.213958023830804,
          -36.084922651978474,
          -36.535661913746935,
          -37.23182346219511,
          -37.21726824938568,
          -35.034928745485715,
          -33.19981584063329,
          -33.66744727071325,
          -34.531802945463916,
          -32.96728369760104,
          -30.780171329818177,
          -31.80364329130608,
          -32.96953939313878,
          -32.14625631842306,
          -31.84890358529351,
          -32.00790170346591,
          -28.98028161583814,
          -28.016229276817214,
          -30.528985505539048,
          -33.860620818153805,
          -36.288901648737124,
          -32.54954836941887,
          -29.007731979929353,
          -27.14160024651184,
          -27.49911614027144,
          -25.801664030001806,
          -18.226422973645224,
          -13.321526827372988,
          -15.662650738518318,
          -25.839171265456724,
          -28.744337490486956,
          -22.12789771207393,
          -25.587583029442094,
          -17.127440675197796,
          -17.54577761027491,
          -27.7415781812428,
          -24.387211183554104,
          -28.652615487758915,
          -20.409701910783955,
          -18.17061790906476,
          -16.044734886434554,
          -17.269627291844728,
          -26.007288104362015,
          -21.642681611640132,
          -26.004280240015405,
          -17.915537586884287,
          -18.108034440660713,
          -25.431029743799403,
          -20.098518148414033,
          -26.663035540833842,
          -23.00254221410906,
          -29.28684579793145,
          -29.995242119501025,
          -30.398772889703622,
          -30.944222078093095,
          -30.310638499185213,
          -29.66480758951471,
          -30.03576383751931,
          -30.55721960563039,
          -29.169684960059488,
          -27.46050734118991,
          -26.34037106293002,
          -26.06727478481938,
          -25.585667633370285,
          -22.475544472401754,
          -19.10701183713273,
          -20.63119325285167,
          -23.190507400667606,
          -23.64599692657227,
          -22.499632299160048,
          -22.518746811241915,
          -22.875383749346398,
          -24.237110803719624,
          -25.275577047293076,
          -25.277439148259617,
          -27.673027424124854,
          -31.455819049405697,
          -35.6778517032468,
          -39.50874722885883,
          -39.803405697750236,
          -41.66884651820128,
          -46.558196356752816,
          -47.06104833381185,
          -46.970076112298806,
          -51.30329447692523,
          -50.36184861102584,
          -43.728453264787376,
          -44.68867883111743,
          -49.25961925675857,
          -47.58032958406841,
          -44.98449410463147,
          -44.17259930181141,
          -44.19085378256168,
          -45.080365320000446,
          -44.77527266878867,
          -45.126858839270675,
          -47.29582848412705,
          -50.5755645363482,
          -51.462658008222846,
          -59.190351856340186,
          -62.933905972493065,
          22.13946727666585,
          23.317380684553086,
          21.104946262283093,
          21.06928919138576,
          22.340676145854285,
          21.59464252302337,
          22.268027252459746,
          21.439759405951428,
          19.949689081762294,
          18.940335172143755,
          20.288831766670015,
          20.675328796154165,
          20.791557659695457,
          21.134281631898883,
          23.21129057554579,
          21.464064417325353,
          22.06115973093553,
          23.461363224031704,
          24.35091623081852,
          25.78569504002262,
          25.236438030421333,
          24.325305144502774,
          23.74832177008579,
          24.03098887977316,
          23.444519923439028,
          22.187042370720924,
          24.22755044755859,
          25.78342087836422,
          25.747665377800388,
          25.5936951962327,
          26.101828166369128,
          27.43673659705033,
          26.51111090886833,
          25.91892340295623,
          24.10910566818943,
          23.545559746910506,
          25.658974433695835,
          27.498314230168187,
          29.717087377885644,
          30.290734118846526,
          29.70631957531586,
          29.739345427476373,
          29.360738305208216,
          30.0643478307057,
          30.183577315047305,
          28.61507885883386,
          26.33592549006438,
          25.402522950985475,
          25.943074165735773,
          28.22834046750234,
          28.46642419996565,
          28.17409943511276,
          28.937455544629632,
          31.30580688149788,
          31.831062977046827,
          30.802501954893387,
          31.38053188270764,
          32.339833699511594,
          32.02392818879878,
          30.922771061236844,
          30.667929318932448,
          29.846451761212688,
          30.090870422087846,
          31.646599382132592,
          33.910688999667116,
          34.84888413734347,
          35.45094042726177,
          36.269139369076804,
          34.94642402399095,
          37.248020996461264,
          36.83238041787165,
          34.6836139387938,
          33.753605615341904,
          34.58991325392183,
          33.21099444468442,
          33.81947305164909,
          33.57477445598379,
          31.94506349110091,
          31.9584236938625,
          32.1672839183301,
          31.590016914801378,
          30.513621017481626,
          29.393080405481737,
          27.682146035060413,
          24.614414656292954,
          20.91255110023933,
          18.071906525091997,
          12.884837301565621,
          8.53070061710935,
          5.97158660033509,
          4.622021547204812,
          2.3811386084741817,
          -0.6274486108287016,
          -2.355634923517616,
          -1.6214584563545247,
          -3.9654583329419557,
          -6.683861132691217,
          -7.183876033033108,
          -6.324391755140104,
          -8.435108145639973,
          7.330976961169805,
          5.654147828095057,
          5.837372305306909,
          6.701171409477021,
          6.299115041679599,
          5.327695224806225,
          5.759447099023907,
          4.540657195958179,
          2.8291608371829566,
          2.481675197065981,
          4.916867948628236,
          4.744645166947249,
          3.254186083311721,
          1.385813574859714,
          1.7207916262465992,
          3.3594352944647983,
          4.0060604250775995,
          1.9060628152312151,
          -2.8634560150866,
          -7.958634131819372,
          -10.502989682665676,
          -6.0776758115863245,
          0.4287687708372824,
          1.020224294549477,
          -1.4248358412767836,
          -1.4304452767167068,
          -1.2531770555851216,
          -0.8470205323833688,
          -0.716938118143168,
          0.3920847260450974,
          5.683810046930485,
          8.75560321484298,
          7.997357970993975,
          6.6846357222606905,
          5.584593041179152,
          6.454897658394321,
          6.433082861442929,
          7.20342591806063,
          6.858800816906661,
          4.5082179289362205,
          3.9913699068429076,
          4.654819648171692,
          3.5317845813001987,
          3.185832567964571,
          2.5257379570209264,
          2.711879046429783,
          4.595420045454753,
          5.800883565478404,
          6.232811317160311,
          -6.323400540876204,
          -9.290473432719391,
          -10.724622731597638,
          -14.028165133980297,
          -18.239349906043135,
          -22.880484237112697,
          -25.417604434303797,
          -29.87220898867008,
          -33.123717503106384,
          -34.42030609052255,
          -38.64725057491961,
          -42.71187183557948,
          -47.083214167778145,
          -49.993035792163376,
          -52.20865443963622,
          -57.36305613713984,
          -63.21535048478231,
          -64.67849382112593,
          -66.983980983139,
          -72.22001742363689,
          -78.4353489417415,
          -81.27221091109178,
          -83.55263017638097,
          -85.03919461626514,
          -88.69236315482158,
          -92.59617449579682,
          -93.99311363889076,
          -94.03037186043348,
          -94.79887510777822,
          -96.7465454678972,
          -99.0162745115723,
          -99.29670451843495,
          -100.05867163235641,
          -101.08341612574941,
          -103.95520185756622,
          -107.70870519774476,
          -108.06613462823104,
          -103.10117367198147,
          -102.49914011390085,
          -102.63589184978547,
          -99.26099214127504,
          -95.24821063452288,
          -93.84892907466656,
          -93.7430973766921,
          -93.29228022106645,
          -95.62279580555031,
          -93.34245923589168,
          -90.90453017803823,
          -88.64296492574299,
          -95.50261028450355,
          -110.36968149806317,
          -26.93610128067652,
          -23.7737500743459,
          -22.58330394845559,
          -24.15637898600277,
          -24.607132228966147,
          -25.02166573649912,
          -25.37036032629317,
          -27.572338142119207,
          -31.61690554988401,
          -36.63928848729048,
          -40.86262889268506,
          -43.87765477575785,
          -44.80908884635824,
          -47.65889343278555,
          -53.78082689864194,
          -61.63506446675714,
          -66.66653271444684,
          -68.81025076381783,
          -70.47832725635844,
          -71.40572064822808,
          -76.24157123205245,
          -80.23822600526162,
          -80.57307888455816,
          -82.05685295809091,
          -85.6166631364599,
          -89.63005153638716,
          -91.73494708543967,
          -95.34352205075307,
          -98.72859040875271,
          -96.91143243870754,
          -94.58902486509034,
          -94.32075893397263,
          -96.55561932258685,
          -100.48481211499485,
          -102.40373232306158,
          -103.49473174550766,
          -104.50657926631904,
          -105.1204642415564,
          -104.18025813282823,
          -102.8565169142787,
          -100.99317895879982,
          -99.82779071453886,
          -99.44829551947619,
          -97.96692958381891,
          -95.78122884174279,
          -93.76818145881481,
          -93.45674251884488,
          -93.61524022727747,
          -92.77249593099252,
          -93.12827369599083,
          -94.16823499826828,
          -92.61143721504716,
          -93.0186484897363,
          -94.532494863372,
          -93.77309643085395,
          -91.76454476776271,
          -89.7194502674592,
          -85.63375362030558,
          -78.30514961179142,
          -81.38221593725012,
          -82.00578563043508,
          -81.44452661845018,
          -81.27160306624522,
          -77.42118100907605,
          -71.46653713084746,
          -70.50358086339787,
          -71.39592189559806,
          -72.54784971391116,
          -72.41576158172596,
          -72.0736140751088,
          -73.78720876380275,
          -76.89833568233587,
          -76.23284070276797,
          -72.82410775645481,
          -71.36331309616557,
          -71.22084095594431,
          -69.92793254927884,
          -69.93981467045525,
          -69.8082042357359,
          -68.80821052224232,
          -67.23681218346356,
          -66.50299796060153,
          -66.58621519095483,
          -69.88552154018552,
          -72.72436412641575,
          -74.55220440624429,
          -77.77977098306837,
          -81.22821828175375,
          -82.86513624776181,
          -84.25460750359218,
          -86.85216570043461,
          -89.50129119029128,
          -91.97629661365426,
          -95.20792968591627,
          -95.62229711159114,
          -93.75812457465874,
          -96.27477525702594,
          -102.34587575995093,
          -103.5325533706961,
          -102.80685208357733
         ],
         "y": [
          419.974724821464,
          426.39514981356325,
          421.87258603606324,
          421.4599449108889,
          421.0935274058999,
          421.0239984844188,
          420.7697862396771,
          421.0463513413771,
          419.3222559611657,
          417.87626122115984,
          417.198588700052,
          416.9873482841188,
          416.1354815341353,
          416.6289892508946,
          416.9967473546289,
          416.33735228240243,
          414.4191587621949,
          414.7557735253605,
          415.5204486126618,
          414.9396807624306,
          414.7212439442129,
          415.59259516382735,
          414.32034436651264,
          412.9426217761041,
          411.60912379593145,
          411.12608966548845,
          410.93780722390983,
          410.9076187211883,
          410.2976154195545,
          409.452525464427,
          408.8255367517638,
          410.3427731050135,
          410.43197016452393,
          410.1307958511783,
          410.60266099522585,
          409.58304589442804,
          407.41426542551847,
          405.0467201199917,
          403.91383053154135,
          403.618348536864,
          404.9702278204216,
          405.12459215718616,
          404.79112974073945,
          406.05281502333145,
          405.5680468407694,
          404.67271598830615,
          404.27334045637485,
          405.7970715916781,
          406.4012882457201,
          406.0165185383118,
          405.13907662398253,
          404.62584496148014,
          405.9688017159123,
          408.4216680522189,
          407.64933777282175,
          408.029557285077,
          408.25167201712094,
          407.946935290751,
          407.592788799555,
          408.63171941386105,
          409.18011356926274,
          409.86140562174444,
          408.73053010995704,
          410.05131465710804,
          411.09936339852936,
          410.2398297530131,
          410.36842606197723,
          412.3241610087879,
          414.56961758388223,
          415.4716307059382,
          414.7967251886474,
          414.03370516237635,
          414.7440364601545,
          416.4147447256811,
          418.1238538129402,
          421.0536838458962,
          422.9788604180638,
          425.94250231129683,
          428.3306194183601,
          432.6156385849918,
          434.2864349610449,
          435.19642105497104,
          437.1610116287215,
          439.81501058229196,
          441.6404455503993,
          443.22947049468553,
          448.4956539566083,
          457.17341939153357,
          463.6481746517561,
          466.52228981403056,
          470.0410928316623,
          474.8557474633571,
          473.88333293493275,
          475.4443109748172,
          480.65699385885006,
          483.5030005527705,
          484.04502698541165,
          485.9039651701251,
          488.1504834715953,
          487.94798188166004,
          474.1829711529988,
          476.5143677069107,
          478.76528729893556,
          480.46529494652776,
          481.0537479468312,
          480.53743766537224,
          482.78257017512857,
          484.5427232373011,
          483.87001592742115,
          482.78694673890334,
          482.25144015402594,
          483.15112196186226,
          483.753129417538,
          485.65560931390485,
          486.25139537642076,
          485.18205130848855,
          487.07302903120996,
          488.6821494699039,
          491.6011771191773,
          494.3580914362248,
          490.9433316080752,
          487.0129088514456,
          484.7177701472174,
          485.09165456056064,
          485.0680214358165,
          480.6566997500036,
          478.04684904738133,
          475.18705582372314,
          477.4464973226391,
          478.63627382837865,
          477.58796068134683,
          477.1237237563992,
          475.40896291162517,
          475.53848171668363,
          479.7078943122289,
          478.5158193961592,
          478.4645919776258,
          476.3701342773858,
          476.81826257413303,
          475.2806242593754,
          473.60683218748153,
          474.181582198781,
          474.07589181987015,
          474.3004332465491,
          473.0181425730772,
          471.85462618284606,
          472.8513855014353,
          471.6926455683902,
          473.7691766154866,
          473.32360129177954,
          476.1905293876605,
          476.72325414626164,
          476.90432050422845,
          477.2313742144959,
          476.86054423018885,
          476.42889176601744,
          476.77484168149863,
          477.1423481544078,
          475.5549452781166,
          474.77761129877007,
          475.61476803943856,
          476.9712178675942,
          476.96174008765144,
          475.09269796193706,
          472.96403209208205,
          473.96617859451425,
          476.1253439439003,
          476.72679033266417,
          476.575680369961,
          477.71708874489593,
          478.700436738085,
          479.8408774423526,
          482.6493388342473,
          485.4601418513325,
          489.7339220732994,
          495.2758911023683,
          501.63697742042444,
          506.8223644564301,
          508.8593794538963,
          513.5895157660045,
          519.8759266112509,
          522.3953701213353,
          524.821253361606,
          529.4524756736281,
          529.2883301890063,
          524.7412141998908,
          527.676565658944,
          534.1415676312292,
          531.3404639613203,
          525.2784231859362,
          519.7376217885554,
          513.3295381851151,
          506.4313040121834,
          497.43674975107723,
          488.8931972119402,
          484.0191113636485,
          481.13213672407124,
          479.01525201531985,
          476.9721114257189,
          475.4219626010057,
          433.7118500053372,
          431.7901674463609,
          431.70728697864485,
          429.8685154828879,
          427.3192870661787,
          426.66254886477896,
          426.0066443869651,
          425.22919926305957,
          424.6246183034794,
          424.8030028967336,
          422.9423850439937,
          422.0553936124626,
          421.3666958345872,
          420.0422468153594,
          418.2053240400389,
          418.2608563911404,
          417.42109912677387,
          415.3037786999342,
          414.9594286572303,
          414.135749217371,
          414.64040617958284,
          415.2854479792554,
          415.299147322164,
          414.17288868407536,
          414.41348942111756,
          414.83756313849545,
          413.9403302569945,
          413.75728698764516,
          413.9598469459961,
          414.66705153534633,
          414.7013676328705,
          414.56434082033246,
          415.72994661702194,
          417.0205418993359,
          419.63904564670935,
          421.4505938407365,
          422.2370608531344,
          423.1750399803093,
          422.7657162429951,
          423.14017860084294,
          424.2996516378907,
          425.60774572214694,
          427.3782056421129,
          427.1861656795133,
          427.99296271761636,
          430.4028134211123,
          433.634325548921,
          434.91168367752556,
          434.49048230291044,
          433.2423912949573,
          433.7352105456926,
          435.7200789381041,
          436.27112375659505,
          434.78929250548197,
          435.2447322600988,
          436.69126972496554,
          436.5599194411998,
          435.41325442364234,
          436.20944055485154,
          436.7785814605769,
          437.1676986788243,
          437.71907548798316,
          437.90761223586054,
          437.0160501217836,
          436.0694389378894,
          435.1393931319722,
          434.7630685414705,
          434.5680040566436,
          435.56393536860537,
          434.61402198671203,
          435.3867978785543,
          437.0617181444834,
          438.8431771426042,
          438.54903238002726,
          440.07681322413225,
          440.46798255215873,
          441.7196031280462,
          443.6253130058447,
          442.9177185281702,
          441.3077401079338,
          440.72652246327254,
          440.9266238465193,
          441.2032384278163,
          444.0563284407649,
          449.2527506238665,
          451.8967061631619,
          452.272304640479,
          455.2752867706159,
          457.559194671285,
          456.78360551429614,
          454.56600250051935,
          452.63399600942563,
          450.7045193727488,
          448.3025489446609,
          444.9539817406821,
          444.27206724421154,
          444.18188377177347,
          442.78359077052056,
          442.6549638907491,
          446.049821040479,
          426.89538743881553,
          429.5122470117299,
          430.329375435752,
          430.75859160556695,
          431.63056169973987,
          431.8522344583983,
          431.2470598696664,
          433.11512582607946,
          436.49612890496076,
          438.4181627510089,
          437.78632759213116,
          439.7720171568826,
          443.53116366851987,
          446.13146315314094,
          446.3555126235578,
          446.33221016441183,
          447.1237453625576,
          450.57886786046737,
          458.5062111752875,
          468.05476462255865,
          473.8912503171569,
          473.4828224881061,
          471.12409373200956,
          471.9741802086078,
          477.3683132542939,
          484.4776546015256,
          489.351319743798,
          490.38984326293416,
          492.1829513371302,
          493.49751763647265,
          492.00920397092494,
          493.4048605868441,
          497.5567059077519,
          501.2192756332087,
          504.87074199109526,
          507.9305297872812,
          511.7437117883325,
          514.2752773453377,
          518.435961687581,
          524.9211125364532,
          530.0548962411597,
          533.3027878608196,
          537.1003656089428,
          540.3240526579732,
          545.2219829123899,
          550.8988352988471,
          553.2790808243498,
          556.6067546233354,
          564.4016187748825,
          587.3946707692473,
          595.7243521628819,
          602.9167898915459,
          609.6887567115601,
          616.6952887035662,
          624.8372739890223,
          630.5823419940253,
          638.3172286364845,
          646.8816056538611,
          653.6309861296799,
          661.5965159875619,
          670.7251504182271,
          679.4369339152948,
          687.7476010019142,
          697.1557500008944,
          706.3516368702661,
          716.4411140904512,
          725.3290069779057,
          734.4852874864372,
          747.1464622268901,
          762.3039489999783,
          776.8591946452455,
          789.8869538688231,
          802.7693267634573,
          817.5742081930402,
          833.3601075753148,
          847.3916772042721,
          860.1575002713745,
          873.6484581399691,
          886.8566559678404,
          901.1848382041791,
          913.8526935326573,
          925.3116881288438,
          938.1571891946095,
          956.5926423022206,
          975.1115381243488,
          986.9066754819747,
          993.3139297444518,
          1001.1884847034461,
          1011.0084369412776,
          1017.7615085994287,
          1022.6242194390031,
          1027.6613789238947,
          1031.9640442743225,
          1035.4598377357615,
          1039.9181472914652,
          1040.8049587170747,
          1043.048216214465,
          1043.8394105525042,
          1052.8098967852059,
          1083.4809502608375,
          525.4758085745066,
          521.0048375074543,
          517.3083312768447,
          514.1543495206078,
          512.0082707491524,
          512.0447050524423,
          512.6984113669939,
          513.307074318923,
          514.6185686094234,
          515.8660910879229,
          515.7494953840667,
          514.7347791009792,
          512.7497628084891,
          512.1990370057159,
          512.4803690827929,
          514.7241333445245,
          517.9918794731507,
          518.1111069998062,
          516.6671053060453,
          515.88240983131,
          516.5511098705176,
          517.1242968503033,
          517.2458776098357,
          517.4479116421466,
          516.6560248604624,
          515.1973730883113,
          514.1097508020707,
          513.8209702393693,
          512.981119136182,
          510.8052800405178,
          508.93988501494255,
          507.99984411117634,
          505.960916448464,
          503.89472463706204,
          502.5464715172846,
          501.5858936697441,
          499.71875336380424,
          497.54942162281463,
          494.4789870095496,
          492.44999908313923,
          491.07139899955473,
          489.280203713285,
          488.00925172263027,
          487.0145078040335,
          484.2877628461022,
          482.9559471797238,
          483.60542617557013,
          482.2272178840354,
          479.406543396578,
          478.31578538243025,
          477.7896486429015,
          476.0606301424408,
          473.9786798950503,
          472.66495093233345,
          472.2379125336116,
          471.03279793518163,
          469.3619902118912,
          468.61496958785756,
          467.00364411672126,
          466.57708485027865,
          467.1305979405827,
          466.9421774286934,
          466.37119937022857,
          466.968381075178,
          467.71088321671607,
          468.2942179411093,
          466.7649385364495,
          466.3004547130997,
          468.6731862935847,
          471.3422426787625,
          472.46812038463383,
          472.54523770783754,
          473.798830056451,
          475.8873669816561,
          477.4037135908632,
          478.2408727274303,
          478.5060150974786,
          480.1940364716295,
          482.6669389141444,
          485.3600039645298,
          487.55012257346004,
          489.5374938991023,
          491.8462477052395,
          494.5533578209455,
          496.03848536775087,
          496.45723004500564,
          495.7946760149074,
          495.72038872709095,
          497.30052204384384,
          498.78192751830073,
          499.9139917367958,
          500.45526468682607,
          500.3671250285034,
          501.26917976051175,
          501.05782599804496,
          499.8709669990525,
          500.25039878674323,
          499.7243185725383,
          496.1174752934295,
          492.02579868753105
         ],
         "z": [
          254.9778036141475,
          253.20863195675577,
          250.90408103814536,
          253.29674563273855,
          257.6486021402281,
          256.23681587030296,
          256.3720064480587,
          255.27922791871572,
          259.5735614994335,
          260.6499209461918,
          262.24734053106306,
          262.57559959810106,
          264.58283377109353,
          263.2161356425369,
          261.7207368044828,
          262.25319332204793,
          264.87731662499834,
          263.4813428696537,
          263.08411904652985,
          264.0854855853746,
          262.60477178315773,
          260.1093856200519,
          263.42135944173555,
          266.9148718683371,
          271.26448471741486,
          272.04156992032114,
          271.7006478298044,
          269.0414043521696,
          268.93134121125485,
          271.9771669175526,
          272.74892628200587,
          267.03456099176435,
          267.3397247436583,
          268.71015968011096,
          265.9822667215856,
          267.8755102165848,
          271.39428713392977,
          272.7678306036625,
          274.6231807340985,
          276.36956782340894,
          272.293732606099,
          270.6691779693365,
          272.6682816497523,
          270.2065559493378,
          269.14959067933364,
          269.63769566320786,
          270.5193844504689,
          264.9380504520802,
          261.5657043158893,
          264.6181626737323,
          268.16274340679286,
          268.9521474991412,
          263.4013278378375,
          255.55188025715887,
          256.3095492522549,
          256.2652910480739,
          256.53299215183966,
          258.32155012993195,
          256.3859229102811,
          251.82553238654563,
          252.9588166382728,
          255.44280505605647,
          258.9788276949257,
          259.0490725060445,
          255.01194591143727,
          253.59941221475003,
          253.7276348602343,
          252.30401591854869,
          246.3857393316923,
          244.73986216064023,
          249.23341987497687,
          252.71157792928685,
          250.0290652782586,
          244.0497369761432,
          238.01124778249863,
          231.0521498346276,
          229.6484560587816,
          224.95836015839018,
          222.49207034563946,
          212.85982054043765,
          211.61434942698588,
          214.09854484048333,
          214.42164411825377,
          215.1749821100281,
          216.0544416940553,
          218.71339241499317,
          209.12181244518646,
          187.30582618456666,
          170.46385274964572,
          165.45907798313843,
          161.82475725965924,
          158.41446994769373,
          153.1821747677341,
          149.29857963284468,
          143.265689189733,
          139.38612571189395,
          138.26177344739153,
          134.1556760377009,
          131.5683611981584,
          134.77437941786158,
          100.05062098601604,
          95.48537734389828,
          90.58847347475712,
          88.27741531217376,
          91.32381727107011,
          95.00572431163154,
          90.6041268368601,
          87.44324267673433,
          90.76118518188572,
          91.11624102148721,
          89.71157479747423,
          86.91617807227271,
          84.6516275669138,
          80.40997643169513,
          77.0804459491479,
          82.78732469956067,
          81.79893838649419,
          77.01243529344896,
          65.39151456830946,
          53.8623794109357,
          63.22951368720711,
          71.64836116889266,
          74.82758687295949,
          73.02430794263356,
          74.45321782713731,
          87.90193118294884,
          97.81961281783232,
          92.18064024548073,
          73.12724801640911,
          64.39291825937316,
          74.98121780450808,
          67.70090721123253,
          84.16911421480295,
          82.89432669654033,
          58.78352552579548,
          65.55378213508924,
          59.32121902197129,
          77.65235540038724,
          81.19185308211533,
          86.35066952405846,
          85.96088896439761,
          70.30313435040912,
          78.40897483758609,
          68.578830312301,
          84.78089660232956,
          86.00113629417532,
          71.73447295962899,
          84.31224775889211,
          68.83487602831917,
          76.43232241002305,
          62.489692180540004,
          61.485568049941456,
          61.04260769453365,
          60.365615144571876,
          63.02816346735933,
          63.95997648644825,
          59.077257124021926,
          57.07587705311231,
          60.89181539270328,
          61.18691562716222,
          58.46947896106799,
          57.50637474010733,
          59.12647656579985,
          64.81999117885059,
          70.60792749314412,
          67.05714102301873,
          56.66117358243289,
          51.78251416242652,
          51.61636668239537,
          48.42136671596393,
          43.79947313188138,
          35.47561285549764,
          21.803511829819644,
          9.876801581221677,
          -3.6138412009509877,
          -22.186921370575696,
          -46.800196244608486,
          -72.17589833749722,
          -88.36422697072967,
          -109.23778603940549,
          -137.5111086938509,
          -154.0639310899391,
          -172.939344461068,
          -206.70019454681554,
          -223.70193218448324,
          -220.108469885348,
          -243.35830110069915,
          -283.7419400375401,
          -300.1602847681174,
          -309.58068119129973,
          -324.81422451104555,
          -341.7044897259745,
          -353.098884012646,
          -351.57659415907347,
          -353.6574823884928,
          -374.3229147769653,
          -409.7518380124879,
          -447.9061264500032,
          -478.7756280102289,
          -510.9878205490232,
          221.8119318202403,
          221.45051475782287,
          214.13417076981568,
          214.99430518369252,
          218.33178058385545,
          217.94872010573962,
          213.61554891109486,
          209.49577800707797,
          206.3863433351654,
          203.6383215446974,
          205.73444686625703,
          206.154561713513,
          206.9315527891702,
          211.10048358863727,
          213.6456155549499,
          213.09211350987053,
          211.46000807315363,
          216.47495301190054,
          216.93318549479494,
          219.5882028780282,
          217.1979332320223,
          214.1057107613191,
          214.43669840266892,
          218.11386570437296,
          217.28972250863652,
          217.5544240442845,
          218.8806380675043,
          222.20651769347373,
          224.62556040708944,
          226.7336393682803,
          227.79304517942134,
          229.13269711409615,
          226.8305209208255,
          226.60171282125594,
          223.17443738886757,
          222.10516385532304,
          226.5049956026316,
          230.79613468859293,
          237.46037062256906,
          239.47909100899616,
          238.18663869731122,
          237.86718486488434,
          236.85215595216346,
          240.35959300952763,
          241.15417632111982,
          237.27554724443164,
          231.0989983271574,
          230.70030153637452,
          234.96635314898109,
          240.92552154027578,
          240.75088436008397,
          238.074786403428,
          239.77782689980728,
          245.72857985357209,
          245.3976848787035,
          241.23470335621755,
          240.61642785006487,
          239.94809366257712,
          235.519117231628,
          233.01811521156588,
          231.7250543064382,
          227.3182612075893,
          224.73354386290393,
          225.06813253948198,
          223.50948404080398,
          219.0512057245824,
          217.2941485539927,
          216.07617517053268,
          208.2799514133675,
          210.32569037526193,
          204.2917401422034,
          192.75120669461566,
          183.18302388248074,
          179.15598053145456,
          166.82619755423238,
          159.55268648180225,
          151.90346735169962,
          143.14535024757362,
          135.82367470843937,
          127.49663852849879,
          118.66155635029433,
          108.92986217222182,
          97.52493402865029,
          79.62266181380285,
          55.25229585847855,
          33.65506311832444,
          18.409155194537938,
          -0.7785349611323044,
          -18.34451774781346,
          -32.821190808375974,
          -41.342894224956346,
          -50.50405294945649,
          -61.693488985152094,
          -68.18697971301248,
          -70.72688863170667,
          -81.82415326134534,
          -91.26186946909434,
          -94.58319228196457,
          -100.75042925483375,
          -119.74688676178151,
          228.00752916770784,
          220.9521786475313,
          219.75610774699382,
          221.29847237397246,
          217.89940292902702,
          214.09229435893837,
          214.9067836137469,
          209.93928798112634,
          199.70138019098178,
          194.28017426845184,
          198.39200539222549,
          194.0179712910801,
          183.10386308424,
          172.9128480405352,
          170.61022219143874,
          173.17160793163606,
          173.82384471350215,
          166.01399421422767,
          141.97715387587635,
          113.26331832891772,
          97.42336612937407,
          104.034338942998,
          116.73612427844269,
          115.34751515168172,
          101.41677481159236,
          89.04950449594624,
          81.84227273780787,
          80.89803059978543,
          76.90952399387685,
          75.15446678825053,
          85.82952511059669,
          87.15377821070027,
          78.81929359757298,
          72.06926169746093,
          65.82343670044077,
          61.099238409910825,
          53.52893527689229,
          49.15637938283161,
          39.73998124037088,
          22.6799980135421,
          12.629398063676746,
          8.219005125504106,
          -1.0686046424450792,
          -7.6685775329944486,
          -18.569440810963886,
          -29.588775470642183,
          -32.24021056100962,
          -36.89121556441036,
          -48.409067246470954,
          -115.7499967951413,
          -136.85799384390884,
          -153.74130147462515,
          -173.10787576741257,
          -194.69489989538692,
          -219.31668357871752,
          -234.06762053300523,
          -255.16340426943407,
          -276.7237571562999,
          -291.09417068025107,
          -312.1016090735987,
          -334.3024182008879,
          -356.3201660300754,
          -373.67970255800685,
          -389.37851479930356,
          -410.9694291388533,
          -435.8673586326616,
          -449.03656314774594,
          -462.00873470337314,
          -483.5080165145904,
          -509.42969190050445,
          -527.8427094891514,
          -540.5200300258853,
          -549.7300667242572,
          -564.4711153078414,
          -577.0502963922389,
          -584.1153018208794,
          -585.441891180755,
          -586.6994427195799,
          -593.2614645290171,
          -599.5814655859338,
          -600.8943667284076,
          -601.2178886087006,
          -603.4244011744369,
          -615.7635654086631,
          -635.1304067338469,
          -638.6222995810306,
          -624.6208678847125,
          -620.7044441478062,
          -622.9792369731086,
          -617.988275518448,
          -607.4364730401595,
          -602.219746318146,
          -599.6953151543674,
          -597.4553414090849,
          -603.1387863384558,
          -596.1472468896602,
          -592.3608471713718,
          -587.0744205558435,
          -610.8588917207015,
          -680.7683002651287,
          -125.85203238294278,
          -129.71713654059428,
          -134.70823571839367,
          -145.13432834278322,
          -155.18452578552188,
          -169.68581032913482,
          -184.91943336313213,
          -203.4457888128597,
          -227.83352251813398,
          -253.74422769424268,
          -274.97919903709993,
          -293.3168133880252,
          -304.053506717365,
          -319.34047322386135,
          -344.7682315854446,
          -377.44858091930575,
          -406.4635414551069,
          -425.96137454591246,
          -440.12495344877095,
          -451.2131861605748,
          -473.10869139713935,
          -490.39416091812785,
          -499.88623354516926,
          -514.5471978090332,
          -533.1912005159711,
          -552.6938393192692,
          -565.384350617614,
          -582.4918683758984,
          -598.6523925997344,
          -602.8535272986365,
          -608.214491127886,
          -617.9485696912261,
          -628.3029427023079,
          -644.2890406862942,
          -657.1782940860633,
          -666.9027203601038,
          -674.923443125753,
          -684.2076159737733,
          -688.0690230731597,
          -691.8854204559957,
          -692.2560058065425,
          -695.0226328068685,
          -696.9267287657591,
          -694.0446907956465,
          -692.8376590466872,
          -693.1360065747668,
          -695.6345070184424,
          -699.5802086633568,
          -701.0195484662379,
          -704.9033509963016,
          -711.1161886316997,
          -711.3276523893161,
          -714.9499228289983,
          -717.69351078587,
          -717.5906642049821,
          -717.040335479058,
          -713.5508579234569,
          -702.9796884435854,
          -684.2038344902536,
          -693.9242391725662,
          -693.6935899905783,
          -691.6360351451531,
          -688.6075598900836,
          -678.2172138304676,
          -662.138624217434,
          -656.5271301535752,
          -651.9135623444254,
          -650.6660247328492,
          -647.7930919623527,
          -644.0431722907045,
          -645.427857540324,
          -649.6982344583731,
          -645.1706579274359,
          -634.2466091606395,
          -628.2372224122565,
          -625.1344886492813,
          -617.7285280011123,
          -614.9132071418892,
          -612.2845450035477,
          -605.7997070125128,
          -599.1445246582308,
          -596.4083199096201,
          -596.8174625127411,
          -601.5758651381881,
          -602.9913043811318,
          -604.8830700509712,
          -607.688647026002,
          -609.9870247141744,
          -613.7211130809384,
          -617.3988723530225,
          -624.1800307181745,
          -632.4142064333056,
          -641.9688155504961,
          -650.998445122982,
          -654.7032131856708,
          -651.9874364186254,
          -659.9193845529918,
          -676.7725538860232,
          -681.6023726455583,
          -682.071010330732
         ]
        },
        {
         "hovertemplate": "category=running<br>PC1=%{x}<br>PC2=%{y}<br>PC3=%{z}<extra></extra>",
         "legendgroup": "running",
         "marker": {
          "color": "#EF553B",
          "opacity": 0.8,
          "size": 3,
          "symbol": "circle"
         },
         "mode": "markers",
         "name": "running",
         "scene": "scene",
         "showlegend": true,
         "type": "scatter3d",
         "x": [
          -61.998800377375574,
          20.009193349647585,
          102.06797112208308,
          183.91365042536327,
          268.5802469617834,
          354.3156557823187,
          433.7713100225787,
          516.0681020485506,
          592.3548789027396,
          666.5130902347747,
          735.9589989637242,
          806.7581618674691,
          871.3419007882997,
          930.4478557858116,
          995.457031944196,
          1059.7016920824963,
          1114.4422420783005,
          1168.5372457283133,
          1219.8658978771389,
          1271.1987326648193,
          1323.9568516271609,
          1371.232777015332,
          1414.995516531841,
          1451.0587583590077,
          1477.5773819932379,
          1493.7552621815357,
          1504.2733298106784,
          1502.772595309937,
          1493.2314091627306,
          1475.5289294475242,
          1455.2146123130033,
          1428.415562777833,
          1392.0067652840407,
          1352.038571036116,
          1299.6455892451095,
          1238.6339097378714,
          1168.0546642856539,
          1088.7612594065688,
          995.8733011330553,
          899.0833292719109,
          802.6875654471542,
          717.719197269908,
          628.5566976582555,
          543.050170329574,
          444.6868874108425,
          338.81075584193604,
          241.73383107194294,
          152.78379753912068,
          55.17932963036226,
          -39.72302392725455,
          -137.86323395561797,
          -219.8757802282932,
          -307.1497039170106,
          -396.2010498834588,
          -482.13206879682673,
          -561.839028658269,
          -637.0659537012414,
          -708.225849538985,
          -779.0065621403515,
          -854.6958880909933,
          -929.2563146497918,
          -998.0462152944431,
          -1058.0999442926225,
          -1108.6093352125542,
          -1155.263504379044,
          -1202.2416187936517,
          -1244.4830968961994,
          -1287.9883217071158,
          -1317.7989581699694,
          -1324.4271592802475,
          -1320.1795914243935,
          -1321.850653101759,
          -1310.1538213912077,
          -1286.3273415630756,
          -1259.973172167304,
          -1231.274020226916,
          -1196.79505190832,
          -1155.449023485201,
          -1094.4129017364614,
          -1032.6755644741088,
          -969.1703313862512,
          -904.1886904648171,
          -825.6748245762424,
          -725.6306889432759,
          -613.5224193673243,
          -512.2360746591571,
          -442.35765258601276,
          -365.4978422976646,
          -286.4406107245367,
          -211.14997866011043,
          -126.49718890014631,
          -26.51723288602128,
          69.52190924217291,
          148.344555681145,
          235.79253056481357,
          330.2293155843732,
          424.767582401066,
          498.89686419077674,
          578.5464584335131,
          667.4200564648268,
          442.3436384322622,
          365.87123168428167,
          294.1109769938939,
          207.150607975899,
          131.84988822439965,
          51.02689095511002,
          -32.277169291000035,
          -117.34893658273936,
          -196.73362882820635,
          -279.7724398706982,
          -362.65026294968214,
          -441.7761081060573,
          -515.4298943181291,
          -583.1350918723311,
          -646.8915225165655,
          -708.7816102580791,
          -769.5349100422409,
          -829.0285889184462,
          -880.2061163127256,
          -935.4386764352663,
          -993.3740062076317,
          -1041.198932145509,
          -1113.937876923708,
          -1166.4608356624974,
          -1197.1650193288242,
          -1221.1219764513235,
          -1242.2517838464942,
          -1281.8633684878525,
          -1327.122576546833,
          -1322.7127085321365,
          -1332.7904933210912,
          -1332.2995978068416,
          -1330.311174898936,
          -1326.7607775485835,
          -1299.2521734053907,
          -1251.7462286857126,
          -1221.0072359848796,
          -1185.7396511524757,
          -1151.6095758866702,
          -1112.7524960764083,
          -1059.5612233712968,
          -992.3794746680884,
          -914.773637079996,
          -827.4413417884288,
          -747.9981016824664,
          -673.2511121704507,
          -605.8200097938861,
          -544.0299634349061,
          -485.6769559573928,
          -427.29854465428974,
          -363.3045976837002,
          -290.90666454373354,
          -203.70644371007032,
          -103.53833154873146,
          -9.36783964974068,
          65.50046927203859,
          134.34725045517345,
          203.77014018984426,
          278.9171735584704,
          353.044653310849,
          422.73919379575983,
          490.9912512302744,
          557.9005382792812,
          627.0378365641604,
          688.5418720754732,
          746.8621939969898,
          806.613918649992,
          864.0740517544194,
          920.1492723665349,
          970.9290641881477,
          1011.1478144179032,
          1041.3844022179055,
          1072.2244902259015,
          1110.7800950056126,
          1148.1469065092574,
          1175.5508373315022,
          1197.8951414633127,
          1211.0091269935067,
          1217.7902714668317,
          1215.8069558931018,
          1208.6938360212537,
          1196.627339337585,
          1176.2687603425252,
          1148.7288223874305,
          1117.1198327732259,
          1076.9523022628875,
          1040.9431880153245,
          999.0467864703946,
          939.390806653174,
          879.9751937768748,
          818.8097840293298,
          741.4264380381143,
          648.5295236110791,
          549.8969740386843,
          454.17991804271276,
          371.2586083847847,
          298.6340219335053,
          229.05331558626327,
          157.84413779817476,
          84.352771129644,
          -1130.9527925122013,
          -1056.0829286790797,
          -962.9677353205021,
          -857.9000777588599,
          -755.9778713452846,
          -657.1915902901166,
          -567.7285868645008,
          -486.1869311091363,
          -401.3238313875609,
          -307.6564008985663,
          -213.01589960652362,
          -112.79446949674934,
          -4.946442740590998,
          85.29455925057871,
          180.3721801337504,
          265.3658794301465,
          348.73867819118726,
          430.9839293216095,
          513.5783289908452,
          544.0936336127812,
          673.8148125570546,
          751.7364935740916,
          828.6671991823554,
          897.6765838329537,
          974.2945702301685,
          1050.5997046223913,
          1116.270535665263,
          1179.0319129146515,
          1244.0331600184907,
          1269.8048622864667,
          1329.334790460539,
          1379.7312996053652,
          1423.4718297709423,
          1460.1345565933273,
          1483.276267476242,
          1493.644427958138,
          1495.9202966540497,
          1482.2863245557407,
          1463.0486192934495,
          1439.9845804443853,
          1409.2269449689848,
          1367.038455676833,
          1321.3028194956657,
          1273.4145393704107,
          1218.1302616828132,
          1153.9299546465759,
          1081.8347168181829,
          996.7643976805907,
          914.3999479345148,
          818.9954902284962,
          713.6441062377236,
          597.288156402007,
          495.8116917656235,
          398.35463339675533,
          307.5396536967729,
          229.52776980451554,
          144.4177159031784,
          50.49906491019411,
          -49.88062299099071,
          -142.37860153371375,
          -230.7420149187002,
          -316.3118784768435,
          -401.305438937603,
          -490.3330746649526,
          -577.3571182213825,
          -654.9433598249046,
          -732.471338252642,
          -816.8228580895147,
          -891.5546079437008,
          -964.9266293367781,
          -1031.333235140832,
          -1087.4075156137894,
          -1142.7285481570011,
          -1200.5866978456515,
          -1258.913756597937,
          -1301.8900002899352,
          -1334.2165097067195,
          -1356.0942724578304,
          -1373.8523017085254,
          -1385.0507496044308,
          -1384.0097148796788,
          -1370.1652737841805,
          -1349.5486895590884,
          -1322.8415655787633,
          -1277.6828532641373,
          -1245.233753002211,
          -1199.7755011820661,
          -1150.4243483492655,
          -1089.1532710753152,
          -1023.2117511666572,
          -955.4083671597041,
          -870.2657419725546,
          -768.6904348175029,
          -647.7307282856948,
          -541.8086219701172,
          -458.5012125355593,
          -371.6136054471375,
          -252.27530070805133,
          -155.68392847430647,
          -71.76050115317386,
          754.0353581252206,
          824.93556318358,
          897.1581359855752,
          967.60110041335,
          1041.1514130102616,
          1102.726567958658,
          1168.3778304775547,
          1226.1675483119,
          1276.2412478664282,
          1316.311560827336,
          1359.5463357302383,
          1390.9143843958886,
          1422.2076872081777,
          1440.8467128627642,
          1437.9284986545022,
          1423.82383522706,
          1404.4144001191933,
          1367.895052263069,
          1338.499606489864,
          1297.6772961517113,
          1243.3038992827187,
          1177.3351754936023,
          1107.4597522707888,
          1032.7324352590686,
          946.9415370698988,
          853.939920312691,
          752.35158565409,
          647.2443695512496,
          551.0734136268749,
          461.4498229397865,
          363.8199823043796,
          292.1134759261068,
          204.78665105573006,
          118.86914609120473,
          27.152996349859432,
          -63.93684224983016,
          -149.5660266734265,
          -234.33213440048002,
          -319.00507319075564,
          -398.00646098228407,
          -473.8935295483928,
          -546.4139425166511,
          -630.3476607958457,
          -710.4593069426478,
          -788.0742637005708,
          -859.1052861252635,
          -922.7432313458986,
          -984.8846826811534,
          -1045.2596731381066,
          -1106.2581322479814,
          -1166.3148410493868,
          -1222.5710673117055,
          -1263.064317729019,
          -1301.4603081898986,
          -1330.0243777815392,
          -1346.313217225328,
          -1351.7742315000721,
          -1350.140845421775,
          -1332.6361299401635,
          -1315.342320841891,
          -1274.0171128584154,
          -1222.1478182428696,
          -1168.5232239324519,
          -1109.724745875901,
          -1046.3445326967133,
          -976.1155715513655,
          -907.0715392979133,
          -834.7952441495082,
          -742.5429639987026,
          -633.6617472885334,
          -511.84000804454024,
          -413.04897780477984,
          -323.83845596471036,
          -238.20409518801358,
          -148.17069644313625,
          -66.28489991959637,
          23.630133832436503,
          123.51768191909578,
          219.03712220605348,
          307.60485448031704,
          397.1027058045923,
          486.5595258503081,
          580.742589254515,
          669.2476624665724,
          741.9074918344855,
          823.5248667213122,
          900.1514676393751,
          974.2191143687019,
          1052.9575748260947,
          1137.6251940557088,
          1217.7360023536853,
          1281.8518234684718,
          1338.7384235851036,
          1381.9929946780562,
          1429.3955851425544,
          1480.297448513238,
          1516.781706452933,
          1552.3682149147087,
          1574.126050894574,
          1567.7064811169676,
          -554.0722412497777,
          -461.12497045877564,
          -371.11963300978636,
          -275.4065275195364,
          -176.47535859262652,
          -73.59288202893403,
          18.791867756157373,
          108.58503594943546,
          202.94352999883537,
          292.9115594250636,
          387.88263289801256,
          484.92439032628414,
          583.3881477590284,
          657.9685484942954,
          744.5421693162817,
          815.1261969945938,
          894.8461371663066,
          976.130301698929,
          1051.066991760159,
          1129.9839821594824,
          1204.4073208218874,
          1274.8098809917667,
          1343.5723494016527,
          1408.2009486772595,
          1458.316821121839,
          1507.3853315967594,
          1553.289682521538,
          1590.746853652103,
          1614.5738679119574,
          1626.5649907664567,
          1627.5788841935553,
          1623.5807577915896,
          1604.9529392407462,
          1573.7901771121901,
          1534.798269308437,
          1491.8297992060154,
          1439.375628101312,
          1366.379292404403,
          1293.7176930829373,
          1217.0202816692986,
          1131.9871722732462,
          1036.6712427697978,
          933.8824706994722,
          821.8393921995366,
          713.3542423924249,
          604.8020212825036,
          500.6540791816297,
          399.55623094095296,
          303.75386037556547,
          213.3611859596329,
          117.99974039209133,
          0.6416757448175449,
          -93.71468034110454,
          -190.65926755072886,
          -281.70956205241595,
          -359.84713135047383,
          -449.6014866014468,
          -538.0728782163249,
          -623.4998912442153,
          -707.1346697365801,
          -787.9305496813574,
          -864.3526455875981,
          -939.9065035942491,
          -1017.4039906048652,
          -1089.6635928297953,
          -1159.9843846822,
          -1225.2569153234604,
          -1289.4160181893883,
          -1350.8017381063946,
          -1408.8505648036862,
          -1457.521595401588,
          -1495.4943866719245,
          -1526.0957230808988,
          -1549.7481600962706,
          -1561.0996861839808,
          -1559.3268185384065,
          -1551.389474672937,
          -1533.4512096262479,
          -1500.9846966049815,
          -1453.9730120624306,
          -1400.4170955492866,
          -1337.7535842245557,
          -1279.9404239576238,
          -1213.408935242105,
          -1144.2963632406286,
          -1065.3184840033277,
          -978.9684549911572,
          -867.6401030464222,
          -740.6902858215835,
          -642.8358926771563,
          -543.3681514437783,
          -445.5154023771594,
          -340.72366901586935,
          -239.5769878470515,
          -136.9040543876894,
          -29.88285890613301,
          72.91226599818687,
          170.30385482394976,
          285.71650489609436,
          385.3188427668948
         ],
         "y": [
          -726.1463602375492,
          -725.0694329480853,
          -723.4626400708038,
          -723.1178478193174,
          -720.3469051345365,
          -718.4675680545063,
          -711.2541530848174,
          -703.9945886750281,
          -705.8869447638774,
          -701.2343497276074,
          -695.4744006882192,
          -688.259401516652,
          -677.5612340845014,
          -664.6900353960908,
          -659.1674525620667,
          -652.4262241102776,
          -640.1204564332855,
          -624.8509998112432,
          -608.8075918104294,
          -599.7320692402371,
          -599.0169516811337,
          -600.1544185078437,
          -604.8453669248001,
          -611.1340744525576,
          -625.406139660644,
          -641.5339952412959,
          -656.4075994835564,
          -664.2772860689234,
          -672.552573946155,
          -676.4191616442688,
          -681.6045479892632,
          -681.790107117375,
          -691.3354630065237,
          -704.7913648270585,
          -727.7152223297903,
          -739.8038270629431,
          -733.5494839439567,
          -730.0688688661052,
          -705.9784792433616,
          -690.2707375553781,
          -671.8359975788277,
          -662.0693466414941,
          -661.0496186528826,
          -659.6954403323683,
          -659.460934293854,
          -661.0215852203517,
          -664.201864901121,
          -667.7071353223251,
          -669.59395971599,
          -678.8686802193166,
          -684.8440116161191,
          -690.4538244148325,
          -700.9612178073834,
          -710.5337084519404,
          -712.3493464132484,
          -712.5992832039763,
          -723.4354436679348,
          -726.3789993621286,
          -728.122282721752,
          -733.5582693920388,
          -737.7701960940566,
          -719.5760356829734,
          -720.5013819846944,
          -718.525360138562,
          -707.9278862685269,
          -696.3390195746272,
          -699.7761516823282,
          -716.6904181822752,
          -705.8172879404881,
          -690.2563792458147,
          -688.9501376692766,
          -701.8720762427101,
          -716.5678648640932,
          -733.2888314667492,
          -745.9628196943844,
          -758.0182803286516,
          -773.8884684379375,
          -796.5463225240502,
          -805.7807355080643,
          -808.435500652784,
          -814.180396299049,
          -812.5430284237021,
          -812.8755009718444,
          -825.2951048671313,
          -829.7014260523212,
          -827.9843583801407,
          -823.6263586050281,
          -810.1234055076497,
          -796.192157466077,
          -783.100778354365,
          -773.1435842862537,
          -769.5068958133512,
          -768.5652811505191,
          -764.396809584749,
          -763.5671080630059,
          -763.2545539076689,
          -752.545005773412,
          -747.4591642335042,
          -743.6792907307253,
          -737.2448479430185,
          -689.5865025575583,
          -684.1960101787978,
          -681.1271529908169,
          -676.4911408346775,
          -678.5787093923989,
          -677.4130618481454,
          -672.7156940184897,
          -663.3927330107908,
          -657.8066692347398,
          -653.1712350349226,
          -646.0988287624522,
          -634.823598711782,
          -624.9307532800643,
          -618.8768391571198,
          -618.0656415766103,
          -618.8614058711659,
          -616.4182254611434,
          -610.8544403279678,
          -608.9382254383643,
          -610.1104790784107,
          -610.9064204017861,
          -608.8539865975112,
          -593.7562600115147,
          -575.4427281898381,
          -582.2571853474972,
          -586.7999816168007,
          -574.8926308863083,
          -576.6977581162588,
          -585.5088402593489,
          -597.3885487051157,
          -610.0511761415025,
          -623.6772471167725,
          -641.5267060834026,
          -663.2922529346536,
          -689.3311743203628,
          -711.4222007269071,
          -735.7102121367507,
          -761.1475160783057,
          -782.0662917708602,
          -804.0415468920826,
          -829.0636469957182,
          -849.5890916298089,
          -870.1592094106244,
          -893.7819676181588,
          -911.5502574844252,
          -914.8261285775164,
          -912.604741255895,
          -905.3292700941706,
          -896.5131012981458,
          -885.8292042887688,
          -876.7047989737055,
          -870.242529061021,
          -870.819636067212,
          -877.3092101938355,
          -878.8865880712402,
          -869.0814790359586,
          -853.3987654724444,
          -839.6805600651643,
          -832.0569462298683,
          -820.8993536053306,
          -800.5637238374885,
          -779.4618663602909,
          -758.7987664650285,
          -741.4712869954558,
          -719.4187959416047,
          -695.641461092157,
          -673.6148156717318,
          -650.253972151505,
          -630.6799348860426,
          -611.0775660464782,
          -588.2908409516216,
          -562.3858768811114,
          -546.8729751551001,
          -546.8625360170959,
          -552.5574382860964,
          -557.0192622569083,
          -567.2725969287113,
          -581.880410020753,
          -597.1001063193628,
          -606.5641495698455,
          -620.6738894085179,
          -640.5834886097325,
          -658.8663537654404,
          -677.4044498186403,
          -696.6758577184809,
          -710.2168194678152,
          -728.9605682143682,
          -742.1869010727046,
          -747.4103591945714,
          -754.4240978927564,
          -756.1684303430536,
          -750.6526750756527,
          -735.8670383460211,
          -713.1677471427134,
          -693.1351739684903,
          -683.8973950072075,
          -681.9047584821654,
          -680.784544061027,
          -679.7128501849875,
          -676.5049327062875,
          -802.2320375183999,
          -803.43934673937,
          -810.4321568716639,
          -817.0339561886248,
          -820.5732730818472,
          -817.3516218029326,
          -810.6371530267652,
          -804.954123001182,
          -806.3560315512663,
          -811.837339105602,
          -817.3718088778821,
          -826.5845121616511,
          -830.9656353488529,
          -833.1734375108018,
          -837.3585927259755,
          -841.0634896757531,
          -841.4851974692988,
          -836.2253061722432,
          -826.5633596058541,
          -809.6832193062153,
          -805.2490149802217,
          -792.6329014452751,
          -776.7469440110551,
          -761.10942670165,
          -748.0434803763544,
          -738.5214783403861,
          -722.2677968296897,
          -700.0829917756871,
          -704.791937053632,
          -669.3786267260305,
          -663.797544409964,
          -673.6265871724406,
          -683.8969742873195,
          -698.2164145773364,
          -707.6793909750616,
          -709.6239312843558,
          -714.8332930689111,
          -719.4696452942134,
          -718.1738802694665,
          -718.292853773132,
          -718.1639522275611,
          -727.8247649310554,
          -743.8264486575773,
          -760.8142984659371,
          -776.3923447322584,
          -789.9035775550128,
          -798.556527702521,
          -790.4167828316944,
          -788.4659727237823,
          -775.3266227953668,
          -760.706660758485,
          -746.0632435124788,
          -741.5261480470783,
          -733.2742126937267,
          -734.4469157473511,
          -746.7149535511231,
          -751.0215179258519,
          -758.790743614679,
          -764.0583643653611,
          -764.3839381671406,
          -766.5035807508325,
          -771.323424911936,
          -767.3870361693058,
          -759.533662881671,
          -757.1843710994889,
          -754.9944835093283,
          -754.0364848511157,
          -752.8865012297013,
          -756.9005665287216,
          -753.2776606487072,
          -749.5152709320452,
          -748.7827319913674,
          -746.6051916546982,
          -741.5108430304197,
          -741.608920072777,
          -745.6809505864172,
          -746.2309630120233,
          -746.3542717296375,
          -751.9142487355413,
          -759.8728195259689,
          -768.9367057354772,
          -788.8819464034212,
          -807.4494273702787,
          -821.9602330862634,
          -838.3681643800373,
          -858.2856196890882,
          -869.9086549226207,
          -876.8344776850809,
          -880.9291678696943,
          -881.9418308639324,
          -882.9750736051989,
          -887.5368964267935,
          -895.6649266020353,
          -903.3164489131581,
          -905.8788519284191,
          -897.775051891318,
          -893.7059022185001,
          -899.6966297748471,
          -893.1032539507769,
          -880.185125357012,
          -821.245469736111,
          -811.0255043050522,
          -803.4820707922272,
          -795.8557846459395,
          -788.6684923188612,
          -771.3288065654348,
          -760.5520232452022,
          -753.2677319357197,
          -752.6950963556172,
          -758.3568230526824,
          -772.4337010730328,
          -779.7066063149852,
          -797.7804284247175,
          -811.6961270573407,
          -820.7727522218282,
          -831.500049128103,
          -831.681580332404,
          -830.6193671539362,
          -837.4831117294846,
          -853.0176070912956,
          -859.7176320766587,
          -877.3574879411553,
          -889.3703416573313,
          -892.8526098157301,
          -888.7399403911436,
          -878.9054213715739,
          -863.3936841015939,
          -842.9906041434659,
          -832.0239324413693,
          -822.7574379203827,
          -827.0635149478475,
          -837.4188216580338,
          -851.8541281833573,
          -872.0392083365296,
          -882.5033612024957,
          -887.6672018118668,
          -892.7058700489039,
          -896.184670550309,
          -898.180671131324,
          -901.829473047854,
          -904.9123174515449,
          -902.2947018175439,
          -900.7094630645328,
          -902.4448813614301,
          -910.918159887265,
          -914.769918299171,
          -914.7780767125629,
          -910.9991766569847,
          -907.018800372018,
          -907.5069111487512,
          -902.9709169032279,
          -894.7867831591757,
          -879.5648141914883,
          -867.3687162081259,
          -860.6638535113307,
          -864.303473119483,
          -871.2796020687849,
          -878.604858214421,
          -891.4310441055376,
          -908.1287036566109,
          -930.3351528979315,
          -956.6812696826636,
          -974.9610572923009,
          -988.8059236607409,
          -994.8718556370029,
          -995.5885967138037,
          -993.2665688127847,
          -994.7480498333379,
          -1002.4171208281456,
          -1014.850317548736,
          -1025.2921724673722,
          -1024.6507889556435,
          -1021.616428502773,
          -1016.8172169760087,
          -1010.1255407725312,
          -1003.4737639855837,
          -1005.2148755265545,
          -1003.8802840478725,
          -1004.0631520969342,
          -1007.4667571599574,
          -1007.5888329661872,
          -1003.2048743090135,
          -996.7201622988231,
          -985.0837805995776,
          -964.6211683387761,
          -962.3722847948795,
          -948.9398327068183,
          -934.3307728400474,
          -922.1421662677616,
          -911.4337175547917,
          -900.1984886048434,
          -877.1087431305425,
          -855.2879499692224,
          -833.7063795137774,
          -824.6131258378111,
          -823.0040275288557,
          -826.9908302816798,
          -842.6872364135189,
          -855.4057056889391,
          -850.3957177898918,
          -733.319557997305,
          -729.1821128335414,
          -722.0101605700331,
          -718.1829210871373,
          -713.9268067917016,
          -716.0444406296207,
          -723.200612097211,
          -733.8119973079125,
          -744.3217573101807,
          -753.2099521850015,
          -766.5596763915681,
          -768.0125589189557,
          -755.0320050544449,
          -758.2688900858211,
          -750.9301622531667,
          -742.3751395322934,
          -732.8361023830358,
          -735.4377422161906,
          -723.5016404635176,
          -717.2878700436222,
          -710.8655295921857,
          -719.182144970758,
          -709.0660112772443,
          -699.5737311455498,
          -682.877554715808,
          -659.4603659957052,
          -657.3210596671744,
          -659.5142481819219,
          -660.8896807602216,
          -659.3018867130837,
          -665.2786671407197,
          -666.557367449628,
          -666.4110869867059,
          -667.0360945119827,
          -664.0278004888463,
          -668.7120876954687,
          -669.9740610890028,
          -681.7263824491163,
          -692.2826953483532,
          -696.2636947106528,
          -699.4808285882252,
          -687.4008630309647,
          -667.2211625507753,
          -655.581872600296,
          -625.9583693777525,
          -612.3880811842873,
          -604.644079597245,
          -591.2902487801432,
          -592.9094748981784,
          -599.4805834256287,
          -607.1164913813013,
          -597.912865853439,
          -616.0877391541756,
          -626.1275155173652,
          -629.8656455892052,
          -625.131898841937,
          -629.4018632612165,
          -635.988347070107,
          -642.8557025122931,
          -652.0321201466791,
          -659.1953310845508,
          -669.9812308981561,
          -677.0725265551309,
          -675.1241474941268,
          -677.6983026822744,
          -678.1021312928194,
          -667.5413813669433,
          -652.7784239002806,
          -639.2825394938354,
          -624.9088788212254,
          -614.7404343466056,
          -607.4873113556434,
          -595.6707676479737,
          -585.6609754023816,
          -587.40680344792,
          -597.295113181454,
          -607.6878746761932,
          -621.6208944075963,
          -637.9370402922777,
          -658.3805399539599,
          -674.6316151004936,
          -683.2230363621387,
          -700.62012620512,
          -707.2207502215383,
          -709.4941875017922,
          -712.7903707303653,
          -711.7032778899373,
          -714.4713149236059,
          -717.8385128119002,
          -705.5828110216922,
          -690.703185999698,
          -669.4032073441591,
          -654.906417755637,
          -647.0467602360067,
          -641.5212931509094,
          -639.9789814864637,
          -639.0509842748605,
          -641.562787345627,
          -658.7810217225482,
          -673.289372304444
         ],
         "z": [
          225.4236925750136,
          197.38624169058875,
          161.3060994176641,
          140.89750903942644,
          120.74027357417984,
          89.19223064036574,
          53.59027977575743,
          35.57528239572919,
          15.43629115048308,
          -4.082181756532643,
          -14.183144075693301,
          -24.274943595519197,
          -41.93617780350899,
          -66.87363229360695,
          -78.84534585466814,
          -91.31575939682163,
          -111.27508710220943,
          -130.83733908462779,
          -153.03218958209385,
          -165.4067902943302,
          -163.53116734541743,
          -161.18016318542823,
          -154.48391530546567,
          -149.94486920876955,
          -131.3204497854785,
          -112.76217211609799,
          -105.40438631410672,
          -112.1668200523593,
          -112.97546030898285,
          -125.23203956667123,
          -135.60129395354824,
          -161.3092685641337,
          -168.29332526535927,
          -164.16563235207937,
          -137.80148638728426,
          -144.1901699903798,
          -184.32116931789812,
          -227.6644813031879,
          -316.98070558641285,
          -373.14722889828914,
          -433.95702226890904,
          -448.5018399986951,
          -435.766800152213,
          -423.23381183725553,
          -420.3264983998724,
          -428.1572135061936,
          -432.29599576425875,
          -438.4113498606293,
          -456.16044899619936,
          -453.1581609676995,
          -445.8402819021325,
          -431.73108029113416,
          -400.41844555519737,
          -384.40750049691366,
          -370.5317081964167,
          -345.5663492992276,
          -297.211023781699,
          -262.0839299555118,
          -231.30745667211505,
          -203.16451903850734,
          -186.88825629865914,
          -207.39922974386695,
          -195.30370169573197,
          -184.0712631703681,
          -197.86955263054864,
          -216.86137009199214,
          -207.91060809730382,
          -191.8907015375281,
          -220.4250977908733,
          -254.84477953816585,
          -250.5474179797499,
          -225.08927121902505,
          -188.00482330721073,
          -142.87267818133964,
          -111.67970390492498,
          -80.47910779547769,
          -46.58651865154614,
          -16.14667176481245,
          1.6130964883068677,
          15.40203369718817,
          29.37081645642204,
          28.63039692795759,
          46.04182891050081,
          104.3942563817706,
          174.9338656320586,
          219.481313364484,
          203.05949331790936,
          174.41055722741874,
          143.68401922466745,
          103.11693964066315,
          68.90130906859781,
          60.57446090627864,
          54.50468451550767,
          29.5101026130287,
          22.744304374909817,
          27.1263027260851,
          8.839745845460273,
          -7.071896468876029,
          -9.937112285653365,
          -5.019524050806896,
          -435.76374234441107,
          -448.6397525800696,
          -466.34814878127713,
          -481.8830977414132,
          -485.2724771149293,
          -495.6288455445948,
          -512.5876816574253,
          -541.2251025231614,
          -551.4854840331233,
          -554.6663862362518,
          -553.1564983339978,
          -553.154006260501,
          -546.9261072412751,
          -523.5720107802767,
          -486.4954595522778,
          -443.169100834793,
          -410.00704925840927,
          -379.6480645227126,
          -334.4839545431843,
          -296.34897151324617,
          -262.1068558225948,
          -231.96227655189992,
          -239.33251510029476,
          -243.07306689632352,
          -210.87215253226634,
          -211.9857213851694,
          -258.58516547556417,
          -283.34808703974136,
          -283.650272733776,
          -271.7835629459346,
          -258.92341975809796,
          -245.56583874369647,
          -223.53665733265305,
          -190.0472953719096,
          -136.9053756559255,
          -91.18676088787787,
          -56.35982282689603,
          -27.087138325299982,
          -23.05568535204266,
          -11.82652939271986,
          22.49823534045452,
          56.03108285828354,
          93.6889565357068,
          148.1417020470915,
          190.9687093046425,
          195.76982693993853,
          181.72467179872095,
          147.98754149780783,
          105.02532950941402,
          64.73569224270466,
          40.783768700786105,
          31.084434147645545,
          39.762656630794595,
          62.99115498160409,
          73.28325634285203,
          51.981776434292954,
          19.75283171616664,
          -0.7417324713596405,
          -2.880073665007494,
          -8.043422343034447,
          -29.074238803689614,
          -50.788000743246265,
          -71.29661748125449,
          -85.50761004502372,
          -110.83534994436353,
          -136.77149339209973,
          -159.69949576411634,
          -189.22962814480704,
          -211.64543471440342,
          -235.82591133262812,
          -272.66913748052747,
          -321.06664955586376,
          -354.298312282655,
          -362.47036049523314,
          -364.4519852722272,
          -370.2369025971281,
          -366.03689868766725,
          -360.7067968115917,
          -350.6457325202196,
          -355.38922497470037,
          -354.47946467459803,
          -342.93482473507777,
          -336.6901941703471,
          -327.077486518616,
          -310.60753385925614,
          -303.64713630105825,
          -284.06660967500494,
          -274.3073728402044,
          -284.942284521583,
          -294.8900565049833,
          -322.11215623039817,
          -372.8323211795049,
          -451.4391936588449,
          -548.4487147954519,
          -628.4847276320997,
          -662.3722129295951,
          -660.777897513403,
          -641.2355815520903,
          -624.2863889733984,
          -615.450614565862,
          217.75869764218817,
          231.94972605505683,
          272.01401832292566,
          318.1028808607668,
          346.55057058042195,
          346.0397577759694,
          321.3000508841269,
          285.11540985243624,
          257.31778694214603,
          236.94103922385835,
          220.07337924214315,
          218.24718400421838,
          196.64797887413798,
          173.5944827186296,
          152.57594124062794,
          137.15897675854106,
          126.6983871459817,
          114.46137021022571,
          96.71975350712427,
          78.61271812427918,
          68.47143983728593,
          56.71849483973223,
          38.169003230167604,
          26.837543432531053,
          11.750090038043082,
          -3.9533039391738685,
          -33.92751217877083,
          -74.01766260308706,
          -73.46827306907302,
          -128.18983817035357,
          -142.1449336763102,
          -136.91698914087655,
          -136.11638238624312,
          -123.20144899636462,
          -119.62223736836293,
          -122.21047556131033,
          -140.70105514063027,
          -151.30557893592487,
          -169.25935134160275,
          -197.21196870180802,
          -224.2920854295715,
          -218.24557229503415,
          -207.3982606472222,
          -200.66047251584106,
          -191.143947786747,
          -179.541910864472,
          -173.5089550874643,
          -196.4991602596677,
          -208.93901834445654,
          -256.6359052434009,
          -339.5659591798564,
          -398.30770176489386,
          -427.45150142794523,
          -440.8654866984312,
          -433.40419723382524,
          -401.98832872796106,
          -385.46707379827126,
          -362.061000233827,
          -350.2850705543709,
          -333.2066400202748,
          -302.78727323919344,
          -258.7920664533533,
          -230.06632800272197,
          -208.58651960499748,
          -175.14447410096764,
          -136.86589429885942,
          -111.20372986351114,
          -80.89633447868138,
          -30.49873560487175,
          -3.6851578395787286,
          20.029564303460614,
          50.4820317863134,
          66.50977407781022,
          58.86886541622452,
          42.7436253227063,
          35.791113789891604,
          28.88340000808081,
          25.416767510917218,
          26.831634681494048,
          34.619684075863965,
          48.2642199713306,
          90.6023202795453,
          134.31039423362606,
          172.2191624228268,
          228.48617194706608,
          267.05101698110155,
          290.0195316703196,
          295.75136466443104,
          294.40888542154073,
          290.06531643645945,
          288.10950711570905,
          307.74798799796673,
          346.3790712807916,
          405.85315357775835,
          424.4153439738244,
          406.52856950364963,
          394.0533760076197,
          428.66691602978125,
          405.29877443200905,
          346.59810711894215,
          183.46414504232195,
          171.5504099763952,
          160.93609368031392,
          143.6959515928738,
          117.01478816638321,
          104.35425234557871,
          74.46772753029572,
          48.379277077576695,
          34.007328090976586,
          31.25505610992714,
          37.16368133331531,
          27.77977901507483,
          32.07860406256025,
          28.02548196693014,
          20.2437788629728,
          5.300309426808541,
          -26.304104808631514,
          -54.32717197181715,
          -72.94586640971883,
          -67.80701699584085,
          -71.83552346795221,
          -66.4187553363825,
          -63.66372567673359,
          -68.54849334715486,
          -79.89758789620223,
          -110.57699270596768,
          -159.68654925197185,
          -231.57764445989156,
          -284.24865877023046,
          -310.64664451539335,
          -310.5386941225808,
          -316.076735518915,
          -306.44112954684465,
          -281.1370133922137,
          -290.36468610838057,
          -302.29128747819595,
          -297.00508698594683,
          -285.81442898059504,
          -278.70830820952784,
          -254.49786227704666,
          -220.26675802751305,
          -188.19238170674745,
          -163.27302097735168,
          -130.8209948521243,
          -84.67954552536993,
          -36.51852881937278,
          9.689914188272338,
          42.95218245726438,
          67.76446404201381,
          94.74792263393599,
          102.360037080907,
          88.63360125820618,
          60.00063564263656,
          32.00995714278083,
          13.714792879608074,
          18.04866025957222,
          29.595244377116206,
          37.64329640536507,
          62.63570862081839,
          96.15626878825545,
          153.04432845814475,
          223.0063015822976,
          270.5380027763683,
          303.97787257654755,
          321.5167511871633,
          326.8359469305473,
          320.0641174638272,
          321.2698052703519,
          347.6292841086358,
          394.6388236913105,
          435.53283494787684,
          438.45523001928825,
          425.2151415488397,
          398.6628222188696,
          357.08997557266906,
          309.7247747771148,
          280.62724170317136,
          252.45192756134486,
          230.74386944554107,
          216.51046778916668,
          199.1898193523198,
          176.4365683382495,
          160.06900252566479,
          138.90754146147566,
          105.42792922817618,
          100.11610209613974,
          80.04816981209443,
          55.26306681709407,
          45.212268294341264,
          34.86422595727769,
          18.202528217930467,
          -23.74050577263802,
          -60.029369788241155,
          -96.1409780258892,
          -112.81786298581548,
          -114.06632385431661,
          -124.44501443302441,
          -107.64421154054054,
          -98.51608211571106,
          -120.00210753684208,
          419.03046362548434,
          414.50360187149454,
          371.22410030379694,
          328.2628206817954,
          287.8995532122561,
          266.9011478785995,
          244.50630291902615,
          209.08783771252564,
          185.4907717660403,
          162.45373452670094,
          154.5341727609648,
          134.1108886218584,
          95.7882415500278,
          79.93706934262528,
          52.91246669606574,
          30.500353290451233,
          18.328151540357027,
          12.853642555171403,
          -10.746955831361497,
          -36.0978862533985,
          -55.794630004919895,
          -58.164765274129365,
          -60.38572886796904,
          -100.20999036083101,
          -155.69169381144266,
          -204.42415605954218,
          -222.13044010886375,
          -232.90860850718198,
          -240.83304313538366,
          -262.27257472874936,
          -276.76170913425915,
          -290.59787502707513,
          -321.5512099442384,
          -342.71105170799655,
          -365.2859624618052,
          -373.5789359495242,
          -399.02997395464195,
          -406.408083072257,
          -413.8554085705548,
          -441.8360752575393,
          -460.7617981948635,
          -511.1150892009857,
          -576.6623224505053,
          -614.3438044601451,
          -705.8788651612596,
          -760.080882846664,
          -791.2899351708711,
          -821.3597458427612,
          -811.8386833289037,
          -773.6030433381159,
          -739.8914310256987,
          -868.5571082479993,
          -839.3437465526822,
          -822.8442768015609,
          -798.5976885786234,
          -755.2756394062462,
          -735.753694044547,
          -691.4143188637096,
          -637.1721763192227,
          -580.9158235858289,
          -521.808365698753,
          -442.0159742349741,
          -378.6628202841327,
          -347.8253848569744,
          -299.96158926122234,
          -267.6480249592302,
          -270.96905519008186,
          -287.5786054130389,
          -305.1732482771088,
          -333.21163266605856,
          -357.5013483206789,
          -375.11262066299895,
          -401.58866997643054,
          -427.03942665955356,
          -410.0999052521036,
          -364.18339168745865,
          -318.4399052510039,
          -254.8662308981071,
          -177.9458521711579,
          -88.41138628264243,
          -17.911070655183213,
          28.483121083807514,
          78.95813624474007,
          100.14708809978377,
          106.84945144220113,
          128.32476295602285,
          145.42406494639215,
          207.15317759157819,
          293.0304481453328,
          308.06842788694036,
          308.5391105795203,
          292.0794232469066,
          291.40102686677034,
          289.85950744997086,
          269.76188625366206,
          251.93477740300375,
          236.54431102030887,
          227.04839223577616,
          226.56502826965172,
          227.06250186444535
         ]
        },
        {
         "hovertemplate": "category=walking<br>PC1=%{x}<br>PC2=%{y}<br>PC3=%{z}<extra></extra>",
         "legendgroup": "walking",
         "marker": {
          "color": "#00cc96",
          "opacity": 0.8,
          "size": 3,
          "symbol": "circle"
         },
         "mode": "markers",
         "name": "walking",
         "scene": "scene",
         "showlegend": true,
         "type": "scatter3d",
         "x": [
          1147.3279583947597,
          1157.7235510894393,
          1166.8375019471275,
          1172.4329825474183,
          1177.1131882560528,
          1183.9299963094513,
          1185.0969815621083,
          1182.2570564787115,
          1184.0719769039933,
          1187.8635018328523,
          1193.1338960196579,
          1186.734858564283,
          1179.4301399686383,
          1158.9935347849178,
          1134.9415641670744,
          1116.872986960822,
          1100.8116576562709,
          1086.8036991230647,
          1073.5427908974223,
          1053.5351658563497,
          1026.258089819812,
          997.5222945810095,
          968.40329663844,
          934.2386999785099,
          889.7586516907124,
          844.4299106526895,
          807.3972041463579,
          768.1993530078983,
          720.467795338709,
          672.7754774228129,
          631.2127427191527,
          589.1204731119115,
          541.2156078398792,
          485.6299689438443,
          432.9051279987726,
          390.0358290170581,
          341.36053980168964,
          286.3112632366759,
          238.0462560514461,
          188.5341935851995,
          127.71206245200797,
          64.98291157089302,
          12.267830224907723,
          -39.316060489822505,
          -96.77663358617511,
          -151.66156413757236,
          -202.01756272920835,
          -259.5310597397905,
          -324.67885054258824,
          -384.3116030421559,
          -437.2502674978778,
          -500.181597838854,
          -568.3936350163816,
          -619.7470183921981,
          -669.865909683337,
          -727.7411339875814,
          -781.5554688967703,
          -833.195144881885,
          -877.5520377446195,
          -915.4208679390767,
          -956.498139289506,
          -996.4357598773357,
          -1025.588515414145,
          -1059.1389099135718,
          -1097.0333547744874,
          -1122.3434036567253,
          -1144.2926500844337,
          -1169.3449756215512,
          -1186.4654349413634,
          -1185.2168667893623,
          -1179.4724088980483,
          -1183.8850134082772,
          -1185.8521992720512,
          -1177.726666014383,
          -1173.6655045376697,
          -1179.1376182153167,
          -1177.7940694529668,
          -1168.6105443955746,
          -1140.122558491405,
          -1104.5886337583263,
          -1079.3220086371962,
          -1055.1595870405843,
          -1042.4819201865241,
          -1026.8714897448695,
          -991.8353770994613,
          -955.2455526513462,
          -934.9707514297986,
          -917.4087957060838,
          -888.8776075328498,
          -854.8560967604225,
          -817.4195435628504,
          -778.7156789640923,
          -732.299951971019,
          -680.7206542096618,
          -634.7267332813428,
          -591.3891194046356,
          -547.8099723426645,
          -501.35622141543433,
          -453.04845323960984,
          -403.8664270061401,
          87.9461438111567,
          50.7914436781383,
          14.16088250339457,
          -42.67531624080897,
          -68.20721822980424,
          -130.0571822506515,
          -157.21997976992313,
          -194.39114489691386,
          -237.5840067815864,
          -286.85785063675166,
          -327.85962350720104,
          -376.53515254891016,
          -419.3172621924055,
          -459.99526251625275,
          -503.36848663608856,
          -550.9314086190658,
          -590.6804984698376,
          -629.9483770852426,
          -671.5807207065333,
          -705.6441875080944,
          -743.2300128411455,
          -774.5911722320582,
          -804.1836840508042,
          -843.6709400468076,
          -875.6462559584214,
          -899.6924246538919,
          -914.6400245233025,
          -937.6526746081429,
          -950.3214608061633,
          -967.5431353195646,
          -985.4546633377581,
          -990.910446688147,
          -999.0977750521719,
          -1010.3615550876857,
          -1009.8058726499856,
          -1004.8912516425604,
          -1007.5309687186348,
          -1011.0484828368837,
          -1014.8806804842673,
          -1021.7088530005714,
          -1030.9511093395704,
          -1015.2878779198205,
          -1010.6090232407186,
          -990.5615319638753,
          -966.450962525835,
          -938.0002394987486,
          -916.997178187886,
          -881.0433635196727,
          -861.1391037939542,
          -832.2089589513469,
          -815.2526888312982,
          -778.537377634463,
          -752.3236321332824,
          -723.5077816994752,
          -685.5221707832176,
          -663.2413450008762,
          -644.6468300667599,
          -614.7100173778053,
          -586.8560945722197,
          -563.9780999191869,
          -540.41102793466,
          -502.6392791021457,
          -464.6974007039021,
          -428.29376626507855,
          -384.4198070744875,
          -349.5461688690451,
          -304.8699814559076,
          -276.352957913584,
          -245.37143595382545,
          -202.05099159715573,
          -165.7703373899247,
          -134.52056804814615,
          -99.18165635716714,
          -63.18919266683149,
          -28.942671956182792,
          3.0038152848726845,
          37.018339565511084,
          77.66300143610307,
          119.21344552425278,
          155.2322913598459,
          187.76059041445185,
          225.62783471872413,
          265.90387933324683,
          311.73518693057576,
          348.74000744182393,
          378.10616492177815,
          415.9081587442505,
          457.3744284018237,
          489.2555501418791,
          527.2798314831144,
          566.0480296738917,
          600.4854547480155,
          630.6629553410792,
          663.1613656254066,
          696.3973237308993,
          729.1309423900237,
          763.0203625872052,
          794.2594971786493,
          832.0380160265391,
          866.9662521771675,
          -439.2768378126619,
          -473.1353685802714,
          -511.97395667021885,
          -535.5784258042728,
          -578.7030707295158,
          -612.3919797997361,
          -646.6305029746095,
          -675.3127164820813,
          -704.3978746163751,
          -731.32696040606,
          -765.2559262203253,
          -790.3366724182101,
          -813.8829991923349,
          -833.5852280180129,
          -853.4552678281357,
          -859.1822241878722,
          -869.178965432901,
          -883.9888860271485,
          -902.6172273589483,
          -905.3465235782048,
          -908.9201249127656,
          -915.0085319167275,
          -918.2018740965901,
          -909.2448305966655,
          -907.6362808886992,
          -899.5393540187245,
          -896.5276679545541,
          -891.6387601943347,
          -886.9625359820506,
          -875.921692084218,
          -868.2356527377377,
          -854.1502818021662,
          -845.0404182240394,
          -830.219722909517,
          -807.4320877868441,
          -792.0375247364881,
          -780.4912056652677,
          -763.5284391741429,
          -751.0703956259331,
          -736.2468136697163,
          -710.9622199475225,
          -677.8705239385298,
          -652.8943708873219,
          -636.7007237781409,
          -620.8897747202461,
          -596.4453445121301,
          -563.9607344822371,
          -526.8784276483825,
          -496.62888631692016,
          -459.3889609705176,
          -410.94995441581494,
          -360.1259591385599,
          -318.1321216656192,
          -277.4875824671665,
          -230.3483113757286,
          -193.2573031268781,
          -137.35413875149098,
          -112.2196250422099,
          -70.98638602190725,
          -33.572633511671846,
          2.59633457330855,
          31.513072666657166,
          65.66084620750597,
          101.90285269162962,
          140.02367040916022,
          175.06682001911128,
          209.5911707741871,
          256.8173744437287,
          288.6938008153416,
          319.73208278333755,
          357.74217471365864,
          384.3285123774079,
          424.49376309668423,
          466.2020511627159,
          499.2990523484458,
          534.5988748946336,
          566.8287025999219,
          602.8659724150373,
          635.1153549067703,
          663.0376436129114,
          692.2873638813492,
          724.0226872384426,
          757.0319994839572,
          787.3814590155874,
          813.802333689257,
          846.9502357289722,
          869.6819064428331,
          902.8493998165513,
          932.575975695431,
          956.555981550442,
          968.8414961384183,
          997.5652172319711,
          1012.7506901778947,
          1027.855413899416,
          1027.31483364334,
          1036.040195213279,
          1043.2109189950575,
          1048.6203631384255,
          1058.6766595311365,
          1060.571923746999,
          -1582.4501707127558,
          -1569.7906347367127,
          -1559.774893083731,
          -1543.8469258974303,
          -1517.1563748433198,
          -1483.1423496628615,
          -1445.3331768494047,
          -1411.1367403217935,
          -1374.8679451159787,
          -1328.569855770924,
          -1278.183346048598,
          -1225.6821782199431,
          -1159.82405674947,
          -1084.920020668781,
          -1012.9055991446969,
          -942.9025854575408,
          -887.4763505178148,
          -833.4101423271932,
          -783.9257261305356,
          -737.3540007229175,
          -683.9961664348467,
          -625.1952146217585,
          -585.4292586544706,
          -498.19853680064114,
          -430.3909544031906,
          -361.8111608865797,
          -314.3804568334082,
          -270.3810011795615,
          -214.21368772515638,
          -142.4464274842441,
          -63.32308416668101,
          25.619427812827748,
          112.49779986678539,
          185.42283641032202,
          253.1720266056793,
          321.47016898367735,
          390.28529122931866,
          462.5807967723721,
          535.4684455406001,
          612.7514660115801,
          678.6006067416738,
          741.155447308399,
          808.2370654397068,
          870.9416039363233,
          930.9955100971605,
          997.8012717317087,
          1062.0669875582958,
          1123.3135951359316,
          1179.7964532008223,
          1228.9690915351773,
          1277.6803282458743,
          1325.4759725964666,
          1367.8792919499595,
          1407.0979549059882,
          1436.8058968813598,
          1461.7779848239218,
          1486.947720766901,
          1507.5319702037564,
          1524.1007323653398,
          1541.5232844638144,
          1557.250373731911,
          1567.59391714945,
          1566.5875058202141,
          1562.07176398442,
          1555.906457502993,
          1544.274863910077,
          1526.733017990411,
          1516.0609642986883,
          1506.8578851936236,
          1490.9169779679296,
          1471.8883876667237,
          1444.4218281198334,
          1404.8510862643727,
          1361.9236892078916,
          1319.8882120043145,
          1272.9660081296022,
          1222.3630923276241,
          1172.9374974415239,
          1120.732380724418,
          1064.3580350709503,
          1014.247149545314,
          973.2783843045103,
          928.1080903065816,
          868.1370056966006,
          805.3856714337933,
          747.6155215497718,
          692.8889744136434,
          628.3694399807607,
          558.0292056681135,
          490.580744633101,
          420.5514959617127,
          350.75339873329017,
          282.6470010197637,
          208.40295316601632,
          136.65091381064906,
          69.34807332728788,
          2.394696714464025,
          -68.68658384730493,
          -146.59480266865486,
          -223.99856832987302,
          -1210.1818129664264,
          -1243.7554920755783,
          -1277.4355650123805,
          -1308.941436257979,
          -1337.6262631587788,
          -1366.3404820941723,
          -1392.3315419663236,
          -1421.061714239738,
          -1446.9961749150634,
          -1467.5108496644896,
          -1485.8683310909425,
          -1495.2141809629272,
          -1495.913306178639,
          -1497.3948584841878,
          -1506.022204159234,
          -1504.8156407471806,
          -1495.2788783851263,
          -1485.1692481726927,
          -1473.5229593879012,
          -1443.3346772180982,
          -1417.5577802845276,
          -1396.4705899484343,
          -1372.1017968525543,
          -1341.8639240515097,
          -1304.0726716208676,
          -1257.8420633016453,
          -1206.263564318507,
          -1157.1834568453746,
          -1098.2775584107428,
          -1028.0533966283463,
          -970.7391953357314,
          -925.7667163968163,
          -883.697957963754,
          -826.895837946156,
          -769.0735403502586,
          -743.2750231629643,
          -698.8494293830623,
          -643.1932519505733,
          -570.3202181182814,
          -507.3986776406231,
          -441.5161332356346,
          -398.26312732421195,
          -343.86288964578864,
          -288.80062189586926,
          -204.59828698633487,
          -128.5192287573182,
          -58.55111566528741,
          -0.0351525026775333,
          56.5374563717925,
          132.15244994059393,
          205.704757653707,
          271.53286852005044,
          346.1187732131232,
          405.43730814239115,
          464.6186573284093,
          528.6834009443107,
          598.2123528818867,
          662.467422366008,
          723.3316291360758,
          792.0191699744222,
          858.9476713661726,
          919.0425479786292,
          978.7195109389809,
          1056.906214767685,
          1114.0729943328045,
          1158.0388703181031,
          1202.62571067497,
          1253.704240501254,
          1300.0136781506508,
          1337.8331724829707,
          1373.3195684718864,
          1405.6754816139037,
          1433.208438951474,
          1454.1684986940609,
          1468.799080315311,
          1479.6243406129058,
          1489.1033300209149,
          1498.3549270759554,
          1511.8668564893956,
          1525.3473125060882,
          1519.7986978146353,
          1505.1880445274624,
          1492.6981531150552,
          1483.5522405213562,
          1472.8535647689628,
          1459.3265541808125,
          1442.9338739293783,
          1417.1700195847757,
          1381.0132318562676,
          1340.1096275834436,
          1304.8093239978657,
          1263.1089365932435,
          1218.3194720133226,
          1165.626810825105,
          1110.6672266298963,
          1058.717566253402,
          1009.0833859932445,
          965.6484904692213,
          922.2056434145184,
          872.8699081365888
         ],
         "y": [
          205.67606277663,
          197.23489654207162,
          190.2276467342396,
          184.34740157655668,
          171.99446742203804,
          156.13084842898786,
          145.89034889068847,
          135.41857348127957,
          124.1334748725922,
          116.60643294842717,
          105.64591660221129,
          95.66543620580032,
          88.9726638919306,
          94.95420957715307,
          103.33263280575308,
          102.59794218724606,
          98.18334858255544,
          93.10817114989486,
          85.15594109604541,
          81.00909372480352,
          81.81373345672145,
          82.2111147057772,
          81.40028650407385,
          84.19787315577172,
          94.10043300396042,
          101.08379030712369,
          101.87885551840634,
          104.4283644966461,
          109.01883455349781,
          111.90346907821882,
          111.26934555895808,
          111.76233463819848,
          118.05960402109125,
          126.47698134723487,
          128.4134006853422,
          123.57156378970846,
          125.43937662973185,
          133.87376689433785,
          136.4926878894324,
          137.120705141079,
          143.5008224828575,
          152.84414992662985,
          154.74695845238543,
          151.2964854745964,
          153.0949264925716,
          154.0929446001009,
          149.06842232340964,
          151.3335025302064,
          161.7932731686274,
          165.54557021919112,
          164.1103951967723,
          174.89460832926613,
          191.0185536183127,
          192.0325140723256,
          190.64445053377972,
          194.5891828466834,
          198.5013275531276,
          199.48356503455238,
          192.14061685185234,
          183.59604064064595,
          182.7058245779442,
          179.74479794804097,
          167.2870644420243,
          162.29930247313825,
          164.23077120348788,
          157.6044268319706,
          154.36118290741956,
          158.40174994795535,
          155.04787962565678,
          137.9528227773556,
          118.85202618731135,
          109.29425049558448,
          101.95280989651026,
          89.55097449673725,
          83.67728673833564,
          82.90714092417285,
          75.91538523158421,
          65.97420215266041,
          39.739192807071966,
          6.6864565625131,
          -12.357224844939603,
          -26.24890314709473,
          -29.26434399041964,
          -31.912575393963177,
          -47.316929790960025,
          -61.302909512222065,
          -54.73881243016504,
          -44.29047667931816,
          -46.635186395735076,
          -53.22513894750624,
          -54.49231364646752,
          -49.85223583194196,
          -52.52220573246157,
          -56.81336070064379,
          -51.90133954226426,
          -40.25906900945269,
          -24.88548223286856,
          -14.937631855153876,
          -4.231032808741285,
          10.349895574472042,
          500.5736358673985,
          503.1274482274254,
          494.4658429714424,
          502.8523947592578,
          488.4570003868337,
          522.399276336844,
          510.1804668449866,
          500.54708015754113,
          501.99355030823585,
          504.47995536131856,
          501.0542025106219,
          506.43561342307197,
          507.43326736383057,
          511.7973824178839,
          515.182270421718,
          519.6197106721258,
          523.636858392746,
          523.3361587826519,
          520.1884811790923,
          523.0639130049047,
          523.0868421769187,
          524.0995131778659,
          515.8093294007491,
          509.9082828018939,
          497.71994239839796,
          501.5353480456428,
          500.91232703214285,
          490.0921751720515,
          494.7942443747649,
          491.5527174284831,
          486.8634480032583,
          488.9223096886761,
          488.9711033082673,
          482.7959532605373,
          482.9244782879037,
          477.1717867297965,
          476.49834064294214,
          467.0161303688515,
          464.69064886842625,
          470.1268674028337,
          457.5176732267298,
          456.5143954600212,
          442.3307854468161,
          443.9770168255024,
          430.98600316697025,
          424.9847246654302,
          416.56218194375634,
          421.1338394753134,
          402.9191684280228,
          408.2362718564243,
          406.0496749638042,
          393.04817995903943,
          376.2999576611937,
          377.24763763314985,
          362.6565258621607,
          347.3187042985031,
          367.2135898215136,
          349.25610330936127,
          344.0184132712821,
          368.2366469550893,
          365.4345081714709,
          341.7539571785365,
          357.8554143292802,
          356.8798781171465,
          354.7565984456513,
          362.3728346561706,
          362.4948800866831,
          374.38612800934817,
          396.24391923078565,
          390.20449522858365,
          397.9726762135099,
          419.7472557762228,
          443.93091411576575,
          458.1215218367376,
          473.1329456694632,
          488.3768527258759,
          499.10592835252385,
          507.3569691665192,
          519.1682372508844,
          527.4672853498821,
          540.421677371281,
          549.9132158401155,
          556.4278429790115,
          554.8581451049263,
          568.3674487116436,
          575.5442494250516,
          586.8218030933295,
          594.1870191889847,
          594.3823613901275,
          604.0705062506916,
          612.0878415768659,
          615.7056003316393,
          625.5797146298464,
          639.6008342078118,
          650.5197675497525,
          660.4148166910624,
          661.5594254398792,
          668.4067049958682,
          667.5742429717973,
          663.4856630695604,
          209.07161224985194,
          215.3424865299346,
          221.08058666699247,
          225.50532932575598,
          233.88271990048918,
          242.29049620014158,
          249.95941166361797,
          259.07905028086947,
          262.99494051167454,
          267.85244334369855,
          270.65745328942864,
          272.11799992820596,
          274.29569888929547,
          275.04712221341543,
          276.123455568017,
          271.11565135166387,
          269.1745617052012,
          269.3989010605531,
          270.316529483194,
          262.99234597471246,
          262.16587280301326,
          252.70263059667454,
          242.87998623631165,
          235.729809099794,
          224.69305842159284,
          214.36229443031758,
          206.06293909690348,
          194.54642152398313,
          186.08079722176072,
          177.09853224169004,
          171.98493316313338,
          155.8705650378435,
          148.99042737477748,
          138.08630410324474,
          125.35816555320015,
          110.2995365242178,
          100.44384819242403,
          89.66608075568871,
          84.03274366759426,
          76.41948400624145,
          63.26229833488213,
          42.89500257867403,
          28.198934917161804,
          25.33225177390577,
          20.311149058013036,
          13.916099992256317,
          -2.6588013674926922,
          -22.864151616739726,
          -27.589632006172543,
          -36.58517795212554,
          -55.90093219798533,
          -72.67792719780378,
          -79.04986650697248,
          -82.23115280838009,
          -86.02212274863652,
          -82.66021193222306,
          -76.09745754658974,
          -73.48469243530967,
          -92.93892823050543,
          -78.67011493810931,
          -70.71174669228328,
          -56.29912194678292,
          -65.01701965995188,
          -61.44795605231012,
          -50.508116873065845,
          -38.222932537417904,
          -27.76765394403831,
          -35.30994964350109,
          -20.159774261863657,
          -5.499961810459392,
          3.976422588565342,
          32.90353362717188,
          35.46464903421402,
          38.78445063028431,
          52.38766032310657,
          65.44504268227291,
          80.76381649799022,
          84.49676373926106,
          100.0153709093757,
          117.51917982219557,
          128.52947701290287,
          142.62510936496082,
          163.00174112812695,
          183.35601978833407,
          201.907937220418,
          202.00476065916763,
          219.09197650441442,
          227.11086208221008,
          233.82721320005308,
          240.49756979274366,
          247.48877674978357,
          245.65559815040967,
          249.31816642850362,
          243.41671097093263,
          249.27018067532285,
          241.77082620381472,
          238.29259755810497,
          231.03076047781505,
          220.64626893181727,
          210.16383823263166,
          57.593370460312606,
          39.91478516300584,
          28.936825440775262,
          12.092840985705276,
          -7.563087508733109,
          -30.627986882513955,
          -47.88327389097367,
          -56.77071900039759,
          -70.45868244550068,
          -86.48354527687844,
          -97.07324000130123,
          -105.0654816700915,
          -112.28314949651278,
          -113.33990047840838,
          -112.0533309363811,
          -102.71567112322582,
          -84.10034670004617,
          -59.01547358065777,
          -28.698938531007656,
          2.6763994116965253,
          29.266488112954498,
          59.018681251313026,
          70.93256133655822,
          105.3234639496083,
          128.5992847051471,
          154.44557427107907,
          167.2958304026459,
          179.65943748367036,
          206.5351508377965,
          239.50173487578954,
          274.6968946742921,
          307.52195042240663,
          325.4232958874153,
          340.28781395120393,
          353.6022220672335,
          365.3509453181854,
          376.93054559204796,
          393.3222265699133,
          410.3982085158729,
          431.0458301610948,
          446.31222181586685,
          466.105471911167,
          477.3818586075608,
          489.7452740098118,
          505.1132351353259,
          512.1869949234537,
          515.82527287567,
          512.7765224735358,
          504.7729401931333,
          504.393521416199,
          502.0668589903618,
          491.4632134066814,
          477.8112491618951,
          464.1117033405418,
          451.365547148241,
          435.17943720801236,
          418.13586489259285,
          400.4121048678768,
          379.96271915543826,
          357.71226891887784,
          338.5548985713515,
          337.54847268312426,
          341.1764118151784,
          349.44544460189525,
          349.8035551268686,
          353.86014842770487,
          358.57905976034215,
          350.1728364477904,
          342.3887691433591,
          342.79485556645886,
          337.37718528279044,
          336.6471939425365,
          349.31234984028913,
          361.9248652568349,
          372.4745201895252,
          386.8966853294538,
          400.64232699408814,
          408.6266399746108,
          418.59490878503317,
          429.0486668614332,
          427.99948989483545,
          419.6401546485302,
          415.2806304162647,
          419.22139757239114,
          425.9417512875972,
          426.9477375892803,
          422.88238208868154,
          423.86777869515385,
          428.4778783192722,
          431.0011976627184,
          435.05359062407666,
          434.82527316257284,
          432.82579664690115,
          437.2527986182303,
          439.28278143677113,
          440.11927670600835,
          438.2555178464409,
          432.1333812690162,
          431.6933036589568,
          431.87634421261004,
          409.15553125514634,
          393.67477961139434,
          378.8515473003063,
          367.5369819752685,
          357.11310092534325,
          344.1294075816594,
          328.29140859803414,
          319.5565159157302,
          318.5034842860573,
          309.2551925361764,
          287.3679905616421,
          270.82628685204065,
          253.78515851769393,
          231.03993500207565,
          209.9785414844777,
          197.70786015015318,
          175.04820162771546,
          147.7260450375924,
          124.50174442911586,
          102.40122020410926,
          77.64387678137857,
          63.486696504345446,
          48.79866891619218,
          28.41716521611862,
          9.393240832306388,
          -10.683742381373103,
          -28.88984669149254,
          -45.05469100555468,
          -59.05802034599067,
          -76.74915487940376,
          -84.00206418690685,
          -59.85125933659602,
          -35.858697814283424,
          -22.85403206358906,
          -6.38907460113668,
          12.898094841759136,
          45.398186526494,
          66.17675505830621,
          101.83314970970142,
          118.6932097962764,
          135.9942618309339,
          147.25069646820953,
          174.6958991176605,
          203.1223897585762,
          233.6869995152182,
          252.81611818195287,
          271.789276463272,
          292.21061769720063,
          311.61394683521934,
          333.6088568260193,
          345.75437605772777,
          361.6325780722552,
          366.2582298906383,
          383.0322738582586,
          405.7388432849964,
          421.2879942745717,
          435.5605650228835,
          451.9945811269313,
          466.45183275507037,
          475.0280092480892,
          484.8639895934158,
          496.6226060456278,
          497.63789811892974,
          502.10609491972303,
          501.9817032542761,
          506.0473460597945,
          504.2539988971412,
          491.76961346022017,
          475.7318842604442,
          462.2108528118587,
          448.09921444211335,
          429.21993520515167,
          408.3177932745382,
          388.1041817574841,
          370.4629092440537,
          353.94061406206674,
          341.875911177998,
          336.8100836998353,
          327.8217559853102,
          310.36519451668914,
          299.54373908833645,
          298.9412541840429,
          295.32384326232705,
          288.5223276946054,
          284.5330793781937,
          277.79246402725363,
          270.6282829134013,
          276.24062538052146,
          289.6331237881846,
          299.2061908697329,
          291.8137221437649,
          294.924190986852,
          301.1413774053947,
          308.7534102965478,
          317.35097733709256,
          321.51103658982413,
          324.9418315991996,
          325.7488048405039,
          324.0553755345213,
          322.64232891495425
         ],
         "z": [
          45.31340306476768,
          48.28005422748375,
          51.389906064909596,
          51.91978174137002,
          69.95211835643578,
          101.29295349764229,
          111.62323911284801,
          121.54532122893731,
          143.98796896724136,
          155.29668553873813,
          167.67043846719545,
          197.14851615133108,
          215.20920388072673,
          193.25994421074685,
          158.6069653541402,
          151.13025535913042,
          163.25707995886384,
          183.44500501871016,
          209.11717709780476,
          218.5879090231706,
          212.47957732652733,
          206.55668272000355,
          202.65324216932132,
          185.62341314752555,
          140.27159974239544,
          106.92040433367723,
          108.2767064930273,
          106.72838024791393,
          91.3059550339492,
          81.87101737142197,
          91.95167592840657,
          107.88514197587268,
          109.22483440531511,
          85.51634429403603,
          77.3886381664563,
          112.0266615164937,
          120.55870112020163,
          104.06081882947089,
          108.979863069349,
          115.06811671641206,
          91.46045660549882,
          62.66121332332634,
          74.41709723357714,
          97.77801909891649,
          91.56338981272302,
          86.8454168740648,
          104.59180567720958,
          96.40901935329822,
          58.636738935694474,
          44.436768131931345,
          51.28177978143295,
          16.33272937407597,
          -41.36546635669652,
          -41.12454800176256,
          -34.61275991308876,
          -55.945322699241615,
          -75.81471234865273,
          -95.76025523103974,
          -84.98793175716077,
          -61.87334695845268,
          -69.85678760990541,
          -75.67871876487322,
          -42.61866171779733,
          -40.96103378007528,
          -70.51609748371064,
          -60.402859905235935,
          -58.16277829853234,
          -85.86768765682696,
          -94.93969765985545,
          -41.389811027597226,
          26.951535825054663,
          41.42859607926573,
          54.71402313585436,
          104.6817437700368,
          124.38387764793684,
          112.3461368195764,
          130.1442742689125,
          168.6589841431608,
          277.6814663524334,
          404.3958461453853,
          479.16988710180556,
          537.3678948709546,
          549.4298212553658,
          561.5233235896404,
          629.1603876241621,
          695.4985791416243,
          701.4916973419863,
          689.3353914978077,
          705.8129741333439,
          736.591855254177,
          762.7972807104845,
          778.6621627093757,
          810.742107215994,
          843.039102061513,
          848.442600566369,
          838.6557269036615,
          820.2095830897316,
          808.890496222181,
          799.3889821674778,
          785.5811234719711,
          -217.10593356405383,
          -207.0199634115041,
          -190.83005211137123,
          -244.94063266815746,
          -184.9923377632859,
          -311.78248674853324,
          -256.2502185224562,
          -238.5847914797063,
          -237.51129449698806,
          -250.30631968693157,
          -254.12629368099402,
          -282.83008017785284,
          -285.3441389196336,
          -297.9848099356908,
          -306.56026409112576,
          -341.8787576746313,
          -361.04766061779054,
          -378.0145229639517,
          -399.8777515764006,
          -419.84231401236246,
          -448.3756691057931,
          -476.8725083085795,
          -487.2401575431728,
          -519.2688196247544,
          -574.977819141399,
          -580.1100937468735,
          -574.23563116951,
          -566.5975218771979,
          -563.6025020900482,
          -572.5897414651577,
          -564.2274583439536,
          -538.1239791672565,
          -515.6262346373237,
          -509.31550959334675,
          -495.91173100165787,
          -443.5717749939256,
          -445.3664295334532,
          -422.319162516936,
          -374.25335256584447,
          -366.04669660469693,
          -362.72447398510127,
          -277.23148654601596,
          -205.64755306163403,
          -165.02771377342498,
          -80.25189518121313,
          -5.043090218419987,
          64.82858298973707,
          133.89331590459534,
          200.76675708448929,
          238.37840672467743,
          262.6846138103658,
          331.85282231238114,
          395.4343789259647,
          433.3836082843077,
          491.8111828519236,
          523.5280519882286,
          501.6690520474855,
          546.059577303848,
          562.5907035603957,
          525.585478726222,
          523.7977440386016,
          578.2489031133342,
          567.0041123719697,
          575.2804079666475,
          600.9161856918016,
          588.2200355402972,
          606.8929711774458,
          564.0151686065311,
          533.8584420574151,
          561.5993890401729,
          533.6904860243638,
          492.0844968217096,
          455.9378386397544,
          428.27374336794975,
          390.6657704900859,
          354.4493990191439,
          315.08864777812215,
          304.653301021697,
          282.38863207391535,
          251.98357188289987,
          211.6861307203357,
          185.10900984061354,
          169.7126997676787,
          171.30135113451556,
          147.4029402704569,
          106.88076670362825,
          84.34697458344169,
          73.62897822646941,
          55.07334435221831,
          33.963243806405664,
          26.6359165985847,
          8.8665157126112,
          -15.886049232200348,
          -43.68097989115929,
          -62.41651874348959,
          -82.96781519642948,
          -88.56783615336333,
          -99.59867107939476,
          -102.32794213520057,
          -94.82482871021415,
          -169.26019337037727,
          -168.59378496648426,
          -192.80232381622562,
          -175.28211637142047,
          -206.44606060225317,
          -216.0414462858516,
          -225.1747492935601,
          -227.8544455266473,
          -229.8693167769578,
          -227.94591779752338,
          -239.4484027784205,
          -251.09603903870348,
          -254.21638159968143,
          -247.39987786166276,
          -247.33267231101303,
          -232.4313109643037,
          -222.1581354543683,
          -228.39331748269538,
          -247.87526686483147,
          -213.73204860687477,
          -198.46936118852227,
          -191.9214233078157,
          -169.54332383840256,
          -137.40032447442348,
          -101.35925548237657,
          -55.94887897321201,
          -25.491543780651902,
          -2.8153636351273432,
          40.42149072689615,
          77.2420451467885,
          128.0727872696811,
          202.01134501750522,
          246.04937915551943,
          297.3729862975327,
          364.7666722806803,
          409.5404825919427,
          440.49697742507215,
          471.56227421018355,
          491.55924880588174,
          509.31239534281053,
          554.5540792604838,
          625.6762261668827,
          673.9239658632181,
          680.4648436081867,
          691.6531163550524,
          713.9254943391389,
          763.1561669024884,
          818.5233189389536,
          829.1921202022978,
          858.5979564843566,
          906.0356464311953,
          951.8027733859883,
          970.6519301800097,
          984.2454794558837,
          995.4969128004007,
          992.9222516803364,
          987.6455570067042,
          974.1098829752299,
          1011.942374105506,
          994.2997998073042,
          981.4185238927738,
          951.3994773631913,
          960.6117732363457,
          951.9119211405543,
          934.7092844406568,
          909.6630289703979,
          887.2100042368537,
          902.8928665650856,
          875.3104232995341,
          844.2862517514169,
          824.642088317065,
          766.7406324839834,
          766.564275437535,
          760.8279394711959,
          737.6498196348364,
          712.1760540464118,
          685.100172458203,
          679.6927152404518,
          651.9972548188703,
          624.9504664472296,
          601.9753211370983,
          575.5295505651209,
          542.823341645977,
          505.207950278059,
          465.93211325693215,
          463.81035781213313,
          422.0776764623929,
          411.5610196469479,
          397.4449372573979,
          380.7700706133765,
          355.4406830140193,
          357.59824359091704,
          341.1449317782736,
          347.857386397744,
          317.69623932749334,
          323.65848482121737,
          321.69222178525865,
          325.2953792995029,
          334.0529735224825,
          340.9688725149825,
          -453.18957807401017,
          -354.7614316232036,
          -292.2384822335458,
          -216.96857373675346,
          -130.81304215228573,
          -28.659871804483572,
          58.21452060844725,
          114.77532312203795,
          181.48016159281119,
          267.352023703116,
          344.27915967305387,
          411.0922104067947,
          487.9759429826472,
          554.4497383815626,
          608.5216649219075,
          649.5434950850533,
          650.658316142868,
          637.9420916365706,
          612.1596625296455,
          579.8571645808627,
          560.7840627553755,
          537.8242501373024,
          538.9036099551504,
          524.2935428314845,
          527.0313469006935,
          519.8392332986165,
          519.8652295241017,
          513.7865908541015,
          483.33677191703777,
          444.9064586047445,
          408.0477885085723,
          392.81943735175753,
          389.051731047668,
          371.3419367807642,
          343.89705869075004,
          318.3152443689496,
          299.73965019465686,
          285.0862896976887,
          272.47466051987595,
          269.3974530494619,
          242.19859659697377,
          203.83725641455752,
          186.1842273288079,
          161.26942982014543,
          125.65155130516048,
          112.08006381687882,
          104.4410334191826,
          105.6039128667705,
          111.72520821673412,
          98.68954970744713,
          90.98389215778937,
          99.04080661880695,
          110.05813501830247,
          122.5293603623569,
          132.0616006314831,
          142.61492904443435,
          156.59118663340405,
          177.22904533203692,
          207.06261993619478,
          241.98584330657687,
          264.2319193498308,
          266.46361504163906,
          247.52146541775204,
          233.96575910806934,
          232.9715314993164,
          221.4630815240755,
          204.291056241934,
          214.47451394869807,
          226.0782302239386,
          224.67102548066487,
          229.87782970643593,
          219.44315460098676,
          180.93033547325902,
          139.61358298795938,
          102.49989456467463,
          58.162595205823926,
          8.309725916128079,
          -32.42593746400794,
          -68.98850168494812,
          -101.58616024331376,
          -100.51830006695201,
          -68.80913876193496,
          -44.485204664034924,
          -50.304943900914736,
          -66.39144186072132,
          -66.41434939654016,
          -50.310202723278806,
          -51.806269566857544,
          -75.70457819385477,
          -87.27940642034616,
          -97.51917480810992,
          -103.96297472898057,
          -109.05789111099746,
          -137.9447894818504,
          -165.06567423411997,
          -185.80809008702838,
          -200.72217665132018,
          -216.2107366361898,
          -254.81622836907752,
          -295.1131451456758,
          -728.664322243389,
          -706.1722036113376,
          -693.1096933137308,
          -703.5804625575529,
          -721.7289675201433,
          -723.5547578971366,
          -697.2901166066474,
          -684.9582605941054,
          -697.8035576856804,
          -697.0968870937328,
          -659.232020086233,
          -602.2889656673658,
          -543.7397515676251,
          -466.79317407981205,
          -396.13157564090443,
          -330.94523159402786,
          -226.8110542931548,
          -120.6371199546172,
          -32.80621576207971,
          50.04312268310843,
          131.34320120939603,
          176.3432326480723,
          232.3050718180474,
          307.219661638767,
          380.9843772032292,
          459.4664324415415,
          533.7538200851283,
          601.0858510340652,
          666.0114974253908,
          744.5320316517684,
          792.6805603580849,
          768.8412118634694,
          739.1757496408903,
          749.4749813148203,
          750.9691448480477,
          727.3408740794241,
          682.1558062694837,
          664.6577111282807,
          624.6922370263296,
          621.0326557946039,
          613.3497699504023,
          611.6017490734118,
          581.9805546934774,
          544.4027586603136,
          508.15085087214624,
          506.6303473781776,
          495.1803800323744,
          457.97802490255015,
          416.68499711379457,
          411.87659481638514,
          411.07744096531144,
          401.9361767712504,
          373.0663804886439,
          334.7434265337514,
          294.4037152792701,
          267.8734404417967,
          248.5938361991491,
          216.12365620037326,
          181.03960420650893,
          166.14868857960857,
          151.84497973731598,
          129.7354727523478,
          119.1021271716082,
          132.40829062258487,
          123.71785085196797,
          97.1494568425877,
          79.6327752192491,
          90.50863130423912,
          109.25480528701877,
          119.55450184850315,
          128.63922031976696,
          141.43973268833736,
          155.70459414550257,
          166.54838963514197,
          168.65160655519207,
          176.9086050065223,
          190.15828107775675,
          184.5811369112044,
          180.2706495635442,
          194.4020715558943,
          191.06272603172445,
          170.69845597875562,
          155.64697994038937,
          148.51127358092654,
          135.61040380000216,
          129.31287824193655,
          132.47407408840292,
          118.31870327894164,
          82.04399314532058,
          44.66666255696387,
          -0.8519093131019931,
          -42.1627749678593,
          -83.377272135162,
          -134.14173842684994,
          -174.29359870590443,
          -194.6834600746711,
          -198.95997914819137,
          -178.08962574797067,
          -150.44723639500987,
          -129.89952080755353
         ]
        }
       ],
       "layout": {
        "legend": {
         "title": {
          "text": "category"
         },
         "tracegroupgap": 0
        },
        "scene": {
         "domain": {
          "x": [
           0,
           1
          ],
          "y": [
           0,
           1
          ]
         },
         "xaxis": {
          "title": {
           "text": "PC1"
          }
         },
         "yaxis": {
          "title": {
           "text": "PC2"
          }
         },
         "zaxis": {
          "title": {
           "text": "PC3"
          }
         }
        },
        "template": {
         "data": {
          "bar": [
           {
            "error_x": {
             "color": "#2a3f5f"
            },
            "error_y": {
             "color": "#2a3f5f"
            },
            "marker": {
             "line": {
              "color": "#E5ECF6",
              "width": 0.5
             },
             "pattern": {
              "fillmode": "overlay",
              "size": 10,
              "solidity": 0.2
             }
            },
            "type": "bar"
           }
          ],
          "barpolar": [
           {
            "marker": {
             "line": {
              "color": "#E5ECF6",
              "width": 0.5
             },
             "pattern": {
              "fillmode": "overlay",
              "size": 10,
              "solidity": 0.2
             }
            },
            "type": "barpolar"
           }
          ],
          "carpet": [
           {
            "aaxis": {
             "endlinecolor": "#2a3f5f",
             "gridcolor": "white",
             "linecolor": "white",
             "minorgridcolor": "white",
             "startlinecolor": "#2a3f5f"
            },
            "baxis": {
             "endlinecolor": "#2a3f5f",
             "gridcolor": "white",
             "linecolor": "white",
             "minorgridcolor": "white",
             "startlinecolor": "#2a3f5f"
            },
            "type": "carpet"
           }
          ],
          "choropleth": [
           {
            "colorbar": {
             "outlinewidth": 0,
             "ticks": ""
            },
            "type": "choropleth"
           }
          ],
          "contour": [
           {
            "colorbar": {
             "outlinewidth": 0,
             "ticks": ""
            },
            "colorscale": [
             [
              0,
              "#0d0887"
             ],
             [
              0.1111111111111111,
              "#46039f"
             ],
             [
              0.2222222222222222,
              "#7201a8"
             ],
             [
              0.3333333333333333,
              "#9c179e"
             ],
             [
              0.4444444444444444,
              "#bd3786"
             ],
             [
              0.5555555555555556,
              "#d8576b"
             ],
             [
              0.6666666666666666,
              "#ed7953"
             ],
             [
              0.7777777777777778,
              "#fb9f3a"
             ],
             [
              0.8888888888888888,
              "#fdca26"
             ],
             [
              1,
              "#f0f921"
             ]
            ],
            "type": "contour"
           }
          ],
          "contourcarpet": [
           {
            "colorbar": {
             "outlinewidth": 0,
             "ticks": ""
            },
            "type": "contourcarpet"
           }
          ],
          "heatmap": [
           {
            "colorbar": {
             "outlinewidth": 0,
             "ticks": ""
            },
            "colorscale": [
             [
              0,
              "#0d0887"
             ],
             [
              0.1111111111111111,
              "#46039f"
             ],
             [
              0.2222222222222222,
              "#7201a8"
             ],
             [
              0.3333333333333333,
              "#9c179e"
             ],
             [
              0.4444444444444444,
              "#bd3786"
             ],
             [
              0.5555555555555556,
              "#d8576b"
             ],
             [
              0.6666666666666666,
              "#ed7953"
             ],
             [
              0.7777777777777778,
              "#fb9f3a"
             ],
             [
              0.8888888888888888,
              "#fdca26"
             ],
             [
              1,
              "#f0f921"
             ]
            ],
            "type": "heatmap"
           }
          ],
          "heatmapgl": [
           {
            "colorbar": {
             "outlinewidth": 0,
             "ticks": ""
            },
            "colorscale": [
             [
              0,
              "#0d0887"
             ],
             [
              0.1111111111111111,
              "#46039f"
             ],
             [
              0.2222222222222222,
              "#7201a8"
             ],
             [
              0.3333333333333333,
              "#9c179e"
             ],
             [
              0.4444444444444444,
              "#bd3786"
             ],
             [
              0.5555555555555556,
              "#d8576b"
             ],
             [
              0.6666666666666666,
              "#ed7953"
             ],
             [
              0.7777777777777778,
              "#fb9f3a"
             ],
             [
              0.8888888888888888,
              "#fdca26"
             ],
             [
              1,
              "#f0f921"
             ]
            ],
            "type": "heatmapgl"
           }
          ],
          "histogram": [
           {
            "marker": {
             "pattern": {
              "fillmode": "overlay",
              "size": 10,
              "solidity": 0.2
             }
            },
            "type": "histogram"
           }
          ],
          "histogram2d": [
           {
            "colorbar": {
             "outlinewidth": 0,
             "ticks": ""
            },
            "colorscale": [
             [
              0,
              "#0d0887"
             ],
             [
              0.1111111111111111,
              "#46039f"
             ],
             [
              0.2222222222222222,
              "#7201a8"
             ],
             [
              0.3333333333333333,
              "#9c179e"
             ],
             [
              0.4444444444444444,
              "#bd3786"
             ],
             [
              0.5555555555555556,
              "#d8576b"
             ],
             [
              0.6666666666666666,
              "#ed7953"
             ],
             [
              0.7777777777777778,
              "#fb9f3a"
             ],
             [
              0.8888888888888888,
              "#fdca26"
             ],
             [
              1,
              "#f0f921"
             ]
            ],
            "type": "histogram2d"
           }
          ],
          "histogram2dcontour": [
           {
            "colorbar": {
             "outlinewidth": 0,
             "ticks": ""
            },
            "colorscale": [
             [
              0,
              "#0d0887"
             ],
             [
              0.1111111111111111,
              "#46039f"
             ],
             [
              0.2222222222222222,
              "#7201a8"
             ],
             [
              0.3333333333333333,
              "#9c179e"
             ],
             [
              0.4444444444444444,
              "#bd3786"
             ],
             [
              0.5555555555555556,
              "#d8576b"
             ],
             [
              0.6666666666666666,
              "#ed7953"
             ],
             [
              0.7777777777777778,
              "#fb9f3a"
             ],
             [
              0.8888888888888888,
              "#fdca26"
             ],
             [
              1,
              "#f0f921"
             ]
            ],
            "type": "histogram2dcontour"
           }
          ],
          "mesh3d": [
           {
            "colorbar": {
             "outlinewidth": 0,
             "ticks": ""
            },
            "type": "mesh3d"
           }
          ],
          "parcoords": [
           {
            "line": {
             "colorbar": {
              "outlinewidth": 0,
              "ticks": ""
             }
            },
            "type": "parcoords"
           }
          ],
          "pie": [
           {
            "automargin": true,
            "type": "pie"
           }
          ],
          "scatter": [
           {
            "fillpattern": {
             "fillmode": "overlay",
             "size": 10,
             "solidity": 0.2
            },
            "type": "scatter"
           }
          ],
          "scatter3d": [
           {
            "line": {
             "colorbar": {
              "outlinewidth": 0,
              "ticks": ""
             }
            },
            "marker": {
             "colorbar": {
              "outlinewidth": 0,
              "ticks": ""
             }
            },
            "type": "scatter3d"
           }
          ],
          "scattercarpet": [
           {
            "marker": {
             "colorbar": {
              "outlinewidth": 0,
              "ticks": ""
             }
            },
            "type": "scattercarpet"
           }
          ],
          "scattergeo": [
           {
            "marker": {
             "colorbar": {
              "outlinewidth": 0,
              "ticks": ""
             }
            },
            "type": "scattergeo"
           }
          ],
          "scattergl": [
           {
            "marker": {
             "colorbar": {
              "outlinewidth": 0,
              "ticks": ""
             }
            },
            "type": "scattergl"
           }
          ],
          "scattermapbox": [
           {
            "marker": {
             "colorbar": {
              "outlinewidth": 0,
              "ticks": ""
             }
            },
            "type": "scattermapbox"
           }
          ],
          "scatterpolar": [
           {
            "marker": {
             "colorbar": {
              "outlinewidth": 0,
              "ticks": ""
             }
            },
            "type": "scatterpolar"
           }
          ],
          "scatterpolargl": [
           {
            "marker": {
             "colorbar": {
              "outlinewidth": 0,
              "ticks": ""
             }
            },
            "type": "scatterpolargl"
           }
          ],
          "scatterternary": [
           {
            "marker": {
             "colorbar": {
              "outlinewidth": 0,
              "ticks": ""
             }
            },
            "type": "scatterternary"
           }
          ],
          "surface": [
           {
            "colorbar": {
             "outlinewidth": 0,
             "ticks": ""
            },
            "colorscale": [
             [
              0,
              "#0d0887"
             ],
             [
              0.1111111111111111,
              "#46039f"
             ],
             [
              0.2222222222222222,
              "#7201a8"
             ],
             [
              0.3333333333333333,
              "#9c179e"
             ],
             [
              0.4444444444444444,
              "#bd3786"
             ],
             [
              0.5555555555555556,
              "#d8576b"
             ],
             [
              0.6666666666666666,
              "#ed7953"
             ],
             [
              0.7777777777777778,
              "#fb9f3a"
             ],
             [
              0.8888888888888888,
              "#fdca26"
             ],
             [
              1,
              "#f0f921"
             ]
            ],
            "type": "surface"
           }
          ],
          "table": [
           {
            "cells": {
             "fill": {
              "color": "#EBF0F8"
             },
             "line": {
              "color": "white"
             }
            },
            "header": {
             "fill": {
              "color": "#C8D4E3"
             },
             "line": {
              "color": "white"
             }
            },
            "type": "table"
           }
          ]
         },
         "layout": {
          "annotationdefaults": {
           "arrowcolor": "#2a3f5f",
           "arrowhead": 0,
           "arrowwidth": 1
          },
          "autotypenumbers": "strict",
          "coloraxis": {
           "colorbar": {
            "outlinewidth": 0,
            "ticks": ""
           }
          },
          "colorscale": {
           "diverging": [
            [
             0,
             "#8e0152"
            ],
            [
             0.1,
             "#c51b7d"
            ],
            [
             0.2,
             "#de77ae"
            ],
            [
             0.3,
             "#f1b6da"
            ],
            [
             0.4,
             "#fde0ef"
            ],
            [
             0.5,
             "#f7f7f7"
            ],
            [
             0.6,
             "#e6f5d0"
            ],
            [
             0.7,
             "#b8e186"
            ],
            [
             0.8,
             "#7fbc41"
            ],
            [
             0.9,
             "#4d9221"
            ],
            [
             1,
             "#276419"
            ]
           ],
           "sequential": [
            [
             0,
             "#0d0887"
            ],
            [
             0.1111111111111111,
             "#46039f"
            ],
            [
             0.2222222222222222,
             "#7201a8"
            ],
            [
             0.3333333333333333,
             "#9c179e"
            ],
            [
             0.4444444444444444,
             "#bd3786"
            ],
            [
             0.5555555555555556,
             "#d8576b"
            ],
            [
             0.6666666666666666,
             "#ed7953"
            ],
            [
             0.7777777777777778,
             "#fb9f3a"
            ],
            [
             0.8888888888888888,
             "#fdca26"
            ],
            [
             1,
             "#f0f921"
            ]
           ],
           "sequentialminus": [
            [
             0,
             "#0d0887"
            ],
            [
             0.1111111111111111,
             "#46039f"
            ],
            [
             0.2222222222222222,
             "#7201a8"
            ],
            [
             0.3333333333333333,
             "#9c179e"
            ],
            [
             0.4444444444444444,
             "#bd3786"
            ],
            [
             0.5555555555555556,
             "#d8576b"
            ],
            [
             0.6666666666666666,
             "#ed7953"
            ],
            [
             0.7777777777777778,
             "#fb9f3a"
            ],
            [
             0.8888888888888888,
             "#fdca26"
            ],
            [
             1,
             "#f0f921"
            ]
           ]
          },
          "colorway": [
           "#636efa",
           "#EF553B",
           "#00cc96",
           "#ab63fa",
           "#FFA15A",
           "#19d3f3",
           "#FF6692",
           "#B6E880",
           "#FF97FF",
           "#FECB52"
          ],
          "font": {
           "color": "#2a3f5f"
          },
          "geo": {
           "bgcolor": "white",
           "lakecolor": "white",
           "landcolor": "#E5ECF6",
           "showlakes": true,
           "showland": true,
           "subunitcolor": "white"
          },
          "hoverlabel": {
           "align": "left"
          },
          "hovermode": "closest",
          "mapbox": {
           "style": "light"
          },
          "paper_bgcolor": "white",
          "plot_bgcolor": "#E5ECF6",
          "polar": {
           "angularaxis": {
            "gridcolor": "white",
            "linecolor": "white",
            "ticks": ""
           },
           "bgcolor": "#E5ECF6",
           "radialaxis": {
            "gridcolor": "white",
            "linecolor": "white",
            "ticks": ""
           }
          },
          "scene": {
           "xaxis": {
            "backgroundcolor": "#E5ECF6",
            "gridcolor": "white",
            "gridwidth": 2,
            "linecolor": "white",
            "showbackground": true,
            "ticks": "",
            "zerolinecolor": "white"
           },
           "yaxis": {
            "backgroundcolor": "#E5ECF6",
            "gridcolor": "white",
            "gridwidth": 2,
            "linecolor": "white",
            "showbackground": true,
            "ticks": "",
            "zerolinecolor": "white"
           },
           "zaxis": {
            "backgroundcolor": "#E5ECF6",
            "gridcolor": "white",
            "gridwidth": 2,
            "linecolor": "white",
            "showbackground": true,
            "ticks": "",
            "zerolinecolor": "white"
           }
          },
          "shapedefaults": {
           "line": {
            "color": "#2a3f5f"
           }
          },
          "ternary": {
           "aaxis": {
            "gridcolor": "white",
            "linecolor": "white",
            "ticks": ""
           },
           "baxis": {
            "gridcolor": "white",
            "linecolor": "white",
            "ticks": ""
           },
           "bgcolor": "#E5ECF6",
           "caxis": {
            "gridcolor": "white",
            "linecolor": "white",
            "ticks": ""
           }
          },
          "title": {
           "x": 0.05
          },
          "xaxis": {
           "automargin": true,
           "gridcolor": "white",
           "linecolor": "white",
           "ticks": "",
           "title": {
            "standoff": 15
           },
           "zerolinecolor": "white",
           "zerolinewidth": 2
          },
          "yaxis": {
           "automargin": true,
           "gridcolor": "white",
           "linecolor": "white",
           "ticks": "",
           "title": {
            "standoff": 15
           },
           "zerolinecolor": "white",
           "zerolinewidth": 2
          }
         }
        },
        "title": {
         "text": "3D PCA Projection"
        }
       }
      }
     },
     "metadata": {},
     "output_type": "display_data"
    }
   ],
   "source": [
    "df = pd.DataFrame({\n",
    "    \"PC1\": PC1,\n",
    "    \"PC2\": PC2,\n",
    "    \"PC3\": PC3,\n",
    "    \"category\": categories\n",
    "})\n",
    "\n",
    "label = {0.0: \"jumping\", 1.0: \"running\", 2.0: \"walking\"}\n",
    "df[\"category\"] = df[\"category\"].map(label)\n",
    "\n",
    "fig = px.scatter_3d(df, x = \"PC1\", y = \"PC2\", z = \"PC3\", color = \"category\", title = \"3D PCA Projection\",\n",
    "                    opacity = 0.8,\n",
    "                    size_max = 1)\n",
    "\n",
    "fig.update_traces(marker_size = 3)\n",
    "\n",
    "pio.write_image(fig, \"PCA_3d.pdf\")\n",
    "\n",
    "fig.show()"
   ]
  },
  {
   "cell_type": "code",
   "execution_count": 128,
   "metadata": {},
   "outputs": [
    {
     "name": "stdout",
     "output_type": "stream",
     "text": [
      "[[ -23.88986635  499.36826149  -72.5000755    28.58077286    1.89232891]\n",
      " [  60.77197779 -752.7210869  -103.41194553    1.71007194  -43.51746561]\n",
      " [ -36.88211143  253.35282541  175.91202104  -30.2908448    41.62513671]]\n"
     ]
    }
   ],
   "source": [
    "pca = PCA(n_components = 5)\n",
    "x_train_reduced = pca.fit_transform(x_train)\n",
    "\n",
    "centroid_jump = np.mean(x_train_reduced[0:500], axis = 0)\n",
    "centroid_run = np.mean(x_train_reduced[500:1000], axis = 0)\n",
    "centroid_walk = np.mean(x_train_reduced[1000:1500], axis = 0)\n",
    "\n",
    "centroids = np.array([centroid_jump, centroid_run, centroid_walk])\n",
    "\n",
    "print(centroids)\n",
    "    "
   ]
  },
  {
   "cell_type": "code",
   "execution_count": 161,
   "metadata": {},
   "outputs": [
    {
     "data": {
      "application/vnd.plotly.v1+json": {
       "config": {
        "plotlyServerURL": "https://plot.ly"
       },
       "data": [
        {
         "hovertemplate": "k-values=%{x}<br>Accuracy=%{y}<extra></extra>",
         "legendgroup": "",
         "marker": {
          "color": "#636efa",
          "symbol": "circle"
         },
         "mode": "markers",
         "name": "",
         "orientation": "v",
         "showlegend": false,
         "type": "scatter",
         "x": [
          1,
          2,
          3,
          4,
          5,
          6,
          7,
          8,
          9,
          10,
          11,
          12,
          13,
          14,
          15,
          16,
          17,
          18,
          19,
          20,
          21,
          22,
          23,
          24,
          25,
          26,
          27,
          28,
          29,
          30,
          31,
          32,
          33,
          34,
          35,
          36,
          37,
          38,
          39,
          40,
          41,
          42,
          43,
          44,
          45,
          46,
          47,
          48,
          49,
          50,
          51,
          52,
          53,
          54,
          55,
          56,
          57,
          58,
          59,
          60,
          61,
          62,
          63,
          64,
          65,
          66,
          67,
          68,
          69,
          70,
          71,
          72,
          73,
          74,
          75,
          76,
          77,
          78,
          79,
          80,
          81,
          82,
          83,
          84,
          85,
          86,
          87,
          88,
          89,
          90,
          91,
          92,
          93,
          94,
          95,
          96,
          97,
          98,
          99,
          100,
          101,
          102,
          103,
          104,
          105,
          106,
          107,
          108,
          109,
          110,
          111,
          112,
          113,
          114
         ],
         "xaxis": "x",
         "y": [
          0.5073333333333333,
          0.8813333333333333,
          0.756,
          0.73,
          0.7506666666666667,
          0.726,
          0.8706666666666667,
          0.8753333333333333,
          0.8786666666666667,
          0.888,
          0.908,
          0.9093333333333333,
          0.91,
          0.9106666666666666,
          0.9106666666666666,
          0.9106666666666666,
          0.9106666666666666,
          0.9106666666666666,
          0.9106666666666666,
          0.9106666666666666,
          0.9106666666666666,
          0.9106666666666666,
          0.9106666666666666,
          0.9106666666666666,
          0.9106666666666666,
          0.9106666666666666,
          0.9106666666666666,
          0.9106666666666666,
          0.9106666666666666,
          0.9106666666666666,
          0.9106666666666666,
          0.9106666666666666,
          0.9106666666666666,
          0.9106666666666666,
          0.9106666666666666,
          0.9106666666666666,
          0.9106666666666666,
          0.9106666666666666,
          0.9106666666666666,
          0.9106666666666666,
          0.9106666666666666,
          0.9106666666666666,
          0.9106666666666666,
          0.9106666666666666,
          0.9106666666666666,
          0.9106666666666666,
          0.9106666666666666,
          0.9106666666666666,
          0.9106666666666666,
          0.9106666666666666,
          0.9106666666666666,
          0.9106666666666666,
          0.9106666666666666,
          0.9106666666666666,
          0.9106666666666666,
          0.9106666666666666,
          0.9106666666666666,
          0.9106666666666666,
          0.9106666666666666,
          0.9106666666666666,
          0.9106666666666666,
          0.9106666666666666,
          0.9106666666666666,
          0.9106666666666666,
          0.9106666666666666,
          0.9106666666666666,
          0.9106666666666666,
          0.9106666666666666,
          0.9106666666666666,
          0.9106666666666666,
          0.9106666666666666,
          0.9106666666666666,
          0.9106666666666666,
          0.9106666666666666,
          0.9106666666666666,
          0.9106666666666666,
          0.9106666666666666,
          0.9106666666666666,
          0.9106666666666666,
          0.9106666666666666,
          0.9106666666666666,
          0.9106666666666666,
          0.9106666666666666,
          0.9106666666666666,
          0.9106666666666666,
          0.9106666666666666,
          0.9106666666666666,
          0.9106666666666666,
          0.9106666666666666,
          0.9106666666666666,
          0.9106666666666666,
          0.9106666666666666,
          0.9106666666666666,
          0.9106666666666666,
          0.9106666666666666,
          0.9106666666666666,
          0.9106666666666666,
          0.9106666666666666,
          0.9106666666666666,
          0.9106666666666666,
          0.9106666666666666,
          0.9106666666666666,
          0.9106666666666666,
          0.9106666666666666,
          0.9106666666666666,
          0.9106666666666666,
          0.9106666666666666,
          0.9106666666666666,
          0.9106666666666666,
          0.9106666666666666,
          0.9106666666666666,
          0.9106666666666666,
          0.9106666666666666,
          0.9106666666666666
         ],
         "yaxis": "y"
        }
       ],
       "layout": {
        "legend": {
         "tracegroupgap": 0
        },
        "template": {
         "data": {
          "bar": [
           {
            "error_x": {
             "color": "#2a3f5f"
            },
            "error_y": {
             "color": "#2a3f5f"
            },
            "marker": {
             "line": {
              "color": "#E5ECF6",
              "width": 0.5
             },
             "pattern": {
              "fillmode": "overlay",
              "size": 10,
              "solidity": 0.2
             }
            },
            "type": "bar"
           }
          ],
          "barpolar": [
           {
            "marker": {
             "line": {
              "color": "#E5ECF6",
              "width": 0.5
             },
             "pattern": {
              "fillmode": "overlay",
              "size": 10,
              "solidity": 0.2
             }
            },
            "type": "barpolar"
           }
          ],
          "carpet": [
           {
            "aaxis": {
             "endlinecolor": "#2a3f5f",
             "gridcolor": "white",
             "linecolor": "white",
             "minorgridcolor": "white",
             "startlinecolor": "#2a3f5f"
            },
            "baxis": {
             "endlinecolor": "#2a3f5f",
             "gridcolor": "white",
             "linecolor": "white",
             "minorgridcolor": "white",
             "startlinecolor": "#2a3f5f"
            },
            "type": "carpet"
           }
          ],
          "choropleth": [
           {
            "colorbar": {
             "outlinewidth": 0,
             "ticks": ""
            },
            "type": "choropleth"
           }
          ],
          "contour": [
           {
            "colorbar": {
             "outlinewidth": 0,
             "ticks": ""
            },
            "colorscale": [
             [
              0,
              "#0d0887"
             ],
             [
              0.1111111111111111,
              "#46039f"
             ],
             [
              0.2222222222222222,
              "#7201a8"
             ],
             [
              0.3333333333333333,
              "#9c179e"
             ],
             [
              0.4444444444444444,
              "#bd3786"
             ],
             [
              0.5555555555555556,
              "#d8576b"
             ],
             [
              0.6666666666666666,
              "#ed7953"
             ],
             [
              0.7777777777777778,
              "#fb9f3a"
             ],
             [
              0.8888888888888888,
              "#fdca26"
             ],
             [
              1,
              "#f0f921"
             ]
            ],
            "type": "contour"
           }
          ],
          "contourcarpet": [
           {
            "colorbar": {
             "outlinewidth": 0,
             "ticks": ""
            },
            "type": "contourcarpet"
           }
          ],
          "heatmap": [
           {
            "colorbar": {
             "outlinewidth": 0,
             "ticks": ""
            },
            "colorscale": [
             [
              0,
              "#0d0887"
             ],
             [
              0.1111111111111111,
              "#46039f"
             ],
             [
              0.2222222222222222,
              "#7201a8"
             ],
             [
              0.3333333333333333,
              "#9c179e"
             ],
             [
              0.4444444444444444,
              "#bd3786"
             ],
             [
              0.5555555555555556,
              "#d8576b"
             ],
             [
              0.6666666666666666,
              "#ed7953"
             ],
             [
              0.7777777777777778,
              "#fb9f3a"
             ],
             [
              0.8888888888888888,
              "#fdca26"
             ],
             [
              1,
              "#f0f921"
             ]
            ],
            "type": "heatmap"
           }
          ],
          "heatmapgl": [
           {
            "colorbar": {
             "outlinewidth": 0,
             "ticks": ""
            },
            "colorscale": [
             [
              0,
              "#0d0887"
             ],
             [
              0.1111111111111111,
              "#46039f"
             ],
             [
              0.2222222222222222,
              "#7201a8"
             ],
             [
              0.3333333333333333,
              "#9c179e"
             ],
             [
              0.4444444444444444,
              "#bd3786"
             ],
             [
              0.5555555555555556,
              "#d8576b"
             ],
             [
              0.6666666666666666,
              "#ed7953"
             ],
             [
              0.7777777777777778,
              "#fb9f3a"
             ],
             [
              0.8888888888888888,
              "#fdca26"
             ],
             [
              1,
              "#f0f921"
             ]
            ],
            "type": "heatmapgl"
           }
          ],
          "histogram": [
           {
            "marker": {
             "pattern": {
              "fillmode": "overlay",
              "size": 10,
              "solidity": 0.2
             }
            },
            "type": "histogram"
           }
          ],
          "histogram2d": [
           {
            "colorbar": {
             "outlinewidth": 0,
             "ticks": ""
            },
            "colorscale": [
             [
              0,
              "#0d0887"
             ],
             [
              0.1111111111111111,
              "#46039f"
             ],
             [
              0.2222222222222222,
              "#7201a8"
             ],
             [
              0.3333333333333333,
              "#9c179e"
             ],
             [
              0.4444444444444444,
              "#bd3786"
             ],
             [
              0.5555555555555556,
              "#d8576b"
             ],
             [
              0.6666666666666666,
              "#ed7953"
             ],
             [
              0.7777777777777778,
              "#fb9f3a"
             ],
             [
              0.8888888888888888,
              "#fdca26"
             ],
             [
              1,
              "#f0f921"
             ]
            ],
            "type": "histogram2d"
           }
          ],
          "histogram2dcontour": [
           {
            "colorbar": {
             "outlinewidth": 0,
             "ticks": ""
            },
            "colorscale": [
             [
              0,
              "#0d0887"
             ],
             [
              0.1111111111111111,
              "#46039f"
             ],
             [
              0.2222222222222222,
              "#7201a8"
             ],
             [
              0.3333333333333333,
              "#9c179e"
             ],
             [
              0.4444444444444444,
              "#bd3786"
             ],
             [
              0.5555555555555556,
              "#d8576b"
             ],
             [
              0.6666666666666666,
              "#ed7953"
             ],
             [
              0.7777777777777778,
              "#fb9f3a"
             ],
             [
              0.8888888888888888,
              "#fdca26"
             ],
             [
              1,
              "#f0f921"
             ]
            ],
            "type": "histogram2dcontour"
           }
          ],
          "mesh3d": [
           {
            "colorbar": {
             "outlinewidth": 0,
             "ticks": ""
            },
            "type": "mesh3d"
           }
          ],
          "parcoords": [
           {
            "line": {
             "colorbar": {
              "outlinewidth": 0,
              "ticks": ""
             }
            },
            "type": "parcoords"
           }
          ],
          "pie": [
           {
            "automargin": true,
            "type": "pie"
           }
          ],
          "scatter": [
           {
            "fillpattern": {
             "fillmode": "overlay",
             "size": 10,
             "solidity": 0.2
            },
            "type": "scatter"
           }
          ],
          "scatter3d": [
           {
            "line": {
             "colorbar": {
              "outlinewidth": 0,
              "ticks": ""
             }
            },
            "marker": {
             "colorbar": {
              "outlinewidth": 0,
              "ticks": ""
             }
            },
            "type": "scatter3d"
           }
          ],
          "scattercarpet": [
           {
            "marker": {
             "colorbar": {
              "outlinewidth": 0,
              "ticks": ""
             }
            },
            "type": "scattercarpet"
           }
          ],
          "scattergeo": [
           {
            "marker": {
             "colorbar": {
              "outlinewidth": 0,
              "ticks": ""
             }
            },
            "type": "scattergeo"
           }
          ],
          "scattergl": [
           {
            "marker": {
             "colorbar": {
              "outlinewidth": 0,
              "ticks": ""
             }
            },
            "type": "scattergl"
           }
          ],
          "scattermapbox": [
           {
            "marker": {
             "colorbar": {
              "outlinewidth": 0,
              "ticks": ""
             }
            },
            "type": "scattermapbox"
           }
          ],
          "scatterpolar": [
           {
            "marker": {
             "colorbar": {
              "outlinewidth": 0,
              "ticks": ""
             }
            },
            "type": "scatterpolar"
           }
          ],
          "scatterpolargl": [
           {
            "marker": {
             "colorbar": {
              "outlinewidth": 0,
              "ticks": ""
             }
            },
            "type": "scatterpolargl"
           }
          ],
          "scatterternary": [
           {
            "marker": {
             "colorbar": {
              "outlinewidth": 0,
              "ticks": ""
             }
            },
            "type": "scatterternary"
           }
          ],
          "surface": [
           {
            "colorbar": {
             "outlinewidth": 0,
             "ticks": ""
            },
            "colorscale": [
             [
              0,
              "#0d0887"
             ],
             [
              0.1111111111111111,
              "#46039f"
             ],
             [
              0.2222222222222222,
              "#7201a8"
             ],
             [
              0.3333333333333333,
              "#9c179e"
             ],
             [
              0.4444444444444444,
              "#bd3786"
             ],
             [
              0.5555555555555556,
              "#d8576b"
             ],
             [
              0.6666666666666666,
              "#ed7953"
             ],
             [
              0.7777777777777778,
              "#fb9f3a"
             ],
             [
              0.8888888888888888,
              "#fdca26"
             ],
             [
              1,
              "#f0f921"
             ]
            ],
            "type": "surface"
           }
          ],
          "table": [
           {
            "cells": {
             "fill": {
              "color": "#EBF0F8"
             },
             "line": {
              "color": "white"
             }
            },
            "header": {
             "fill": {
              "color": "#C8D4E3"
             },
             "line": {
              "color": "white"
             }
            },
            "type": "table"
           }
          ]
         },
         "layout": {
          "annotationdefaults": {
           "arrowcolor": "#2a3f5f",
           "arrowhead": 0,
           "arrowwidth": 1
          },
          "autotypenumbers": "strict",
          "coloraxis": {
           "colorbar": {
            "outlinewidth": 0,
            "ticks": ""
           }
          },
          "colorscale": {
           "diverging": [
            [
             0,
             "#8e0152"
            ],
            [
             0.1,
             "#c51b7d"
            ],
            [
             0.2,
             "#de77ae"
            ],
            [
             0.3,
             "#f1b6da"
            ],
            [
             0.4,
             "#fde0ef"
            ],
            [
             0.5,
             "#f7f7f7"
            ],
            [
             0.6,
             "#e6f5d0"
            ],
            [
             0.7,
             "#b8e186"
            ],
            [
             0.8,
             "#7fbc41"
            ],
            [
             0.9,
             "#4d9221"
            ],
            [
             1,
             "#276419"
            ]
           ],
           "sequential": [
            [
             0,
             "#0d0887"
            ],
            [
             0.1111111111111111,
             "#46039f"
            ],
            [
             0.2222222222222222,
             "#7201a8"
            ],
            [
             0.3333333333333333,
             "#9c179e"
            ],
            [
             0.4444444444444444,
             "#bd3786"
            ],
            [
             0.5555555555555556,
             "#d8576b"
            ],
            [
             0.6666666666666666,
             "#ed7953"
            ],
            [
             0.7777777777777778,
             "#fb9f3a"
            ],
            [
             0.8888888888888888,
             "#fdca26"
            ],
            [
             1,
             "#f0f921"
            ]
           ],
           "sequentialminus": [
            [
             0,
             "#0d0887"
            ],
            [
             0.1111111111111111,
             "#46039f"
            ],
            [
             0.2222222222222222,
             "#7201a8"
            ],
            [
             0.3333333333333333,
             "#9c179e"
            ],
            [
             0.4444444444444444,
             "#bd3786"
            ],
            [
             0.5555555555555556,
             "#d8576b"
            ],
            [
             0.6666666666666666,
             "#ed7953"
            ],
            [
             0.7777777777777778,
             "#fb9f3a"
            ],
            [
             0.8888888888888888,
             "#fdca26"
            ],
            [
             1,
             "#f0f921"
            ]
           ]
          },
          "colorway": [
           "#636efa",
           "#EF553B",
           "#00cc96",
           "#ab63fa",
           "#FFA15A",
           "#19d3f3",
           "#FF6692",
           "#B6E880",
           "#FF97FF",
           "#FECB52"
          ],
          "font": {
           "color": "#2a3f5f"
          },
          "geo": {
           "bgcolor": "white",
           "lakecolor": "white",
           "landcolor": "#E5ECF6",
           "showlakes": true,
           "showland": true,
           "subunitcolor": "white"
          },
          "hoverlabel": {
           "align": "left"
          },
          "hovermode": "closest",
          "mapbox": {
           "style": "light"
          },
          "paper_bgcolor": "white",
          "plot_bgcolor": "#E5ECF6",
          "polar": {
           "angularaxis": {
            "gridcolor": "white",
            "linecolor": "white",
            "ticks": ""
           },
           "bgcolor": "#E5ECF6",
           "radialaxis": {
            "gridcolor": "white",
            "linecolor": "white",
            "ticks": ""
           }
          },
          "scene": {
           "xaxis": {
            "backgroundcolor": "#E5ECF6",
            "gridcolor": "white",
            "gridwidth": 2,
            "linecolor": "white",
            "showbackground": true,
            "ticks": "",
            "zerolinecolor": "white"
           },
           "yaxis": {
            "backgroundcolor": "#E5ECF6",
            "gridcolor": "white",
            "gridwidth": 2,
            "linecolor": "white",
            "showbackground": true,
            "ticks": "",
            "zerolinecolor": "white"
           },
           "zaxis": {
            "backgroundcolor": "#E5ECF6",
            "gridcolor": "white",
            "gridwidth": 2,
            "linecolor": "white",
            "showbackground": true,
            "ticks": "",
            "zerolinecolor": "white"
           }
          },
          "shapedefaults": {
           "line": {
            "color": "#2a3f5f"
           }
          },
          "ternary": {
           "aaxis": {
            "gridcolor": "white",
            "linecolor": "white",
            "ticks": ""
           },
           "baxis": {
            "gridcolor": "white",
            "linecolor": "white",
            "ticks": ""
           },
           "bgcolor": "#E5ECF6",
           "caxis": {
            "gridcolor": "white",
            "linecolor": "white",
            "ticks": ""
           }
          },
          "title": {
           "x": 0.05
          },
          "xaxis": {
           "automargin": true,
           "gridcolor": "white",
           "linecolor": "white",
           "ticks": "",
           "title": {
            "standoff": 15
           },
           "zerolinecolor": "white",
           "zerolinewidth": 2
          },
          "yaxis": {
           "automargin": true,
           "gridcolor": "white",
           "linecolor": "white",
           "ticks": "",
           "title": {
            "standoff": 15
           },
           "zerolinecolor": "white",
           "zerolinewidth": 2
          }
         }
        },
        "title": {
         "text": "Accuracy on training set for different number of modes"
        },
        "xaxis": {
         "anchor": "y",
         "domain": [
          0,
          1
         ],
         "title": {
          "text": "k-values"
         }
        },
        "yaxis": {
         "anchor": "x",
         "domain": [
          0,
          1
         ],
         "title": {
          "text": "Accuracy"
         }
        }
       }
      }
     },
     "metadata": {},
     "output_type": "display_data"
    }
   ],
   "source": [
    "k_values = np.arange(1, 115)\n",
    "accuracies = []\n",
    "\n",
    "for k in k_values:\n",
    "    pca = PCA(n_components = k)\n",
    "    x_train_pca = pca.fit_transform(x_train)\n",
    "\n",
    "    centroid_jump = np.mean(x_train_pca[0:500], axis = 0)\n",
    "    centroid_run = np.mean(x_train_pca[500:1000], axis = 0)\n",
    "    centroid_walk = np.mean(x_train_pca[1000:1500], axis = 0)\n",
    "\n",
    "    trained_labels = []\n",
    "\n",
    "    for sample in x_train_pca:\n",
    "        distance_jump = np.linalg.norm(sample - centroid_jump)\n",
    "        distance_run = np.linalg.norm(sample - centroid_run)\n",
    "        distance_walk = np.linalg.norm(sample - centroid_walk)\n",
    "        assigned_label = np.argmin(np.array([distance_jump, distance_run, distance_walk]))\n",
    "        trained_labels.append(assigned_label)\n",
    "\n",
    "    trained_labels = np.array(trained_labels)\n",
    "\n",
    "    accuracy = accuracy_score(categories, trained_labels)\n",
    "\n",
    "    accuracies.append(accuracy)\n",
    "\n",
    "df = pd.DataFrame({\n",
    "    \"k-values\": k_values,\n",
    "    \"Accuracy\": accuracies\n",
    "})\n",
    "\n",
    "fig = px.scatter(df, x = \"k-values\", y = \"Accuracy\", title = \"Accuracy on training set for different number of modes\")\n",
    "\n",
    "pio.write_image(fig, \"training_accuracy.pdf\")\n",
    "\n",
    "fig.show()"
   ]
  },
  {
   "cell_type": "code",
   "execution_count": 140,
   "metadata": {},
   "outputs": [
    {
     "name": "stdout",
     "output_type": "stream",
     "text": [
      "Accuracy score with 1-modes: 0.5073333333333333\n",
      "Accuracy score with 2-modes: 0.8813333333333333\n",
      "Accuracy score with 3-modes: 0.756\n",
      "Accuracy score with 4-modes: 0.73\n",
      "Accuracy score with 5-modes: 0.7506666666666667\n",
      "Accuracy score with 6-modes: 0.726\n",
      "Accuracy score with 7-modes: 0.8706666666666667\n",
      "Accuracy score with 8-modes: 0.8753333333333333\n",
      "Accuracy score with 9-modes: 0.8786666666666667\n",
      "Accuracy score with 10-modes: 0.888\n",
      "Accuracy score with 11-modes: 0.908\n",
      "Accuracy score with 12-modes: 0.9093333333333333\n",
      "Accuracy score with 13-modes: 0.91\n",
      "Accuracy score with 14-modes: 0.9106666666666666\n",
      "Accuracy score with 15-modes: 0.9106666666666666\n",
      "Accuracy score with 16-modes: 0.9106666666666666\n",
      "Accuracy score with 17-modes: 0.9106666666666666\n",
      "Accuracy score with 18-modes: 0.9106666666666666\n",
      "Accuracy score with 19-modes: 0.9106666666666666\n",
      "Accuracy score with 20-modes: 0.9106666666666666\n"
     ]
    }
   ],
   "source": [
    "for k in range(20):\n",
    "    print(f\"Accuracy score with {k+1}-modes: {accuracies[k]}\")"
   ]
  },
  {
   "cell_type": "code",
   "execution_count": 141,
   "metadata": {},
   "outputs": [
    {
     "name": "stdout",
     "output_type": "stream",
     "text": [
      "(300, 114)\n"
     ]
    }
   ],
   "source": [
    "# Loading and preprocessing test data\n",
    "\n",
    "jumping_test_path = \"/Users/trevorruggeri/Documents/AMATH482/hw2data/test/jumping_1t.npy\"\n",
    "running_test_path = \"/Users/trevorruggeri/Documents/AMATH482/hw2data/test/running_1t.npy\"\n",
    "walking_test_path = \"/Users/trevorruggeri/Documents/AMATH482/hw2data/test/walking_1t.npy\"\n",
    "\n",
    "jump_test = np.load(jumping_test_path)\n",
    "run_test = np.load(running_test_path)\n",
    "walk_test = np.load(walking_test_path)\n",
    "\n",
    "\n",
    "arrays = [jump_test, run_test, walk_test]\n",
    "\n",
    "x_test = np.hstack(arrays)\n",
    "\n",
    "# Change shape\n",
    "x_test = x_test.T\n",
    "mean_test = np.mean(x_test, axis = 0)\n",
    "\n",
    "# Center x_test\n",
    "x_test = x_test - mean_test\n",
    "\n",
    "print(x_test.shape)"
   ]
  },
  {
   "cell_type": "code",
   "execution_count": 166,
   "metadata": {},
   "outputs": [],
   "source": [
    "categories = np.zeros(100)\n",
    "categories = np.append(categories, np.ones(100))\n",
    "categories = np.append(categories, 2 * np.ones(100))"
   ]
  },
  {
   "cell_type": "code",
   "execution_count": 165,
   "metadata": {},
   "outputs": [
    {
     "data": {
      "application/vnd.plotly.v1+json": {
       "config": {
        "plotlyServerURL": "https://plot.ly"
       },
       "data": [
        {
         "hovertemplate": "k-values=%{x}<br>Accuracy=%{y}<extra></extra>",
         "legendgroup": "",
         "marker": {
          "color": "#636efa",
          "symbol": "circle"
         },
         "mode": "markers",
         "name": "",
         "orientation": "v",
         "showlegend": false,
         "type": "scatter",
         "x": [
          1,
          2,
          3,
          4,
          5,
          6,
          7,
          8,
          9,
          10,
          11,
          12,
          13,
          14,
          15,
          16,
          17,
          18,
          19,
          20,
          21,
          22,
          23,
          24,
          25,
          26,
          27,
          28,
          29,
          30,
          31,
          32,
          33,
          34,
          35,
          36,
          37,
          38,
          39,
          40,
          41,
          42,
          43,
          44,
          45,
          46,
          47,
          48,
          49,
          50,
          51,
          52,
          53,
          54,
          55,
          56,
          57,
          58,
          59,
          60,
          61,
          62,
          63,
          64,
          65,
          66,
          67,
          68,
          69,
          70,
          71,
          72,
          73,
          74,
          75,
          76,
          77,
          78,
          79,
          80,
          81,
          82,
          83,
          84,
          85,
          86,
          87,
          88,
          89,
          90,
          91,
          92,
          93,
          94,
          95,
          96,
          97,
          98,
          99,
          100,
          101,
          102,
          103,
          104,
          105,
          106,
          107,
          108,
          109,
          110,
          111,
          112,
          113,
          114
         ],
         "xaxis": "x",
         "y": [
          0.5066666666666667,
          0.9333333333333333,
          1,
          1,
          1,
          1,
          1,
          1,
          1,
          1,
          1,
          1,
          1,
          1,
          1,
          1,
          1,
          1,
          1,
          1,
          1,
          1,
          1,
          1,
          1,
          1,
          1,
          1,
          1,
          1,
          1,
          1,
          1,
          1,
          1,
          1,
          1,
          1,
          1,
          1,
          1,
          1,
          1,
          1,
          1,
          1,
          1,
          1,
          1,
          1,
          1,
          1,
          1,
          1,
          1,
          1,
          1,
          1,
          1,
          1,
          1,
          1,
          1,
          1,
          1,
          1,
          1,
          1,
          1,
          1,
          1,
          1,
          1,
          1,
          1,
          1,
          1,
          1,
          1,
          1,
          1,
          1,
          1,
          1,
          1,
          1,
          1,
          1,
          1,
          1,
          1,
          1,
          1,
          1,
          1,
          1,
          1,
          1,
          1,
          1,
          1,
          1,
          1,
          1,
          1,
          1,
          1,
          1,
          1,
          1,
          1,
          1,
          1,
          1
         ],
         "yaxis": "y"
        }
       ],
       "layout": {
        "legend": {
         "tracegroupgap": 0
        },
        "template": {
         "data": {
          "bar": [
           {
            "error_x": {
             "color": "#2a3f5f"
            },
            "error_y": {
             "color": "#2a3f5f"
            },
            "marker": {
             "line": {
              "color": "#E5ECF6",
              "width": 0.5
             },
             "pattern": {
              "fillmode": "overlay",
              "size": 10,
              "solidity": 0.2
             }
            },
            "type": "bar"
           }
          ],
          "barpolar": [
           {
            "marker": {
             "line": {
              "color": "#E5ECF6",
              "width": 0.5
             },
             "pattern": {
              "fillmode": "overlay",
              "size": 10,
              "solidity": 0.2
             }
            },
            "type": "barpolar"
           }
          ],
          "carpet": [
           {
            "aaxis": {
             "endlinecolor": "#2a3f5f",
             "gridcolor": "white",
             "linecolor": "white",
             "minorgridcolor": "white",
             "startlinecolor": "#2a3f5f"
            },
            "baxis": {
             "endlinecolor": "#2a3f5f",
             "gridcolor": "white",
             "linecolor": "white",
             "minorgridcolor": "white",
             "startlinecolor": "#2a3f5f"
            },
            "type": "carpet"
           }
          ],
          "choropleth": [
           {
            "colorbar": {
             "outlinewidth": 0,
             "ticks": ""
            },
            "type": "choropleth"
           }
          ],
          "contour": [
           {
            "colorbar": {
             "outlinewidth": 0,
             "ticks": ""
            },
            "colorscale": [
             [
              0,
              "#0d0887"
             ],
             [
              0.1111111111111111,
              "#46039f"
             ],
             [
              0.2222222222222222,
              "#7201a8"
             ],
             [
              0.3333333333333333,
              "#9c179e"
             ],
             [
              0.4444444444444444,
              "#bd3786"
             ],
             [
              0.5555555555555556,
              "#d8576b"
             ],
             [
              0.6666666666666666,
              "#ed7953"
             ],
             [
              0.7777777777777778,
              "#fb9f3a"
             ],
             [
              0.8888888888888888,
              "#fdca26"
             ],
             [
              1,
              "#f0f921"
             ]
            ],
            "type": "contour"
           }
          ],
          "contourcarpet": [
           {
            "colorbar": {
             "outlinewidth": 0,
             "ticks": ""
            },
            "type": "contourcarpet"
           }
          ],
          "heatmap": [
           {
            "colorbar": {
             "outlinewidth": 0,
             "ticks": ""
            },
            "colorscale": [
             [
              0,
              "#0d0887"
             ],
             [
              0.1111111111111111,
              "#46039f"
             ],
             [
              0.2222222222222222,
              "#7201a8"
             ],
             [
              0.3333333333333333,
              "#9c179e"
             ],
             [
              0.4444444444444444,
              "#bd3786"
             ],
             [
              0.5555555555555556,
              "#d8576b"
             ],
             [
              0.6666666666666666,
              "#ed7953"
             ],
             [
              0.7777777777777778,
              "#fb9f3a"
             ],
             [
              0.8888888888888888,
              "#fdca26"
             ],
             [
              1,
              "#f0f921"
             ]
            ],
            "type": "heatmap"
           }
          ],
          "heatmapgl": [
           {
            "colorbar": {
             "outlinewidth": 0,
             "ticks": ""
            },
            "colorscale": [
             [
              0,
              "#0d0887"
             ],
             [
              0.1111111111111111,
              "#46039f"
             ],
             [
              0.2222222222222222,
              "#7201a8"
             ],
             [
              0.3333333333333333,
              "#9c179e"
             ],
             [
              0.4444444444444444,
              "#bd3786"
             ],
             [
              0.5555555555555556,
              "#d8576b"
             ],
             [
              0.6666666666666666,
              "#ed7953"
             ],
             [
              0.7777777777777778,
              "#fb9f3a"
             ],
             [
              0.8888888888888888,
              "#fdca26"
             ],
             [
              1,
              "#f0f921"
             ]
            ],
            "type": "heatmapgl"
           }
          ],
          "histogram": [
           {
            "marker": {
             "pattern": {
              "fillmode": "overlay",
              "size": 10,
              "solidity": 0.2
             }
            },
            "type": "histogram"
           }
          ],
          "histogram2d": [
           {
            "colorbar": {
             "outlinewidth": 0,
             "ticks": ""
            },
            "colorscale": [
             [
              0,
              "#0d0887"
             ],
             [
              0.1111111111111111,
              "#46039f"
             ],
             [
              0.2222222222222222,
              "#7201a8"
             ],
             [
              0.3333333333333333,
              "#9c179e"
             ],
             [
              0.4444444444444444,
              "#bd3786"
             ],
             [
              0.5555555555555556,
              "#d8576b"
             ],
             [
              0.6666666666666666,
              "#ed7953"
             ],
             [
              0.7777777777777778,
              "#fb9f3a"
             ],
             [
              0.8888888888888888,
              "#fdca26"
             ],
             [
              1,
              "#f0f921"
             ]
            ],
            "type": "histogram2d"
           }
          ],
          "histogram2dcontour": [
           {
            "colorbar": {
             "outlinewidth": 0,
             "ticks": ""
            },
            "colorscale": [
             [
              0,
              "#0d0887"
             ],
             [
              0.1111111111111111,
              "#46039f"
             ],
             [
              0.2222222222222222,
              "#7201a8"
             ],
             [
              0.3333333333333333,
              "#9c179e"
             ],
             [
              0.4444444444444444,
              "#bd3786"
             ],
             [
              0.5555555555555556,
              "#d8576b"
             ],
             [
              0.6666666666666666,
              "#ed7953"
             ],
             [
              0.7777777777777778,
              "#fb9f3a"
             ],
             [
              0.8888888888888888,
              "#fdca26"
             ],
             [
              1,
              "#f0f921"
             ]
            ],
            "type": "histogram2dcontour"
           }
          ],
          "mesh3d": [
           {
            "colorbar": {
             "outlinewidth": 0,
             "ticks": ""
            },
            "type": "mesh3d"
           }
          ],
          "parcoords": [
           {
            "line": {
             "colorbar": {
              "outlinewidth": 0,
              "ticks": ""
             }
            },
            "type": "parcoords"
           }
          ],
          "pie": [
           {
            "automargin": true,
            "type": "pie"
           }
          ],
          "scatter": [
           {
            "fillpattern": {
             "fillmode": "overlay",
             "size": 10,
             "solidity": 0.2
            },
            "type": "scatter"
           }
          ],
          "scatter3d": [
           {
            "line": {
             "colorbar": {
              "outlinewidth": 0,
              "ticks": ""
             }
            },
            "marker": {
             "colorbar": {
              "outlinewidth": 0,
              "ticks": ""
             }
            },
            "type": "scatter3d"
           }
          ],
          "scattercarpet": [
           {
            "marker": {
             "colorbar": {
              "outlinewidth": 0,
              "ticks": ""
             }
            },
            "type": "scattercarpet"
           }
          ],
          "scattergeo": [
           {
            "marker": {
             "colorbar": {
              "outlinewidth": 0,
              "ticks": ""
             }
            },
            "type": "scattergeo"
           }
          ],
          "scattergl": [
           {
            "marker": {
             "colorbar": {
              "outlinewidth": 0,
              "ticks": ""
             }
            },
            "type": "scattergl"
           }
          ],
          "scattermapbox": [
           {
            "marker": {
             "colorbar": {
              "outlinewidth": 0,
              "ticks": ""
             }
            },
            "type": "scattermapbox"
           }
          ],
          "scatterpolar": [
           {
            "marker": {
             "colorbar": {
              "outlinewidth": 0,
              "ticks": ""
             }
            },
            "type": "scatterpolar"
           }
          ],
          "scatterpolargl": [
           {
            "marker": {
             "colorbar": {
              "outlinewidth": 0,
              "ticks": ""
             }
            },
            "type": "scatterpolargl"
           }
          ],
          "scatterternary": [
           {
            "marker": {
             "colorbar": {
              "outlinewidth": 0,
              "ticks": ""
             }
            },
            "type": "scatterternary"
           }
          ],
          "surface": [
           {
            "colorbar": {
             "outlinewidth": 0,
             "ticks": ""
            },
            "colorscale": [
             [
              0,
              "#0d0887"
             ],
             [
              0.1111111111111111,
              "#46039f"
             ],
             [
              0.2222222222222222,
              "#7201a8"
             ],
             [
              0.3333333333333333,
              "#9c179e"
             ],
             [
              0.4444444444444444,
              "#bd3786"
             ],
             [
              0.5555555555555556,
              "#d8576b"
             ],
             [
              0.6666666666666666,
              "#ed7953"
             ],
             [
              0.7777777777777778,
              "#fb9f3a"
             ],
             [
              0.8888888888888888,
              "#fdca26"
             ],
             [
              1,
              "#f0f921"
             ]
            ],
            "type": "surface"
           }
          ],
          "table": [
           {
            "cells": {
             "fill": {
              "color": "#EBF0F8"
             },
             "line": {
              "color": "white"
             }
            },
            "header": {
             "fill": {
              "color": "#C8D4E3"
             },
             "line": {
              "color": "white"
             }
            },
            "type": "table"
           }
          ]
         },
         "layout": {
          "annotationdefaults": {
           "arrowcolor": "#2a3f5f",
           "arrowhead": 0,
           "arrowwidth": 1
          },
          "autotypenumbers": "strict",
          "coloraxis": {
           "colorbar": {
            "outlinewidth": 0,
            "ticks": ""
           }
          },
          "colorscale": {
           "diverging": [
            [
             0,
             "#8e0152"
            ],
            [
             0.1,
             "#c51b7d"
            ],
            [
             0.2,
             "#de77ae"
            ],
            [
             0.3,
             "#f1b6da"
            ],
            [
             0.4,
             "#fde0ef"
            ],
            [
             0.5,
             "#f7f7f7"
            ],
            [
             0.6,
             "#e6f5d0"
            ],
            [
             0.7,
             "#b8e186"
            ],
            [
             0.8,
             "#7fbc41"
            ],
            [
             0.9,
             "#4d9221"
            ],
            [
             1,
             "#276419"
            ]
           ],
           "sequential": [
            [
             0,
             "#0d0887"
            ],
            [
             0.1111111111111111,
             "#46039f"
            ],
            [
             0.2222222222222222,
             "#7201a8"
            ],
            [
             0.3333333333333333,
             "#9c179e"
            ],
            [
             0.4444444444444444,
             "#bd3786"
            ],
            [
             0.5555555555555556,
             "#d8576b"
            ],
            [
             0.6666666666666666,
             "#ed7953"
            ],
            [
             0.7777777777777778,
             "#fb9f3a"
            ],
            [
             0.8888888888888888,
             "#fdca26"
            ],
            [
             1,
             "#f0f921"
            ]
           ],
           "sequentialminus": [
            [
             0,
             "#0d0887"
            ],
            [
             0.1111111111111111,
             "#46039f"
            ],
            [
             0.2222222222222222,
             "#7201a8"
            ],
            [
             0.3333333333333333,
             "#9c179e"
            ],
            [
             0.4444444444444444,
             "#bd3786"
            ],
            [
             0.5555555555555556,
             "#d8576b"
            ],
            [
             0.6666666666666666,
             "#ed7953"
            ],
            [
             0.7777777777777778,
             "#fb9f3a"
            ],
            [
             0.8888888888888888,
             "#fdca26"
            ],
            [
             1,
             "#f0f921"
            ]
           ]
          },
          "colorway": [
           "#636efa",
           "#EF553B",
           "#00cc96",
           "#ab63fa",
           "#FFA15A",
           "#19d3f3",
           "#FF6692",
           "#B6E880",
           "#FF97FF",
           "#FECB52"
          ],
          "font": {
           "color": "#2a3f5f"
          },
          "geo": {
           "bgcolor": "white",
           "lakecolor": "white",
           "landcolor": "#E5ECF6",
           "showlakes": true,
           "showland": true,
           "subunitcolor": "white"
          },
          "hoverlabel": {
           "align": "left"
          },
          "hovermode": "closest",
          "mapbox": {
           "style": "light"
          },
          "paper_bgcolor": "white",
          "plot_bgcolor": "#E5ECF6",
          "polar": {
           "angularaxis": {
            "gridcolor": "white",
            "linecolor": "white",
            "ticks": ""
           },
           "bgcolor": "#E5ECF6",
           "radialaxis": {
            "gridcolor": "white",
            "linecolor": "white",
            "ticks": ""
           }
          },
          "scene": {
           "xaxis": {
            "backgroundcolor": "#E5ECF6",
            "gridcolor": "white",
            "gridwidth": 2,
            "linecolor": "white",
            "showbackground": true,
            "ticks": "",
            "zerolinecolor": "white"
           },
           "yaxis": {
            "backgroundcolor": "#E5ECF6",
            "gridcolor": "white",
            "gridwidth": 2,
            "linecolor": "white",
            "showbackground": true,
            "ticks": "",
            "zerolinecolor": "white"
           },
           "zaxis": {
            "backgroundcolor": "#E5ECF6",
            "gridcolor": "white",
            "gridwidth": 2,
            "linecolor": "white",
            "showbackground": true,
            "ticks": "",
            "zerolinecolor": "white"
           }
          },
          "shapedefaults": {
           "line": {
            "color": "#2a3f5f"
           }
          },
          "ternary": {
           "aaxis": {
            "gridcolor": "white",
            "linecolor": "white",
            "ticks": ""
           },
           "baxis": {
            "gridcolor": "white",
            "linecolor": "white",
            "ticks": ""
           },
           "bgcolor": "#E5ECF6",
           "caxis": {
            "gridcolor": "white",
            "linecolor": "white",
            "ticks": ""
           }
          },
          "title": {
           "x": 0.05
          },
          "xaxis": {
           "automargin": true,
           "gridcolor": "white",
           "linecolor": "white",
           "ticks": "",
           "title": {
            "standoff": 15
           },
           "zerolinecolor": "white",
           "zerolinewidth": 2
          },
          "yaxis": {
           "automargin": true,
           "gridcolor": "white",
           "linecolor": "white",
           "ticks": "",
           "title": {
            "standoff": 15
           },
           "zerolinecolor": "white",
           "zerolinewidth": 2
          }
         }
        },
        "title": {
         "text": "Accuracy on test set for different number of modes"
        },
        "xaxis": {
         "anchor": "y",
         "domain": [
          0,
          1
         ],
         "title": {
          "text": "k-values"
         }
        },
        "yaxis": {
         "anchor": "x",
         "domain": [
          0,
          1
         ],
         "title": {
          "text": "Accuracy"
         }
        }
       }
      }
     },
     "metadata": {},
     "output_type": "display_data"
    }
   ],
   "source": [
    "k_values = np.arange(1, 115)\n",
    "accuracies = []\n",
    "\n",
    "for k in k_values:\n",
    "    pca = PCA(n_components = k)\n",
    "    x_test_pca = pca.fit_transform(x_test)\n",
    "\n",
    "    centroid_jump = np.mean(x_test_pca[0:100], axis = 0)\n",
    "    centroid_run = np.mean(x_test_pca[100:200], axis = 0)\n",
    "    centroid_walk = np.mean(x_test_pca[200:300], axis = 0)\n",
    "\n",
    "    trained_labels = []\n",
    "\n",
    "    for sample in x_test_pca:\n",
    "        distance_jump = np.linalg.norm(sample - centroid_jump)\n",
    "        distance_run = np.linalg.norm(sample - centroid_run)\n",
    "        distance_walk = np.linalg.norm(sample - centroid_walk)\n",
    "        assigned_label = np.argmin(np.array([distance_jump, distance_run, distance_walk]))\n",
    "        trained_labels.append(assigned_label)\n",
    "\n",
    "    trained_labels = np.array(trained_labels)\n",
    "\n",
    "    accuracy = accuracy_score(categories, trained_labels)\n",
    "\n",
    "    accuracies.append(accuracy)\n",
    "\n",
    "df = pd.DataFrame({\n",
    "    \"k-values\": k_values,\n",
    "    \"Accuracy\": accuracies\n",
    "})\n",
    "\n",
    "fig = px.scatter(df, x = \"k-values\", y = \"Accuracy\", title = \"Accuracy on test set for different number of modes\")\n",
    "\n",
    "pio.write_image(fig, \"test_accuracy.pdf\")\n",
    "\n",
    "fig.show()"
   ]
  },
  {
   "cell_type": "code",
   "execution_count": 148,
   "metadata": {},
   "outputs": [
    {
     "name": "stdout",
     "output_type": "stream",
     "text": [
      "Accuracy score with 1-modes: 0.5066666666666667\n",
      "Accuracy score with 2-modes: 0.9333333333333333\n",
      "Accuracy score with 3-modes: 1.0\n",
      "Accuracy score with 4-modes: 1.0\n",
      "Accuracy score with 5-modes: 1.0\n",
      "Accuracy score with 6-modes: 1.0\n",
      "Accuracy score with 7-modes: 1.0\n",
      "Accuracy score with 8-modes: 1.0\n",
      "Accuracy score with 9-modes: 1.0\n",
      "Accuracy score with 10-modes: 1.0\n",
      "Accuracy score with 11-modes: 1.0\n",
      "Accuracy score with 12-modes: 1.0\n",
      "Accuracy score with 13-modes: 1.0\n",
      "Accuracy score with 14-modes: 1.0\n",
      "Accuracy score with 15-modes: 1.0\n",
      "Accuracy score with 16-modes: 1.0\n",
      "Accuracy score with 17-modes: 1.0\n",
      "Accuracy score with 18-modes: 1.0\n",
      "Accuracy score with 19-modes: 1.0\n",
      "Accuracy score with 20-modes: 1.0\n"
     ]
    }
   ],
   "source": [
    "for k in range(20):\n",
    "    print(f\"Accuracy score with {k+1}-modes: {accuracies[k]}\")"
   ]
  },
  {
   "cell_type": "code",
   "execution_count": 168,
   "metadata": {},
   "outputs": [],
   "source": [
    "from sklearn.linear_model import LogisticRegression\n",
    "from sklearn.model_selection import train_test_split"
   ]
  },
  {
   "cell_type": "code",
   "execution_count": 211,
   "metadata": {},
   "outputs": [],
   "source": [
    "categories = np.zeros(500)\n",
    "categories = np.append(categories, np.ones(500))\n",
    "categories = np.append(categories, 2 * np.ones(500))"
   ]
  },
  {
   "cell_type": "code",
   "execution_count": 213,
   "metadata": {},
   "outputs": [
    {
     "name": "stdout",
     "output_type": "stream",
     "text": [
      "Accuracy for k=1: 0.16\n",
      "Accuracy for k=2: 0.9033333333333333\n",
      "Accuracy for k=3: 0.8933333333333333\n",
      "Accuracy for k=4: 0.9033333333333333\n",
      "Accuracy for k=5: 0.9333333333333333\n",
      "Accuracy for k=6: 0.9533333333333334\n",
      "Accuracy for k=7: 1.0\n",
      "Accuracy for k=8: 1.0\n",
      "Accuracy for k=9: 1.0\n",
      "Accuracy for k=10: 1.0\n",
      "Accuracy for k=11: 1.0\n",
      "Accuracy for k=12: 1.0\n",
      "Accuracy for k=13: 1.0\n",
      "Accuracy for k=14: 1.0\n",
      "Accuracy for k=15: 1.0\n",
      "Accuracy for k=16: 1.0\n",
      "Accuracy for k=17: 1.0\n",
      "Accuracy for k=18: 1.0\n",
      "Accuracy for k=19: 1.0\n",
      "Accuracy for k=20: 1.0\n"
     ]
    },
    {
     "data": {
      "application/vnd.plotly.v1+json": {
       "config": {
        "plotlyServerURL": "https://plot.ly"
       },
       "data": [
        {
         "hovertemplate": "k-value=%{x}<br>Accuracy=%{y}<extra></extra>",
         "legendgroup": "",
         "marker": {
          "color": "#636efa",
          "symbol": "circle"
         },
         "mode": "markers",
         "name": "",
         "orientation": "v",
         "showlegend": false,
         "type": "scatter",
         "x": [
          1,
          2,
          3,
          4,
          5,
          6,
          7,
          8,
          9,
          10,
          11,
          12,
          13,
          14,
          15,
          16,
          17,
          18,
          19,
          20
         ],
         "xaxis": "x",
         "y": [
          0.16,
          0.9033333333333333,
          0.8933333333333333,
          0.9033333333333333,
          0.9333333333333333,
          0.9533333333333334,
          1,
          1,
          1,
          1,
          1,
          1,
          1,
          1,
          1,
          1,
          1,
          1,
          1,
          1
         ],
         "yaxis": "y"
        }
       ],
       "layout": {
        "legend": {
         "tracegroupgap": 0
        },
        "template": {
         "data": {
          "bar": [
           {
            "error_x": {
             "color": "#2a3f5f"
            },
            "error_y": {
             "color": "#2a3f5f"
            },
            "marker": {
             "line": {
              "color": "#E5ECF6",
              "width": 0.5
             },
             "pattern": {
              "fillmode": "overlay",
              "size": 10,
              "solidity": 0.2
             }
            },
            "type": "bar"
           }
          ],
          "barpolar": [
           {
            "marker": {
             "line": {
              "color": "#E5ECF6",
              "width": 0.5
             },
             "pattern": {
              "fillmode": "overlay",
              "size": 10,
              "solidity": 0.2
             }
            },
            "type": "barpolar"
           }
          ],
          "carpet": [
           {
            "aaxis": {
             "endlinecolor": "#2a3f5f",
             "gridcolor": "white",
             "linecolor": "white",
             "minorgridcolor": "white",
             "startlinecolor": "#2a3f5f"
            },
            "baxis": {
             "endlinecolor": "#2a3f5f",
             "gridcolor": "white",
             "linecolor": "white",
             "minorgridcolor": "white",
             "startlinecolor": "#2a3f5f"
            },
            "type": "carpet"
           }
          ],
          "choropleth": [
           {
            "colorbar": {
             "outlinewidth": 0,
             "ticks": ""
            },
            "type": "choropleth"
           }
          ],
          "contour": [
           {
            "colorbar": {
             "outlinewidth": 0,
             "ticks": ""
            },
            "colorscale": [
             [
              0,
              "#0d0887"
             ],
             [
              0.1111111111111111,
              "#46039f"
             ],
             [
              0.2222222222222222,
              "#7201a8"
             ],
             [
              0.3333333333333333,
              "#9c179e"
             ],
             [
              0.4444444444444444,
              "#bd3786"
             ],
             [
              0.5555555555555556,
              "#d8576b"
             ],
             [
              0.6666666666666666,
              "#ed7953"
             ],
             [
              0.7777777777777778,
              "#fb9f3a"
             ],
             [
              0.8888888888888888,
              "#fdca26"
             ],
             [
              1,
              "#f0f921"
             ]
            ],
            "type": "contour"
           }
          ],
          "contourcarpet": [
           {
            "colorbar": {
             "outlinewidth": 0,
             "ticks": ""
            },
            "type": "contourcarpet"
           }
          ],
          "heatmap": [
           {
            "colorbar": {
             "outlinewidth": 0,
             "ticks": ""
            },
            "colorscale": [
             [
              0,
              "#0d0887"
             ],
             [
              0.1111111111111111,
              "#46039f"
             ],
             [
              0.2222222222222222,
              "#7201a8"
             ],
             [
              0.3333333333333333,
              "#9c179e"
             ],
             [
              0.4444444444444444,
              "#bd3786"
             ],
             [
              0.5555555555555556,
              "#d8576b"
             ],
             [
              0.6666666666666666,
              "#ed7953"
             ],
             [
              0.7777777777777778,
              "#fb9f3a"
             ],
             [
              0.8888888888888888,
              "#fdca26"
             ],
             [
              1,
              "#f0f921"
             ]
            ],
            "type": "heatmap"
           }
          ],
          "heatmapgl": [
           {
            "colorbar": {
             "outlinewidth": 0,
             "ticks": ""
            },
            "colorscale": [
             [
              0,
              "#0d0887"
             ],
             [
              0.1111111111111111,
              "#46039f"
             ],
             [
              0.2222222222222222,
              "#7201a8"
             ],
             [
              0.3333333333333333,
              "#9c179e"
             ],
             [
              0.4444444444444444,
              "#bd3786"
             ],
             [
              0.5555555555555556,
              "#d8576b"
             ],
             [
              0.6666666666666666,
              "#ed7953"
             ],
             [
              0.7777777777777778,
              "#fb9f3a"
             ],
             [
              0.8888888888888888,
              "#fdca26"
             ],
             [
              1,
              "#f0f921"
             ]
            ],
            "type": "heatmapgl"
           }
          ],
          "histogram": [
           {
            "marker": {
             "pattern": {
              "fillmode": "overlay",
              "size": 10,
              "solidity": 0.2
             }
            },
            "type": "histogram"
           }
          ],
          "histogram2d": [
           {
            "colorbar": {
             "outlinewidth": 0,
             "ticks": ""
            },
            "colorscale": [
             [
              0,
              "#0d0887"
             ],
             [
              0.1111111111111111,
              "#46039f"
             ],
             [
              0.2222222222222222,
              "#7201a8"
             ],
             [
              0.3333333333333333,
              "#9c179e"
             ],
             [
              0.4444444444444444,
              "#bd3786"
             ],
             [
              0.5555555555555556,
              "#d8576b"
             ],
             [
              0.6666666666666666,
              "#ed7953"
             ],
             [
              0.7777777777777778,
              "#fb9f3a"
             ],
             [
              0.8888888888888888,
              "#fdca26"
             ],
             [
              1,
              "#f0f921"
             ]
            ],
            "type": "histogram2d"
           }
          ],
          "histogram2dcontour": [
           {
            "colorbar": {
             "outlinewidth": 0,
             "ticks": ""
            },
            "colorscale": [
             [
              0,
              "#0d0887"
             ],
             [
              0.1111111111111111,
              "#46039f"
             ],
             [
              0.2222222222222222,
              "#7201a8"
             ],
             [
              0.3333333333333333,
              "#9c179e"
             ],
             [
              0.4444444444444444,
              "#bd3786"
             ],
             [
              0.5555555555555556,
              "#d8576b"
             ],
             [
              0.6666666666666666,
              "#ed7953"
             ],
             [
              0.7777777777777778,
              "#fb9f3a"
             ],
             [
              0.8888888888888888,
              "#fdca26"
             ],
             [
              1,
              "#f0f921"
             ]
            ],
            "type": "histogram2dcontour"
           }
          ],
          "mesh3d": [
           {
            "colorbar": {
             "outlinewidth": 0,
             "ticks": ""
            },
            "type": "mesh3d"
           }
          ],
          "parcoords": [
           {
            "line": {
             "colorbar": {
              "outlinewidth": 0,
              "ticks": ""
             }
            },
            "type": "parcoords"
           }
          ],
          "pie": [
           {
            "automargin": true,
            "type": "pie"
           }
          ],
          "scatter": [
           {
            "fillpattern": {
             "fillmode": "overlay",
             "size": 10,
             "solidity": 0.2
            },
            "type": "scatter"
           }
          ],
          "scatter3d": [
           {
            "line": {
             "colorbar": {
              "outlinewidth": 0,
              "ticks": ""
             }
            },
            "marker": {
             "colorbar": {
              "outlinewidth": 0,
              "ticks": ""
             }
            },
            "type": "scatter3d"
           }
          ],
          "scattercarpet": [
           {
            "marker": {
             "colorbar": {
              "outlinewidth": 0,
              "ticks": ""
             }
            },
            "type": "scattercarpet"
           }
          ],
          "scattergeo": [
           {
            "marker": {
             "colorbar": {
              "outlinewidth": 0,
              "ticks": ""
             }
            },
            "type": "scattergeo"
           }
          ],
          "scattergl": [
           {
            "marker": {
             "colorbar": {
              "outlinewidth": 0,
              "ticks": ""
             }
            },
            "type": "scattergl"
           }
          ],
          "scattermapbox": [
           {
            "marker": {
             "colorbar": {
              "outlinewidth": 0,
              "ticks": ""
             }
            },
            "type": "scattermapbox"
           }
          ],
          "scatterpolar": [
           {
            "marker": {
             "colorbar": {
              "outlinewidth": 0,
              "ticks": ""
             }
            },
            "type": "scatterpolar"
           }
          ],
          "scatterpolargl": [
           {
            "marker": {
             "colorbar": {
              "outlinewidth": 0,
              "ticks": ""
             }
            },
            "type": "scatterpolargl"
           }
          ],
          "scatterternary": [
           {
            "marker": {
             "colorbar": {
              "outlinewidth": 0,
              "ticks": ""
             }
            },
            "type": "scatterternary"
           }
          ],
          "surface": [
           {
            "colorbar": {
             "outlinewidth": 0,
             "ticks": ""
            },
            "colorscale": [
             [
              0,
              "#0d0887"
             ],
             [
              0.1111111111111111,
              "#46039f"
             ],
             [
              0.2222222222222222,
              "#7201a8"
             ],
             [
              0.3333333333333333,
              "#9c179e"
             ],
             [
              0.4444444444444444,
              "#bd3786"
             ],
             [
              0.5555555555555556,
              "#d8576b"
             ],
             [
              0.6666666666666666,
              "#ed7953"
             ],
             [
              0.7777777777777778,
              "#fb9f3a"
             ],
             [
              0.8888888888888888,
              "#fdca26"
             ],
             [
              1,
              "#f0f921"
             ]
            ],
            "type": "surface"
           }
          ],
          "table": [
           {
            "cells": {
             "fill": {
              "color": "#EBF0F8"
             },
             "line": {
              "color": "white"
             }
            },
            "header": {
             "fill": {
              "color": "#C8D4E3"
             },
             "line": {
              "color": "white"
             }
            },
            "type": "table"
           }
          ]
         },
         "layout": {
          "annotationdefaults": {
           "arrowcolor": "#2a3f5f",
           "arrowhead": 0,
           "arrowwidth": 1
          },
          "autotypenumbers": "strict",
          "coloraxis": {
           "colorbar": {
            "outlinewidth": 0,
            "ticks": ""
           }
          },
          "colorscale": {
           "diverging": [
            [
             0,
             "#8e0152"
            ],
            [
             0.1,
             "#c51b7d"
            ],
            [
             0.2,
             "#de77ae"
            ],
            [
             0.3,
             "#f1b6da"
            ],
            [
             0.4,
             "#fde0ef"
            ],
            [
             0.5,
             "#f7f7f7"
            ],
            [
             0.6,
             "#e6f5d0"
            ],
            [
             0.7,
             "#b8e186"
            ],
            [
             0.8,
             "#7fbc41"
            ],
            [
             0.9,
             "#4d9221"
            ],
            [
             1,
             "#276419"
            ]
           ],
           "sequential": [
            [
             0,
             "#0d0887"
            ],
            [
             0.1111111111111111,
             "#46039f"
            ],
            [
             0.2222222222222222,
             "#7201a8"
            ],
            [
             0.3333333333333333,
             "#9c179e"
            ],
            [
             0.4444444444444444,
             "#bd3786"
            ],
            [
             0.5555555555555556,
             "#d8576b"
            ],
            [
             0.6666666666666666,
             "#ed7953"
            ],
            [
             0.7777777777777778,
             "#fb9f3a"
            ],
            [
             0.8888888888888888,
             "#fdca26"
            ],
            [
             1,
             "#f0f921"
            ]
           ],
           "sequentialminus": [
            [
             0,
             "#0d0887"
            ],
            [
             0.1111111111111111,
             "#46039f"
            ],
            [
             0.2222222222222222,
             "#7201a8"
            ],
            [
             0.3333333333333333,
             "#9c179e"
            ],
            [
             0.4444444444444444,
             "#bd3786"
            ],
            [
             0.5555555555555556,
             "#d8576b"
            ],
            [
             0.6666666666666666,
             "#ed7953"
            ],
            [
             0.7777777777777778,
             "#fb9f3a"
            ],
            [
             0.8888888888888888,
             "#fdca26"
            ],
            [
             1,
             "#f0f921"
            ]
           ]
          },
          "colorway": [
           "#636efa",
           "#EF553B",
           "#00cc96",
           "#ab63fa",
           "#FFA15A",
           "#19d3f3",
           "#FF6692",
           "#B6E880",
           "#FF97FF",
           "#FECB52"
          ],
          "font": {
           "color": "#2a3f5f"
          },
          "geo": {
           "bgcolor": "white",
           "lakecolor": "white",
           "landcolor": "#E5ECF6",
           "showlakes": true,
           "showland": true,
           "subunitcolor": "white"
          },
          "hoverlabel": {
           "align": "left"
          },
          "hovermode": "closest",
          "mapbox": {
           "style": "light"
          },
          "paper_bgcolor": "white",
          "plot_bgcolor": "#E5ECF6",
          "polar": {
           "angularaxis": {
            "gridcolor": "white",
            "linecolor": "white",
            "ticks": ""
           },
           "bgcolor": "#E5ECF6",
           "radialaxis": {
            "gridcolor": "white",
            "linecolor": "white",
            "ticks": ""
           }
          },
          "scene": {
           "xaxis": {
            "backgroundcolor": "#E5ECF6",
            "gridcolor": "white",
            "gridwidth": 2,
            "linecolor": "white",
            "showbackground": true,
            "ticks": "",
            "zerolinecolor": "white"
           },
           "yaxis": {
            "backgroundcolor": "#E5ECF6",
            "gridcolor": "white",
            "gridwidth": 2,
            "linecolor": "white",
            "showbackground": true,
            "ticks": "",
            "zerolinecolor": "white"
           },
           "zaxis": {
            "backgroundcolor": "#E5ECF6",
            "gridcolor": "white",
            "gridwidth": 2,
            "linecolor": "white",
            "showbackground": true,
            "ticks": "",
            "zerolinecolor": "white"
           }
          },
          "shapedefaults": {
           "line": {
            "color": "#2a3f5f"
           }
          },
          "ternary": {
           "aaxis": {
            "gridcolor": "white",
            "linecolor": "white",
            "ticks": ""
           },
           "baxis": {
            "gridcolor": "white",
            "linecolor": "white",
            "ticks": ""
           },
           "bgcolor": "#E5ECF6",
           "caxis": {
            "gridcolor": "white",
            "linecolor": "white",
            "ticks": ""
           }
          },
          "title": {
           "x": 0.05
          },
          "xaxis": {
           "automargin": true,
           "gridcolor": "white",
           "linecolor": "white",
           "ticks": "",
           "title": {
            "standoff": 15
           },
           "zerolinecolor": "white",
           "zerolinewidth": 2
          },
          "yaxis": {
           "automargin": true,
           "gridcolor": "white",
           "linecolor": "white",
           "ticks": "",
           "title": {
            "standoff": 15
           },
           "zerolinecolor": "white",
           "zerolinewidth": 2
          }
         }
        },
        "title": {
         "text": "Accuracy of Logistic Regression Classifier in k-mode PCA space"
        },
        "xaxis": {
         "anchor": "y",
         "domain": [
          0,
          1
         ],
         "title": {
          "text": "k-value"
         }
        },
        "yaxis": {
         "anchor": "x",
         "domain": [
          0,
          1
         ],
         "title": {
          "text": "Accuracy"
         }
        }
       }
      }
     },
     "metadata": {},
     "output_type": "display_data"
    }
   ],
   "source": [
    "k_values = np.arange(1, 21)\n",
    "accuracy_results = []\n",
    "\n",
    "for k in k_values:\n",
    "    pca = PCA(n_components=k)\n",
    "    x_pca = pca.fit_transform(x_train)\n",
    "\n",
    "    X_train, X_test, y_train, y_test = train_test_split(x_pca, categories, test_size=0.2, random_state=42)\n",
    "\n",
    "    model = LogisticRegression(max_iter=10000)\n",
    "    model.fit(X_train, y_train)\n",
    "\n",
    "    y_pred = model.predict(X_test)\n",
    "    accuracy = accuracy_score(y_test, y_pred)\n",
    "    accuracy_results.append(accuracy)\n",
    "\n",
    "    print(f'Accuracy for k={k}: {accuracy_results[k-1]}')\n",
    "\n",
    "df = pd.DataFrame({\n",
    "    \"k-value\": k_values,\n",
    "    \"Accuracy\": accuracy_results\n",
    "})\n",
    "\n",
    "fig = px.scatter(df, x = \"k-value\", y = \"Accuracy\", title = \"Accuracy of Logistic Regression Classifier in k-mode PCA space\")\n",
    "\n",
    "pio.write_image(fig, \"log_reg_train.pdf\")\n",
    "\n",
    "fig.show()"
   ]
  },
  {
   "cell_type": "code",
   "execution_count": 184,
   "metadata": {},
   "outputs": [],
   "source": [
    "categories = np.zeros(500)\n",
    "categories = np.append(categories, np.ones(500))\n",
    "categories = np.append(categories, 2 * np.ones(500))"
   ]
  },
  {
   "cell_type": "code",
   "execution_count": 214,
   "metadata": {},
   "outputs": [
    {
     "data": {
      "text/html": [
       "<style>#sk-container-id-12 {color: black;}#sk-container-id-12 pre{padding: 0;}#sk-container-id-12 div.sk-toggleable {background-color: white;}#sk-container-id-12 label.sk-toggleable__label {cursor: pointer;display: block;width: 100%;margin-bottom: 0;padding: 0.3em;box-sizing: border-box;text-align: center;}#sk-container-id-12 label.sk-toggleable__label-arrow:before {content: \"▸\";float: left;margin-right: 0.25em;color: #696969;}#sk-container-id-12 label.sk-toggleable__label-arrow:hover:before {color: black;}#sk-container-id-12 div.sk-estimator:hover label.sk-toggleable__label-arrow:before {color: black;}#sk-container-id-12 div.sk-toggleable__content {max-height: 0;max-width: 0;overflow: hidden;text-align: left;background-color: #f0f8ff;}#sk-container-id-12 div.sk-toggleable__content pre {margin: 0.2em;color: black;border-radius: 0.25em;background-color: #f0f8ff;}#sk-container-id-12 input.sk-toggleable__control:checked~div.sk-toggleable__content {max-height: 200px;max-width: 100%;overflow: auto;}#sk-container-id-12 input.sk-toggleable__control:checked~label.sk-toggleable__label-arrow:before {content: \"▾\";}#sk-container-id-12 div.sk-estimator input.sk-toggleable__control:checked~label.sk-toggleable__label {background-color: #d4ebff;}#sk-container-id-12 div.sk-label input.sk-toggleable__control:checked~label.sk-toggleable__label {background-color: #d4ebff;}#sk-container-id-12 input.sk-hidden--visually {border: 0;clip: rect(1px 1px 1px 1px);clip: rect(1px, 1px, 1px, 1px);height: 1px;margin: -1px;overflow: hidden;padding: 0;position: absolute;width: 1px;}#sk-container-id-12 div.sk-estimator {font-family: monospace;background-color: #f0f8ff;border: 1px dotted black;border-radius: 0.25em;box-sizing: border-box;margin-bottom: 0.5em;}#sk-container-id-12 div.sk-estimator:hover {background-color: #d4ebff;}#sk-container-id-12 div.sk-parallel-item::after {content: \"\";width: 100%;border-bottom: 1px solid gray;flex-grow: 1;}#sk-container-id-12 div.sk-label:hover label.sk-toggleable__label {background-color: #d4ebff;}#sk-container-id-12 div.sk-serial::before {content: \"\";position: absolute;border-left: 1px solid gray;box-sizing: border-box;top: 0;bottom: 0;left: 50%;z-index: 0;}#sk-container-id-12 div.sk-serial {display: flex;flex-direction: column;align-items: center;background-color: white;padding-right: 0.2em;padding-left: 0.2em;position: relative;}#sk-container-id-12 div.sk-item {position: relative;z-index: 1;}#sk-container-id-12 div.sk-parallel {display: flex;align-items: stretch;justify-content: center;background-color: white;position: relative;}#sk-container-id-12 div.sk-item::before, #sk-container-id-12 div.sk-parallel-item::before {content: \"\";position: absolute;border-left: 1px solid gray;box-sizing: border-box;top: 0;bottom: 0;left: 50%;z-index: -1;}#sk-container-id-12 div.sk-parallel-item {display: flex;flex-direction: column;z-index: 1;position: relative;background-color: white;}#sk-container-id-12 div.sk-parallel-item:first-child::after {align-self: flex-end;width: 50%;}#sk-container-id-12 div.sk-parallel-item:last-child::after {align-self: flex-start;width: 50%;}#sk-container-id-12 div.sk-parallel-item:only-child::after {width: 0;}#sk-container-id-12 div.sk-dashed-wrapped {border: 1px dashed gray;margin: 0 0.4em 0.5em 0.4em;box-sizing: border-box;padding-bottom: 0.4em;background-color: white;}#sk-container-id-12 div.sk-label label {font-family: monospace;font-weight: bold;display: inline-block;line-height: 1.2em;}#sk-container-id-12 div.sk-label-container {text-align: center;}#sk-container-id-12 div.sk-container {/* jupyter's `normalize.less` sets `[hidden] { display: none; }` but bootstrap.min.css set `[hidden] { display: none !important; }` so we also need the `!important` here to be able to override the default hidden behavior on the sphinx rendered scikit-learn.org. See: https://github.com/scikit-learn/scikit-learn/issues/21755 */display: inline-block !important;position: relative;}#sk-container-id-12 div.sk-text-repr-fallback {display: none;}</style><div id=\"sk-container-id-12\" class=\"sk-top-container\"><div class=\"sk-text-repr-fallback\"><pre>LogisticRegression(max_iter=10000)</pre><b>In a Jupyter environment, please rerun this cell to show the HTML representation or trust the notebook. <br />On GitHub, the HTML representation is unable to render, please try loading this page with nbviewer.org.</b></div><div class=\"sk-container\" hidden><div class=\"sk-item\"><div class=\"sk-estimator sk-toggleable\"><input class=\"sk-toggleable__control sk-hidden--visually\" id=\"sk-estimator-id-12\" type=\"checkbox\" checked><label for=\"sk-estimator-id-12\" class=\"sk-toggleable__label sk-toggleable__label-arrow\">LogisticRegression</label><div class=\"sk-toggleable__content\"><pre>LogisticRegression(max_iter=10000)</pre></div></div></div></div></div>"
      ],
      "text/plain": [
       "LogisticRegression(max_iter=10000)"
      ]
     },
     "execution_count": 214,
     "metadata": {},
     "output_type": "execute_result"
    }
   ],
   "source": [
    "pca = PCA(n_components = 2)\n",
    "x_train_pca = pca.fit_transform(x_train)\n",
    "\n",
    "model = LogisticRegression(max_iter=10000)\n",
    "model.fit(x_train_pca, categories)"
   ]
  },
  {
   "cell_type": "code",
   "execution_count": 215,
   "metadata": {},
   "outputs": [
    {
     "name": "stdout",
     "output_type": "stream",
     "text": [
      "0.23333333333333334\n"
     ]
    }
   ],
   "source": [
    "y_test = np.zeros(100)\n",
    "y_test = np.append(y_test, np.ones(100))\n",
    "y_test = np.append(y_test, 2 * np.ones(100))\n",
    "\n",
    "x_test_pca = pca.fit_transform(x_test)\n",
    "\n",
    "test_pred = model.predict(x_test_pca)\n",
    "accuracy = accuracy_score(test_pred, y_test)\n",
    "\n",
    "print(accuracy)"
   ]
  },
  {
   "cell_type": "code",
   "execution_count": 216,
   "metadata": {},
   "outputs": [
    {
     "name": "stdout",
     "output_type": "stream",
     "text": [
      "Notebook and files zipped into: amath_482_homework_2.zip\n"
     ]
    }
   ],
   "source": [
    "import zipfile\n",
    "import os\n",
    "\n",
    "# Define the paths\n",
    "notebook_name = \"amath_482_homework_2.ipynb\"  \n",
    "output_zip_name = \"amath_482_homework_2.zip\" \n",
    "\n",
    "# Initialize a ZipFile object\n",
    "with zipfile.ZipFile(output_zip_name, 'w', zipfile.ZIP_DEFLATED) as zipf:\n",
    "    # Add the notebook\n",
    "    zipf.write(notebook_name)\n",
    "    \n",
    "    for file_name in os.listdir():\n",
    "        if file_name != notebook_name and not file_name.endswith('.zip'):\n",
    "            zipf.write(file_name)\n",
    "\n",
    "print(f\"Notebook and files zipped into: {output_zip_name}\")"
   ]
  },
  {
   "cell_type": "code",
   "execution_count": 217,
   "metadata": {},
   "outputs": [],
   "source": [
    "import numpy.linalg"
   ]
  },
  {
   "cell_type": "code",
   "execution_count": 220,
   "metadata": {},
   "outputs": [
    {
     "name": "stdout",
     "output_type": "stream",
     "text": [
      "[-6.00000000e+00  1.20000000e+01 -5.68434189e-14]\n"
     ]
    }
   ],
   "source": [
    "A = np.array([[1, 1/2, 1/3], [1/2, 1/3, 1/4], [1/3, 1/4, 1/5]])\n",
    "b = np.array([0, 1, 1])\n",
    "\n",
    "A_inv = np.linalg.inv(A)\n",
    "\n",
    "print(np.dot(A_inv, b))"
   ]
  }
 ],
 "metadata": {
  "kernelspec": {
   "display_name": "base",
   "language": "python",
   "name": "python3"
  },
  "language_info": {
   "codemirror_mode": {
    "name": "ipython",
    "version": 3
   },
   "file_extension": ".py",
   "mimetype": "text/x-python",
   "name": "python",
   "nbconvert_exporter": "python",
   "pygments_lexer": "ipython3",
   "version": "3.11.4"
  }
 },
 "nbformat": 4,
 "nbformat_minor": 2
}
